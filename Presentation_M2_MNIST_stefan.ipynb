{
 "cells": [
  {
   "cell_type": "markdown",
   "metadata": {
    "id": "otvvAip7Kko3"
   },
   "source": [
    "# Semi-Supervised VAE Project\n",
    "## By VAEGen"
   ]
  },
  {
   "cell_type": "markdown",
   "metadata": {
    "id": "s_6l2tM9Kko4"
   },
   "source": [
    "## Setup"
   ]
  },
  {
   "cell_type": "markdown",
   "metadata": {
    "id": "LE0_IEDSKko4"
   },
   "source": [
    "### Import libraries"
   ]
  },
  {
   "cell_type": "code",
   "execution_count": 1,
   "metadata": {
    "executionInfo": {
     "elapsed": 5360,
     "status": "ok",
     "timestamp": 1607598007926,
     "user": {
      "displayName": "Stef Nah",
      "photoUrl": "",
      "userId": "06960433018826859038"
     },
     "user_tz": -60
    },
    "id": "cReuSxE4Kko4"
   },
   "outputs": [],
   "source": [
    "import os\n",
    "import time\n",
    "import torch\n",
    "import argparse\n",
    "from functools import reduce\n",
    "# \n",
    "import numpy as np\n",
    "import pandas as pd\n",
    "import seaborn as sns\n",
    "import matplotlib.pyplot as plt\n",
    "from collections import defaultdict\n",
    "\n",
    "import sklearn\n",
    "from sklearn.metrics import accuracy_score\n",
    "from sklearn.model_selection import train_test_split\n",
    "\n",
    "\n",
    "# Torch\n",
    "import torch\n",
    "from torch.distributions import Bernoulli\n",
    "from torch.utils.data import DataLoader\n",
    "from torch.utils.data.sampler import SubsetRandomSampler\n",
    "import torch.nn.functional as F\n",
    "\n",
    "# Torchvision\n",
    "import torchvision\n",
    "from torchvision import transforms\n",
    "from torchvision.datasets import MNIST\n",
    "from torchvision.datasets import FashionMNIST\n",
    "from torchvision.transforms import ToTensor"
   ]
  },
  {
   "cell_type": "markdown",
   "metadata": {
    "id": "VHgNhco8Kko5"
   },
   "source": [
    "### Meta parameters"
   ]
  },
  {
   "cell_type": "code",
   "execution_count": 2,
   "metadata": {
    "executionInfo": {
     "elapsed": 5358,
     "status": "ok",
     "timestamp": 1607598007932,
     "user": {
      "displayName": "Stef Nah",
      "photoUrl": "",
      "userId": "06960433018826859038"
     },
     "user_tz": -60
    },
    "id": "d11hjw8zKko5"
   },
   "outputs": [],
   "source": [
    "batch_size = 512\n",
    "learning_rate = 1e-3\n",
    "latent_dim = 8\n",
    "device = torch.device('cuda' if torch.cuda.is_available() else 'cpu')\n",
    "#print layers, used for debugging\n",
    "NNprint_ = False\n",
    "classes = [0,1,2,3,4,5,6,7,8,9]\n",
    "num_classes=len(classes)"
   ]
  },
  {
   "cell_type": "markdown",
   "metadata": {
    "id": "eauQ5ER9Kko5"
   },
   "source": [
    "### Import MNIST Dataset"
   ]
  },
  {
   "cell_type": "code",
   "execution_count": 3,
   "metadata": {
    "colab": {
     "base_uri": "https://localhost:8080/",
     "height": 408,
     "referenced_widgets": [
      "628a83b06d204fc0a7eb814bb61fe4a8",
      "3bd1b2e54efe405fa27c1a8e540d3950",
      "7a890a2e20574490a42356e8b27bc5ff",
      "ed33e2bef7204891b8a94f3f041a9a95",
      "d5d6d36c4b5c47b6b300fcdb6fbf0518",
      "cb3aee5dc0424891b85960acc01de1c8",
      "24db77041f0a4414a97da95381f23959",
      "dfe8ef82ba9b48679a70d89777d59b0b",
      "7bd1569206ee4f379080579656d92919",
      "ed0304f32c574698a33ad7601f220f76",
      "51376a4333654152826c7212ba2ce3ac",
      "9db1132c0ed64d498cb0a4fe914bc2d7",
      "8469311d66c0442e920285b95adfa331",
      "fcb90c87feca40d1ba659d677cade272",
      "b68bbf7e32be446e96435947ecebeb37",
      "8e5ec353ee384f4785b3882703fc5786",
      "b6afc7f787504d50ae981c3aae0c1063",
      "9ba8cb7b6cd743a0a9c1e2367ac48bcf",
      "bcec0ffff45b40d1b783e08b289a7847",
      "d303b32abc3142929b848f7426184d86",
      "420b0849faad4b11bfdbe44ed1c5bfb7",
      "a2538db820fc420ea8f2359f3074461a",
      "480e2f15f0ff4382957c09f98870bfbb",
      "2da846a0746e4881a8fbb87563e696a9",
      "1f2f364d1a2a4ab8967ab3f0d9065ec9",
      "f5ad3ea7664d477295117d0b1d3e306c",
      "e9c825d8315046b8a01d8e174145f996",
      "8356491a3f9a456382b3d2c033629b13",
      "15664a985d81419982b66ba9dbe45ac0",
      "fa25cd22ceb64c058a8b7bbfae59965b",
      "f785534bf5c84181a3512611f603cddb",
      "6cad24b0683842f6ad4c8f204b2005c0"
     ]
    },
    "executionInfo": {
     "elapsed": 8262,
     "status": "ok",
     "timestamp": 1607598010840,
     "user": {
      "displayName": "Stef Nah",
      "photoUrl": "",
      "userId": "06960433018826859038"
     },
     "user_tz": -60
    },
    "id": "ONqyOK32Kko5",
    "outputId": "c8c5a507-2651-4478-f931-4158c4ea6e4f"
   },
   "outputs": [],
   "source": [
    "# transforms arrays into tensors, can be extended\n",
    "transformations = transforms.Compose([\n",
    "                          transforms.ToTensor(),\n",
    "                          transforms.Lambda(lambda p: Bernoulli(probs=p).sample())])\n",
    "\n",
    "# define the train and test sets\n",
    "dset_train = MNIST(root='data', train=True,  transform=transformations, download=True)\n",
    "dset_test  = MNIST(root='data', train=False, transform=transformations)\n",
    "\n",
    "def stratified_sampler(labels,classes):\n",
    "    \"\"\"Sampler that only picks datapoints corresponding to the specified classes\"\"\"\n",
    "    (indices,) = np.where(reduce(lambda x, y: x | y, [labels.numpy() == i for i in classes]))\n",
    "    indices = torch.from_numpy(indices)\n",
    "    return SubsetRandomSampler(indices)"
   ]
  },
  {
   "cell_type": "markdown",
   "metadata": {
    "id": "oosmUp4VvRGE"
   },
   "source": [
    "### Configure loaders"
   ]
  },
  {
   "cell_type": "code",
   "execution_count": 4,
   "metadata": {
    "executionInfo": {
     "elapsed": 8259,
     "status": "ok",
     "timestamp": 1607598010841,
     "user": {
      "displayName": "Stef Nah",
      "photoUrl": "",
      "userId": "06960433018826859038"
     },
     "user_tz": -60
    },
    "id": "lurz6iXKkMRh"
   },
   "outputs": [],
   "source": [
    "def get_target_indexes(dset, classes, n_examples):\n",
    "  \"\"\"Get indexes for n_examples of class in classes from dataset\n",
    "\n",
    "  The returned indexes may be used for subsetting a dataset, e.g.\n",
    "  if we just want classes 0, 1 and 2 and 10 examples of each.\n",
    "  \"\"\"\n",
    "  idxs = []\n",
    "  ts = []\n",
    "  n_samples = n_examples * len(classes)\n",
    "\n",
    "  for j, x in enumerate(dset.targets):\n",
    "    if (ts.count(x.numpy()) < n_examples) and (x.numpy() in classes):\n",
    "      ts.append(x.numpy())\n",
    "      idxs.append(j)\n",
    "\n",
    "    if len(idxs) == n_samples:\n",
    "      break\n",
    "\n",
    "  return idxs"
   ]
  },
  {
   "cell_type": "code",
   "execution_count": 5,
   "metadata": {
    "colab": {
     "base_uri": "https://localhost:8080/"
    },
    "executionInfo": {
     "elapsed": 9094,
     "status": "ok",
     "timestamp": 1607598011679,
     "user": {
      "displayName": "Stef Nah",
      "photoUrl": "",
      "userId": "06960433018826859038"
     },
     "user_tz": -60
    },
    "id": "wzXtayd3mZl1",
    "outputId": "4f8bc1e8-54f4-499c-fcef-b86bb451ba4c"
   },
   "outputs": [],
   "source": [
    "# The loaders perform the actual work\n",
    "train_loader = DataLoader(dset_train, batch_size=batch_size,\n",
    "                          sampler=stratified_sampler(dset_train.targets,classes))\n",
    "test_loader  = DataLoader(dset_test, batch_size=batch_size, \n",
    "                          sampler=stratified_sampler(dset_test.targets,classes))\n",
    "\n",
    "# subset training data\n",
    "idx_train_subset = get_target_indexes(dset_train, classes, 100)\n",
    "dset_train_subset = torch.utils.data.Subset(dset_train, idx_train_subset)\n",
    "\n",
    "dset_train_subset_loader = torch.utils.data.DataLoader(\n",
    "  dset_train_subset,\n",
    "  batch_size=batch_size)\n",
    "\n",
    "# subset test data\n",
    "idx_test_subset = get_target_indexes(dset_test, classes, 100)\n",
    "dset_test_subset = torch.utils.data.Subset(dset_test, idx_test_subset)\n",
    "\n",
    "dset_test_subset_loader = torch.utils.data.DataLoader(\n",
    "  dset_test_subset,\n",
    "  batch_size=batch_size)"
   ]
  },
  {
   "cell_type": "markdown",
   "metadata": {
    "id": "oI7Erbs8Kko5"
   },
   "source": [
    "### Plot examples"
   ]
  },
  {
   "cell_type": "code",
   "execution_count": 6,
   "metadata": {
    "executionInfo": {
     "elapsed": 9094,
     "status": "ok",
     "timestamp": 1607598011681,
     "user": {
      "displayName": "Stef Nah",
      "photoUrl": "",
      "userId": "06960433018826859038"
     },
     "user_tz": -60
    },
    "id": "fYOI8c1KKko5"
   },
   "outputs": [],
   "source": [
    "examples = enumerate(test_loader)\n",
    "batch_idx, (example_data, example_targets) = next(examples)\n",
    "image_channels = example_data.size(1)\n",
    "\n",
    "def plot_examples(model=None,sample=False,data=None,y=torch.arange(len(classes)-1)):\n",
    "    if data is None:\n",
    "        if (model==None):\n",
    "            batch_idx, (data, example_targets) = next(examples)\n",
    "        else:\n",
    "            if sample:\n",
    "                data = model.sample(y=y)[\"xr\"]\n",
    "            else:\n",
    "                data = model(data.to(device),example_targets)[0]\n",
    "        \n",
    "    fig = plt.figure()\n",
    "    fig.set_figheight(15)\n",
    "    fig.set_figwidth(15)\n",
    "    for i in range(min(data.size(0),64)):\n",
    "        plt.subplot(8,8,i+1)\n",
    "        plt.tight_layout()\n",
    "        if model:\n",
    "            plt.imshow(data[i][0].cpu().data,  interpolation='none')\n",
    "        else:\n",
    "            plt.imshow(data[i][0], interpolation='none')\n",
    "    #     plt.title(\"Ground Truth: {}\".format(example_targets[i]))\n",
    "        plt.xticks([])\n",
    "        plt.yticks([])"
   ]
  },
  {
   "cell_type": "code",
   "execution_count": 7,
   "metadata": {
    "colab": {
     "base_uri": "https://localhost:8080/",
     "height": 951
    },
    "executionInfo": {
     "elapsed": 18919,
     "status": "ok",
     "timestamp": 1607598021520,
     "user": {
      "displayName": "Stef Nah",
      "photoUrl": "",
      "userId": "06960433018826859038"
     },
     "user_tz": -60
    },
    "id": "wvcJsHB3Kko5",
    "outputId": "5ff7574b-72b7-40c2-8984-9224bcc3c02f"
   },
   "outputs": [
    {
     "data": {
      "image/png": "[encoded data removed]",
      "text/plain": [
       "<Figure size 1080x1080 with 64 Axes>"
      ]
     },
     "metadata": {},
     "output_type": "display_data"
    }
   ],
   "source": [
    "plot_examples()"
   ]
  },
  {
   "cell_type": "markdown",
   "metadata": {
    "id": "5-Qm0DN-Kko8"
   },
   "source": [
    "### Torch auxiliary modules"
   ]
  },
  {
   "cell_type": "code",
   "execution_count": 8,
   "metadata": {
    "executionInfo": {
     "elapsed": 18919,
     "status": "ok",
     "timestamp": 1607598021523,
     "user": {
      "displayName": "Stef Nah",
      "photoUrl": "",
      "userId": "06960433018826859038"
     },
     "user_tz": -60
    },
    "id": "qnuEiSNKKko8"
   },
   "outputs": [],
   "source": [
    "class Flatten(torch.nn.Module):\n",
    "    def forward(self, input):\n",
    "        return input.view(input.size(0), -1)\n",
    "    \n",
    "class UnFlatten(torch.nn.Module):\n",
    "    def forward(self, input, size=1024):\n",
    "        return input.view(input.size(0), size, 1, 1)\n",
    "\n",
    "    \n",
    "class UnFlatten_FF(torch.nn.Module):\n",
    "    def forward(self, input, size=784):\n",
    "        return input.view(-1,1,28,28)\n",
    "   \n",
    "# Debugging module \n",
    "class NNprint(torch.nn.Module):\n",
    "    def forward(self, input):\n",
    "        if NNprint_==True:\n",
    "            print(input.shape)\n",
    "        return input\n",
    "\n",
    "def reduce_sum(x: torch.Tensor) -> torch.Tensor:\n",
    "    \"\"\"for each datapoint: sum over all dimensions\"\"\"\n",
    "    return x.view(x.size(0), -1).sum(dim=1)"
   ]
  },
  {
   "cell_type": "markdown",
   "metadata": {
    "id": "HgFTrYxPmmW9"
   },
   "source": [
    "# Semi-supervised Convolutional CVAE"
   ]
  },
  {
   "cell_type": "code",
   "execution_count": 9,
   "metadata": {
    "colab": {
     "base_uri": "https://localhost:8080/",
     "height": 337
    },
    "executionInfo": {
     "elapsed": 30812,
     "status": "ok",
     "timestamp": 1607598033426,
     "user": {
      "displayName": "Stef Nah",
      "photoUrl": "",
      "userId": "06960433018826859038"
     },
     "user_tz": -60
    },
    "id": "IOcOsDTCme2D",
    "outputId": "b8eac43a-e97f-424e-a2a9-5fdf7f69b9bb"
   },
   "outputs": [
    {
     "name": "stderr",
     "output_type": "stream",
     "text": [
      "/home/slangen/Documents/deep/lib/python3.6/site-packages/torch/nn/_reduction.py:44: UserWarning: size_average and reduce args will be deprecated, please use reduction='none' instead.\n",
      "  warnings.warn(warning.format(ret))\n"
     ]
    },
    {
     "data": {
      "text/plain": [
       "<matplotlib.image.AxesImage at 0x7f9be21ffa20>"
      ]
     },
     "execution_count": 9,
     "metadata": {},
     "output_type": "execute_result"
    },
    {
     "data": {
      "image/png": "[encoded data removed]",
      "text/plain": [
       "<Figure size 432x288 with 1 Axes>"
      ]
     },
     "metadata": {
      "needs_background": "light"
     },
     "output_type": "display_data"
    }
   ],
   "source": [
    "class M2(torch.nn.Module):\n",
    "    def __init__(self, image_channels=1, h_dim=1024, z_dim=32, num_labels=0):\n",
    "        super(M2, self).__init__()\n",
    "        self.h_dim = h_dim\n",
    "        self.z_dim = z_dim\n",
    "        self.num_labels=num_labels\n",
    "\n",
    "        self.encoder = torch.nn.Sequential(\n",
    "            torch.nn.Conv2d(image_channels, 32, kernel_size=3, stride=2),\n",
    "            torch.nn.LeakyReLU(),\n",
    "            torch.nn.Conv2d(32, 64, kernel_size=3, stride=2),\n",
    "            torch.nn.LeakyReLU(),\n",
    "            torch.nn.Dropout2d(p=.2),\n",
    "            torch.nn.Conv2d(64, 128, kernel_size=3, stride=1),\n",
    "            torch.nn.LeakyReLU(),\n",
    "            torch.nn.Dropout2d(p=.2),\n",
    "            torch.nn.Conv2d(128, 256, kernel_size=3, stride=1),\n",
    "            torch.nn.LeakyReLU(),\n",
    "            Flatten(),\n",
    "            torch.nn.Linear(h_dim,h_dim),\n",
    "            torch.nn.LeakyReLU()\n",
    "        )\n",
    "\n",
    "        self.mu = torch.nn.Linear(h_dim + num_labels, z_dim) # mean \n",
    "        self.logsigma = torch.nn.Linear(h_dim + num_labels, z_dim) # standard deviation\n",
    "        self.upscale_z = torch.nn.Linear(z_dim+num_labels, h_dim)\n",
    "\n",
    "\n",
    "        self.decoder = torch.nn.Sequential(\n",
    "            torch.nn.Linear(h_dim,h_dim),\n",
    "            torch.nn.LeakyReLU(),\n",
    "            UnFlatten(),\n",
    "            torch.nn.ConvTranspose2d(h_dim, 128, kernel_size=4, stride=2),\n",
    "            torch.nn.LeakyReLU(),\n",
    "            torch.nn.Dropout2d(p=.2),\n",
    "            torch.nn.ConvTranspose2d(128, 64, kernel_size=5, stride=2),\n",
    "            torch.nn.LeakyReLU(),\n",
    "            torch.nn.Dropout2d(p=.2),\n",
    "            torch.nn.ConvTranspose2d(\n",
    "                64, 32, kernel_size=4, padding=0, stride=2),\n",
    "            torch.nn.LeakyReLU(),\n",
    "            torch.nn.ConvTranspose2d(\n",
    "                32, image_channels, kernel_size=5, stride=1),\n",
    "            torch.nn.Sigmoid()\n",
    "        )\n",
    "\n",
    "        # simple FFNN classifier\n",
    "        # input: flattened vector, output: probability of each class\n",
    "        # TODO: implement CNN classifier\n",
    "        self.classifier = torch.nn.Sequential(\n",
    "            Flatten(),\n",
    "            torch.nn.Linear(784, 512),\n",
    "            torch.nn.ReLU(),\n",
    "            torch.nn.Linear(512, 256),\n",
    "            torch.nn.ReLU(),\n",
    "            torch.nn.Linear(256, self.num_labels), # 3 output layer\n",
    "            torch.nn.Softmax(dim=1)\n",
    "        )\n",
    "        \n",
    "    def reparameterize(self, mu, logvar):\n",
    "        std = logvar.exp()\n",
    "        eps = torch.randn(*mu.size())\n",
    "        z = mu.to(device) + std.to(device) * eps.to(device)\n",
    "        return z\n",
    "\n",
    "    def encode(self, x, y):\n",
    "        # pass x through conv encoder and flatten output to obtain h\n",
    "        # n.b. normally [x,y] would be encoded, but this is not possible with a\n",
    "        # CNN architecture\n",
    "        h = self.encoder(x)\n",
    "\n",
    "        # concat y (labels) to h, to place in latent space\n",
    "        h = torch.cat((h, torch.nn.functional.one_hot(y, self.num_labels).type(torch.float).to(device)), 1)\n",
    "\n",
    "        # fc1 encodes [h,y] into mu; fc2 encodes [h,y] into logvar\n",
    "        mu, logvar = self.mu(h), self.logsigma(h) # use relu to prevent negative values\n",
    "        \n",
    "        return mu, logvar\n",
    "\n",
    "    def decode(self, z, y):\n",
    "        # concat y (labels) to z_lab, to place in latent space\n",
    "        z_y = torch.cat((z, torch.nn.functional.one_hot(y, self.num_labels).type(torch.float).to(device)), 1)\n",
    "        \n",
    "        # upscale [z,y] to h_dim\n",
    "        h = self.upscale_z(z_y)\n",
    "\n",
    "        # decode upscaled [z,y] to x_recon\n",
    "        x_recon = self.decoder(h)\n",
    "        return x_recon\n",
    "    \n",
    "    def forward(self, x_labelled, x_unlabelled, y):\n",
    "        # labeled case ########################################################\n",
    "        # encode [x_labelled,y] to mu_lab and logvar_lab\n",
    "        mu_lab, logvar_lab = self.encode(x_labelled, y)\n",
    "        \n",
    "        # sample z_lab using mu_lab and logvar_lab\n",
    "        z_lab = self.reparameterize(mu_lab, logvar_lab)\n",
    "\n",
    "        # decode [z_lab,y] to get reconstruction\n",
    "        x_lab_recon = self.decode(z_lab, y)\n",
    "\n",
    "\n",
    "        # classification ######################################################\n",
    "        # labelled case - this is used for the classification objective loss\n",
    "        y_labelled_pred = self.classifier(x_labelled)\n",
    "\n",
    "        # unlabelled case - predict a y for the entropy term, H(q(y|x))\n",
    "        y_unlabelled_pred = self.classifier(x_unlabelled)\n",
    "\n",
    "        # unlabeled case ######################################################\n",
    "        # integrate over y -- i.e. perform generation and inference for any \n",
    "        # possible class of y. Then calculate loss for any case\n",
    "        # We do this by tiling x_unlabelled and y, then concat for parallelism\n",
    "\n",
    "        # TODO: repeat copies the data, so there might be a less expensive way to do this\n",
    "        x_unlab_tiled = x_unlabelled.repeat(self.num_labels,1,1,1)\n",
    "        # tensor of class labels [0,1,2,3,4,5,6,7,8,9], repeated for number of datapoints as [0_0,0_1,0_n, ...]\n",
    "        y_unlab_tiled = torch.repeat_interleave(torch.arange(self.num_labels), x_unlabelled.shape[0])\n",
    "\n",
    "        # encode x_unlab and y_unlab to mu_unlab and logvar_unlab\n",
    "        mu_unlab, logvar_unlab = self.encode(x_unlab_tiled, y_unlab_tiled)\n",
    "\n",
    "        # sample z_unlab via mu_unlab and logvar_unlab\n",
    "        z_unlab = self.reparameterize(mu_unlab, logvar_unlab)\n",
    "\n",
    "        # decode [z_unlab,y_unlab] to get reconstruction\n",
    "        x_unlab_recon = self.decode(z_unlab, y_unlab_tiled)\n",
    "\n",
    "        # TODO: Find better solution\n",
    "        return {'L' : (mu_lab, logvar_lab, z_lab, x_lab_recon, y_labelled_pred), \\\n",
    "                'U' : (mu_unlab, logvar_unlab, z_unlab, x_unlab_recon, y_unlabelled_pred)}\n",
    "    \n",
    "    def log_prob_gaussian(self, x, mu, log_sigma):\n",
    "      eps = 1e-10\n",
    "      sigma = log_sigma.exp()\n",
    "      logprob = -torch.log(sigma * np.sqrt(2*np.pi) + eps) - 0.5 * ((x - mu)/sigma)**2\n",
    "      return logprob\n",
    "\n",
    "    def Lb(self, x, x_recon, yp, z, mu, logvar):\n",
    "      \"\"\"Calculate lower bound, -L(x,y)\n",
    "\n",
    "      -L(x,y) is used to calculate loss for both the Labelled and Unlabelled case\n",
    "\n",
    "      Formula:\n",
    "        -L(x,y) = E_q(z|x,y) [ logp(x|y,z) + logp(y) + logp(z) - logq(z|x,y) ]\n",
    "\n",
    "      Returns\n",
    "        Lower bound. Should return negative value.\n",
    "        For loss: change sign (so loss is positive) and take mean of batch to minimize\n",
    "      \"\"\"\n",
    "      logpx = -F.binary_cross_entropy(x_recon, x.to(device), size_average=False, reduce=False) # negate or not?\n",
    "      logpx = reduce_sum(logpx) # sum loss per datapoint, but not over batch\n",
    "      logpy = torch.log(yp) # natural log, ln\n",
    "      logpz = reduce_sum(self.log_prob_gaussian(z, torch.zeros_like(z), torch.ones_like(z))) # logprob Gaussian for z, 0, I # suspect\n",
    "      logqz = reduce_sum(self.log_prob_gaussian(z, mu, logvar)) # logprob Gaussian for z, mu, logvar\n",
    "      lower_bound = logpx + logpy + logpz - logqz\n",
    "      return lower_bound # N.B. we don't take the mean here!\n",
    "\n",
    "    def H(self, p):\n",
    "      \"\"\"Calculate Entropy, H(p)\n",
    "      Where\n",
    "        H(p) = -∑p(i) * log(p(i))\n",
    "      \"\"\"\n",
    "      eps = 1e-10\n",
    "      return -torch.sum((p * torch.log(p + eps)), dim=1)\n",
    "\n",
    "    def J_alpha(self, x_labelled, y_labelled, x_unlabelled, Ls, Us, alpha=.1):\n",
    "      \"\"\"Calculate loss as J_alpha\n",
    "\n",
    "      J_alpha = J + alpha * C\n",
    "\n",
    "      Where\n",
    "        J = ∑L(x,y) + ∑U(x)\n",
    "        -L(x,y) = E_q(z|x,y)[logp(x|y,z) + logp(y) + logp(z) - logq(z|x,y)]\n",
    "        -U(x) = ∑_y q(y|x)(-L(x,y)) + H(q(y|x))\n",
    "        C = E_p(x,y) [-logq(y|x)]\n",
    "      \"\"\"\n",
    "      # labelled loss ##########################################################\n",
    "      mu, logvar = Ls[0], Ls[1]\n",
    "      z = Ls[2]\n",
    "      x_recon = Ls[3]\n",
    "      # y_prob is just a uniform dist over the labels, i.e. 1/n prob per class\n",
    "      y_prob = torch.Tensor([(1/self.num_labels)]).to(device)\n",
    "\n",
    "      # -L(x,y), note the sign\n",
    "      Lxy = self.Lb(x_labelled, x_recon, y_prob, z, mu, logvar) # (10,), when using 10% labelled data\n",
    "      \n",
    "      # unlabelled loss ########################################################\n",
    "      mu, logvar = Us[0], Us[1]\n",
    "      z = Us[2]\n",
    "      x_recon = Us[3]\n",
    "      # y_prob is just a uniform dist over the labels, i.e. 1/n prob per class\n",
    "      y_prob = torch.Tensor([(1/self.num_labels)]).to(device)\n",
    "      \n",
    "      # use list comprehension to get probabilities for class i for an entire batch\n",
    "      # i.e. first probs for class == 0, then class == 1, etc.\n",
    "      # y_pred_tiled = torch.cat([y_pred[:,i] for i in range(self.num_labels)])\n",
    "\n",
    "      # integrate over y\n",
    "      y_pred = Us[4]\n",
    "      tiled_size = x_recon.shape[0]\n",
    "      batch_size = y_pred.shape[0]\n",
    "      n_classes = int(tiled_size/batch_size)\n",
    "      U = torch.zeros(batch_size).to(device) # (90,), # when using 90% labelled data\n",
    "      # iterate over tiles, i.e. ∑y q(y|x)(-L(x,y))\n",
    "      for i in range(n_classes):\n",
    "        # indexes for slicing\n",
    "        l = i*y_pred.shape[0]\n",
    "        r = l+y_pred.shape[0]\n",
    "        # y_slice, i.e. y_pred should be shape (batch,n_classes)\n",
    "        y_slice = y_pred[:,i] # probabilities for class i for whole batch (batch,) = (90,)\n",
    "        # -L(x,y), note the sign\n",
    "        Luxy = self.Lb(x_unlabelled, x_recon[l:r,:], y_prob, z[l:r], mu[l:r,:], logvar[l:r,:]) # (batch,) = (90,)\n",
    "        U += (y_slice * Luxy) # (batch,) = (90,)\n",
    "      \n",
    "      # add entropy H to each datapoint (which is summed over y's in loop above)\n",
    "      H = self.H(y_pred) # (batch,) = (90,)\n",
    "      U = U + H # no mean yet, because we are still doing computing per datapoint\n",
    "      \n",
    "      # classification loss ####################################################\n",
    "      y = y_labelled\n",
    "      y_labelled_pred = Ls[4]\n",
    "      C = F.cross_entropy(y_labelled_pred, y, reduce=False)\n",
    "      \n",
    "      # final loss #############################################################\n",
    "      J = -Lxy.mean() + -U.mean()\n",
    "      Ja = J + alpha * C.mean()\n",
    "      return Ja\n",
    "\n",
    "\n",
    "    def sample(self, y: torch.Tensor()):\n",
    "        \"\"\"Sample z, conditioning on y and reconstruct\n",
    "\n",
    "        y : torch.int64\n",
    "        \"\"\"\n",
    "        batch_size = y.size(0)\n",
    "\n",
    "        # sample z ~ N(0,I)\n",
    "        mu, logvar = torch.zeros((batch_size, self.z_dim)), torch.ones(\n",
    "            batch_size, self.z_dim)\n",
    "        \n",
    "        z = self.reparameterize(mu, logvar)\n",
    "\n",
    "        # decode sampled z with condition\n",
    "        x_recon = self.decode(z, y)\n",
    "        return {\"xr\" : x_recon.detach(), \"z\" : z.detach()} # no gradient_fn\n",
    "\n",
    "# test model\n",
    "model = M2(image_channels=image_channels, h_dim=1024, z_dim=latent_dim, num_labels=num_classes).to(device)\n",
    "# print(\"Model\\n\", model)\n",
    "\n",
    "# test forward-pass\n",
    "split_by = int(batch_size/10)\n",
    "x_l = example_data[:split_by].to(device)\n",
    "y_l = example_targets[:split_by].to(device)\n",
    "x_u = example_data[split_by:].to(device)\n",
    "out_fpass = model(x_l, x_u, y_l)\n",
    "\n",
    "# test loss\n",
    "loss = model.J_alpha(x_l, y_l, x_u, out_fpass['L'], out_fpass['U'])\n",
    "# print(\"Loss (should be positive, so we can minimize it)\\n\", loss)\n",
    "\n",
    "# test sample\n",
    "x_recon = model.sample(y=torch.arange(len(classes)-1))[\"xr\"]\n",
    "\n",
    "plt.imshow(x_recon[0][0].cpu(), interpolation='none')"
   ]
  },
  {
   "cell_type": "code",
   "execution_count": 10,
   "metadata": {
    "executionInfo": {
     "elapsed": 31114,
     "status": "ok",
     "timestamp": 1607598033731,
     "user": {
      "displayName": "Stef Nah",
      "photoUrl": "",
      "userId": "06960433018826859038"
     },
     "user_tz": -60
    },
    "id": "oJVZdVuqKko9"
   },
   "outputs": [],
   "source": [
    "def fit_model(model, train_loader):\n",
    "    model.train()\n",
    "    running_loss = 0.0\n",
    "    running_acc = 0.0\n",
    "    \n",
    "    # Run each batch in training dataset\n",
    "    for idx, (images, labels) in enumerate(train_loader):\n",
    "        # split in labelled / unlabelled\n",
    "        x_u, x_l = train_test_split(images, test_size=0.1, shuffle=True, random_state=42)\n",
    "        x_u, x_l = x_u.to(device), x_l.to(device)\n",
    "        y_u, y_l = train_test_split(labels, test_size=0.1, shuffle=True, random_state=42)\n",
    "        y_u, y_l = y_u.to(device), y_l.to(device)\n",
    "        \n",
    "        out_fpass = model(x_l, x_u, y_l)\n",
    "        \n",
    "        y_pred = out_fpass[\"L\"][4].detach().cpu().numpy()\n",
    "        y_pred = np.argmax(y_pred, axis=1)\n",
    "        acc = accuracy_score(y_l.cpu().numpy(), y_pred)\n",
    "        loss = model.J_alpha(x_l, y_l, x_u, out_fpass['L'], out_fpass['U'])\n",
    "        \n",
    "        optimizer.zero_grad()\n",
    "        loss.backward()\n",
    "        optimizer.step()\n",
    "        \n",
    "        running_loss += loss\n",
    "        running_acc += acc\n",
    "    \n",
    "    loss_mean = running_loss/len(train_loader)\n",
    "    acc_mean = running_acc/len(train_loader)\n",
    "    return loss_mean, acc_mean\n",
    "    \n",
    "\n",
    "def test_model(model, test_loader):\n",
    "    model.eval()\n",
    "    running_loss = 0.0\n",
    "    running_acc = 0.0\n",
    "\n",
    "    with torch.no_grad():\n",
    "        for idx, (images, labels) in enumerate(test_loader):\n",
    "            # split in labelled / unlabelled\n",
    "            x_u, x_l = train_test_split(images, test_size=0.1, shuffle=True, random_state=42)\n",
    "            x_u, x_l = x_u.to(device), x_l.to(device)\n",
    "            y_u, y_l = train_test_split(labels, test_size=0.1, shuffle=True, random_state=42)\n",
    "            y_u, y_l = y_u.to(device), y_l.to(device)\n",
    "\n",
    "            out_fpass = model(x_l, x_u, y_l)\n",
    "\n",
    "            y_pred = out_fpass[\"L\"][4].detach().cpu().numpy()\n",
    "            y_pred = np.argmax(y_pred, axis=1)\n",
    "            acc = accuracy_score(y_l.cpu().numpy(), y_pred)\n",
    "            \n",
    "            loss = model.J_alpha(x_l, y_l, x_u, out_fpass['L'], out_fpass['U'])\n",
    "            \n",
    "            running_loss += loss\n",
    "            running_acc += acc\n",
    "\n",
    "    loss_mean = running_loss/len(test_loader)\n",
    "    acc_mean = running_acc/len(test_loader)\n",
    "    return loss_mean, acc_mean"
   ]
  },
  {
   "cell_type": "code",
   "execution_count": 11,
   "metadata": {
    "executionInfo": {
     "elapsed": 31113,
     "status": "ok",
     "timestamp": 1607598033733,
     "user": {
      "displayName": "Stef Nah",
      "photoUrl": "",
      "userId": "06960433018826859038"
     },
     "user_tz": -60
    },
    "id": "yVU_kmbY5Hri"
   },
   "outputs": [],
   "source": [
    "model = M2(image_channels=image_channels, h_dim=1024, z_dim=latent_dim, num_labels=num_classes).to(device)\n",
    "optimizer = torch.optim.Adam(model.parameters(), lr=learning_rate)"
   ]
  },
  {
   "cell_type": "code",
   "execution_count": 12,
   "metadata": {
    "executionInfo": {
     "elapsed": 31113,
     "status": "ok",
     "timestamp": 1607598033735,
     "user": {
      "displayName": "Stef Nah",
      "photoUrl": "",
      "userId": "06960433018826859038"
     },
     "user_tz": -60
    },
    "id": "wLyhZhC6Lm0g"
   },
   "outputs": [],
   "source": [
    "train_loss = []\n",
    "train_acc = []\n",
    "test_loss = []\n",
    "test_acc = []"
   ]
  },
  {
   "cell_type": "code",
   "execution_count": 13,
   "metadata": {
    "colab": {
     "base_uri": "https://localhost:8080/"
    },
    "id": "cJney_KTKko9",
    "outputId": "f0909a33-1115-4c2c-f652-7cf51726c329"
   },
   "outputs": [
    {
     "name": "stdout",
     "output_type": "stream",
     "text": [
      "Epoch 1 of 5\n",
      "\t Training ...\n"
     ]
    },
    {
     "ename": "RuntimeError",
     "evalue": "CUDA out of memory. Tried to allocate 42.00 MiB (GPU 0; 2.95 GiB total capacity; 1.79 GiB already allocated; 31.31 MiB free; 1.81 GiB reserved in total by PyTorch)",
     "output_type": "error",
     "traceback": [
      "\u001b[0;31m---------------------------------------------------------------------------\u001b[0m",
      "\u001b[0;31mRuntimeError\u001b[0m                              Traceback (most recent call last)",
      "\u001b[0;32m<ipython-input-13-a524116d0c56>\u001b[0m in \u001b[0;36m<module>\u001b[0;34m\u001b[0m\n\u001b[1;32m      6\u001b[0m     \u001b[0mprint\u001b[0m\u001b[0;34m(\u001b[0m\u001b[0;34m\"\\t Training ...\"\u001b[0m\u001b[0;34m)\u001b[0m\u001b[0;34m\u001b[0m\u001b[0;34m\u001b[0m\u001b[0m\n\u001b[1;32m      7\u001b[0m \u001b[0;31m#     train_epoch_loss, train_epoch_acc = fit_model(model, train_loader)\u001b[0m\u001b[0;34m\u001b[0m\u001b[0;34m\u001b[0m\u001b[0;34m\u001b[0m\u001b[0m\n\u001b[0;32m----> 8\u001b[0;31m     \u001b[0mtrain_epoch_loss\u001b[0m\u001b[0;34m,\u001b[0m \u001b[0mtrain_epoch_acc\u001b[0m \u001b[0;34m=\u001b[0m \u001b[0mfit_model\u001b[0m\u001b[0;34m(\u001b[0m\u001b[0mmodel\u001b[0m\u001b[0;34m,\u001b[0m \u001b[0mdset_train_subset_loader\u001b[0m\u001b[0;34m)\u001b[0m\u001b[0;34m\u001b[0m\u001b[0;34m\u001b[0m\u001b[0m\n\u001b[0m\u001b[1;32m      9\u001b[0m \u001b[0;34m\u001b[0m\u001b[0m\n\u001b[1;32m     10\u001b[0m     \u001b[0mprint\u001b[0m\u001b[0;34m(\u001b[0m\u001b[0;34m\"\\t Testing ...\"\u001b[0m\u001b[0;34m)\u001b[0m\u001b[0;34m\u001b[0m\u001b[0;34m\u001b[0m\u001b[0m\n",
      "\u001b[0;32m<ipython-input-10-67ae05fa75af>\u001b[0m in \u001b[0;36mfit_model\u001b[0;34m(model, train_loader)\u001b[0m\n\u001b[1;32m     12\u001b[0m         \u001b[0my_u\u001b[0m\u001b[0;34m,\u001b[0m \u001b[0my_l\u001b[0m \u001b[0;34m=\u001b[0m \u001b[0my_u\u001b[0m\u001b[0;34m.\u001b[0m\u001b[0mto\u001b[0m\u001b[0;34m(\u001b[0m\u001b[0mdevice\u001b[0m\u001b[0;34m)\u001b[0m\u001b[0;34m,\u001b[0m \u001b[0my_l\u001b[0m\u001b[0;34m.\u001b[0m\u001b[0mto\u001b[0m\u001b[0;34m(\u001b[0m\u001b[0mdevice\u001b[0m\u001b[0;34m)\u001b[0m\u001b[0;34m\u001b[0m\u001b[0;34m\u001b[0m\u001b[0m\n\u001b[1;32m     13\u001b[0m \u001b[0;34m\u001b[0m\u001b[0m\n\u001b[0;32m---> 14\u001b[0;31m         \u001b[0mout_fpass\u001b[0m \u001b[0;34m=\u001b[0m \u001b[0mmodel\u001b[0m\u001b[0;34m(\u001b[0m\u001b[0mx_l\u001b[0m\u001b[0;34m,\u001b[0m \u001b[0mx_u\u001b[0m\u001b[0;34m,\u001b[0m \u001b[0my_l\u001b[0m\u001b[0;34m)\u001b[0m\u001b[0;34m\u001b[0m\u001b[0;34m\u001b[0m\u001b[0m\n\u001b[0m\u001b[1;32m     15\u001b[0m \u001b[0;34m\u001b[0m\u001b[0m\n\u001b[1;32m     16\u001b[0m         \u001b[0my_pred\u001b[0m \u001b[0;34m=\u001b[0m \u001b[0mout_fpass\u001b[0m\u001b[0;34m[\u001b[0m\u001b[0;34m\"L\"\u001b[0m\u001b[0;34m]\u001b[0m\u001b[0;34m[\u001b[0m\u001b[0;36m4\u001b[0m\u001b[0;34m]\u001b[0m\u001b[0;34m.\u001b[0m\u001b[0mdetach\u001b[0m\u001b[0;34m(\u001b[0m\u001b[0;34m)\u001b[0m\u001b[0;34m.\u001b[0m\u001b[0mcpu\u001b[0m\u001b[0;34m(\u001b[0m\u001b[0;34m)\u001b[0m\u001b[0;34m.\u001b[0m\u001b[0mnumpy\u001b[0m\u001b[0;34m(\u001b[0m\u001b[0;34m)\u001b[0m\u001b[0;34m\u001b[0m\u001b[0;34m\u001b[0m\u001b[0m\n",
      "\u001b[0;32m~/Documents/deep/lib/python3.6/site-packages/torch/nn/modules/module.py\u001b[0m in \u001b[0;36m_call_impl\u001b[0;34m(self, *input, **kwargs)\u001b[0m\n\u001b[1;32m    720\u001b[0m             \u001b[0mresult\u001b[0m \u001b[0;34m=\u001b[0m \u001b[0mself\u001b[0m\u001b[0;34m.\u001b[0m\u001b[0m_slow_forward\u001b[0m\u001b[0;34m(\u001b[0m\u001b[0;34m*\u001b[0m\u001b[0minput\u001b[0m\u001b[0;34m,\u001b[0m \u001b[0;34m**\u001b[0m\u001b[0mkwargs\u001b[0m\u001b[0;34m)\u001b[0m\u001b[0;34m\u001b[0m\u001b[0;34m\u001b[0m\u001b[0m\n\u001b[1;32m    721\u001b[0m         \u001b[0;32melse\u001b[0m\u001b[0;34m:\u001b[0m\u001b[0;34m\u001b[0m\u001b[0;34m\u001b[0m\u001b[0m\n\u001b[0;32m--> 722\u001b[0;31m             \u001b[0mresult\u001b[0m \u001b[0;34m=\u001b[0m \u001b[0mself\u001b[0m\u001b[0;34m.\u001b[0m\u001b[0mforward\u001b[0m\u001b[0;34m(\u001b[0m\u001b[0;34m*\u001b[0m\u001b[0minput\u001b[0m\u001b[0;34m,\u001b[0m \u001b[0;34m**\u001b[0m\u001b[0mkwargs\u001b[0m\u001b[0;34m)\u001b[0m\u001b[0;34m\u001b[0m\u001b[0;34m\u001b[0m\u001b[0m\n\u001b[0m\u001b[1;32m    723\u001b[0m         for hook in itertools.chain(\n\u001b[1;32m    724\u001b[0m                 \u001b[0m_global_forward_hooks\u001b[0m\u001b[0;34m.\u001b[0m\u001b[0mvalues\u001b[0m\u001b[0;34m(\u001b[0m\u001b[0;34m)\u001b[0m\u001b[0;34m,\u001b[0m\u001b[0;34m\u001b[0m\u001b[0;34m\u001b[0m\u001b[0m\n",
      "\u001b[0;32m<ipython-input-9-d362e6817aed>\u001b[0m in \u001b[0;36mforward\u001b[0;34m(self, x_labelled, x_unlabelled, y)\u001b[0m\n\u001b[1;32m    119\u001b[0m \u001b[0;34m\u001b[0m\u001b[0m\n\u001b[1;32m    120\u001b[0m         \u001b[0;31m# encode x_unlab and y_unlab to mu_unlab and logvar_unlab\u001b[0m\u001b[0;34m\u001b[0m\u001b[0;34m\u001b[0m\u001b[0;34m\u001b[0m\u001b[0m\n\u001b[0;32m--> 121\u001b[0;31m         \u001b[0mmu_unlab\u001b[0m\u001b[0;34m,\u001b[0m \u001b[0mlogvar_unlab\u001b[0m \u001b[0;34m=\u001b[0m \u001b[0mself\u001b[0m\u001b[0;34m.\u001b[0m\u001b[0mencode\u001b[0m\u001b[0;34m(\u001b[0m\u001b[0mx_unlab_tiled\u001b[0m\u001b[0;34m,\u001b[0m \u001b[0my_unlab_tiled\u001b[0m\u001b[0;34m)\u001b[0m\u001b[0;34m\u001b[0m\u001b[0;34m\u001b[0m\u001b[0m\n\u001b[0m\u001b[1;32m    122\u001b[0m \u001b[0;34m\u001b[0m\u001b[0m\n\u001b[1;32m    123\u001b[0m         \u001b[0;31m# sample z_unlab via mu_unlab and logvar_unlab\u001b[0m\u001b[0;34m\u001b[0m\u001b[0;34m\u001b[0m\u001b[0;34m\u001b[0m\u001b[0m\n",
      "\u001b[0;32m<ipython-input-9-d362e6817aed>\u001b[0m in \u001b[0;36mencode\u001b[0;34m(self, x, y)\u001b[0m\n\u001b[1;32m     68\u001b[0m         \u001b[0;31m# n.b. normally [x,y] would be encoded, but this is not possible with a\u001b[0m\u001b[0;34m\u001b[0m\u001b[0;34m\u001b[0m\u001b[0;34m\u001b[0m\u001b[0m\n\u001b[1;32m     69\u001b[0m         \u001b[0;31m# CNN architecture\u001b[0m\u001b[0;34m\u001b[0m\u001b[0;34m\u001b[0m\u001b[0;34m\u001b[0m\u001b[0m\n\u001b[0;32m---> 70\u001b[0;31m         \u001b[0mh\u001b[0m \u001b[0;34m=\u001b[0m \u001b[0mself\u001b[0m\u001b[0;34m.\u001b[0m\u001b[0mencoder\u001b[0m\u001b[0;34m(\u001b[0m\u001b[0mx\u001b[0m\u001b[0;34m)\u001b[0m\u001b[0;34m\u001b[0m\u001b[0;34m\u001b[0m\u001b[0m\n\u001b[0m\u001b[1;32m     71\u001b[0m \u001b[0;34m\u001b[0m\u001b[0m\n\u001b[1;32m     72\u001b[0m         \u001b[0;31m# concat y (labels) to h, to place in latent space\u001b[0m\u001b[0;34m\u001b[0m\u001b[0;34m\u001b[0m\u001b[0;34m\u001b[0m\u001b[0m\n",
      "\u001b[0;32m~/Documents/deep/lib/python3.6/site-packages/torch/nn/modules/module.py\u001b[0m in \u001b[0;36m_call_impl\u001b[0;34m(self, *input, **kwargs)\u001b[0m\n\u001b[1;32m    720\u001b[0m             \u001b[0mresult\u001b[0m \u001b[0;34m=\u001b[0m \u001b[0mself\u001b[0m\u001b[0;34m.\u001b[0m\u001b[0m_slow_forward\u001b[0m\u001b[0;34m(\u001b[0m\u001b[0;34m*\u001b[0m\u001b[0minput\u001b[0m\u001b[0;34m,\u001b[0m \u001b[0;34m**\u001b[0m\u001b[0mkwargs\u001b[0m\u001b[0;34m)\u001b[0m\u001b[0;34m\u001b[0m\u001b[0;34m\u001b[0m\u001b[0m\n\u001b[1;32m    721\u001b[0m         \u001b[0;32melse\u001b[0m\u001b[0;34m:\u001b[0m\u001b[0;34m\u001b[0m\u001b[0;34m\u001b[0m\u001b[0m\n\u001b[0;32m--> 722\u001b[0;31m             \u001b[0mresult\u001b[0m \u001b[0;34m=\u001b[0m \u001b[0mself\u001b[0m\u001b[0;34m.\u001b[0m\u001b[0mforward\u001b[0m\u001b[0;34m(\u001b[0m\u001b[0;34m*\u001b[0m\u001b[0minput\u001b[0m\u001b[0;34m,\u001b[0m \u001b[0;34m**\u001b[0m\u001b[0mkwargs\u001b[0m\u001b[0;34m)\u001b[0m\u001b[0;34m\u001b[0m\u001b[0;34m\u001b[0m\u001b[0m\n\u001b[0m\u001b[1;32m    723\u001b[0m         for hook in itertools.chain(\n\u001b[1;32m    724\u001b[0m                 \u001b[0m_global_forward_hooks\u001b[0m\u001b[0;34m.\u001b[0m\u001b[0mvalues\u001b[0m\u001b[0;34m(\u001b[0m\u001b[0;34m)\u001b[0m\u001b[0;34m,\u001b[0m\u001b[0;34m\u001b[0m\u001b[0;34m\u001b[0m\u001b[0m\n",
      "\u001b[0;32m~/Documents/deep/lib/python3.6/site-packages/torch/nn/modules/container.py\u001b[0m in \u001b[0;36mforward\u001b[0;34m(self, input)\u001b[0m\n\u001b[1;32m    115\u001b[0m     \u001b[0;32mdef\u001b[0m \u001b[0mforward\u001b[0m\u001b[0;34m(\u001b[0m\u001b[0mself\u001b[0m\u001b[0;34m,\u001b[0m \u001b[0minput\u001b[0m\u001b[0;34m)\u001b[0m\u001b[0;34m:\u001b[0m\u001b[0;34m\u001b[0m\u001b[0;34m\u001b[0m\u001b[0m\n\u001b[1;32m    116\u001b[0m         \u001b[0;32mfor\u001b[0m \u001b[0mmodule\u001b[0m \u001b[0;32min\u001b[0m \u001b[0mself\u001b[0m\u001b[0;34m:\u001b[0m\u001b[0;34m\u001b[0m\u001b[0;34m\u001b[0m\u001b[0m\n\u001b[0;32m--> 117\u001b[0;31m             \u001b[0minput\u001b[0m \u001b[0;34m=\u001b[0m \u001b[0mmodule\u001b[0m\u001b[0;34m(\u001b[0m\u001b[0minput\u001b[0m\u001b[0;34m)\u001b[0m\u001b[0;34m\u001b[0m\u001b[0;34m\u001b[0m\u001b[0m\n\u001b[0m\u001b[1;32m    118\u001b[0m         \u001b[0;32mreturn\u001b[0m \u001b[0minput\u001b[0m\u001b[0;34m\u001b[0m\u001b[0;34m\u001b[0m\u001b[0m\n\u001b[1;32m    119\u001b[0m \u001b[0;34m\u001b[0m\u001b[0m\n",
      "\u001b[0;32m~/Documents/deep/lib/python3.6/site-packages/torch/nn/modules/module.py\u001b[0m in \u001b[0;36m_call_impl\u001b[0;34m(self, *input, **kwargs)\u001b[0m\n\u001b[1;32m    720\u001b[0m             \u001b[0mresult\u001b[0m \u001b[0;34m=\u001b[0m \u001b[0mself\u001b[0m\u001b[0;34m.\u001b[0m\u001b[0m_slow_forward\u001b[0m\u001b[0;34m(\u001b[0m\u001b[0;34m*\u001b[0m\u001b[0minput\u001b[0m\u001b[0;34m,\u001b[0m \u001b[0;34m**\u001b[0m\u001b[0mkwargs\u001b[0m\u001b[0;34m)\u001b[0m\u001b[0;34m\u001b[0m\u001b[0;34m\u001b[0m\u001b[0m\n\u001b[1;32m    721\u001b[0m         \u001b[0;32melse\u001b[0m\u001b[0;34m:\u001b[0m\u001b[0;34m\u001b[0m\u001b[0;34m\u001b[0m\u001b[0m\n\u001b[0;32m--> 722\u001b[0;31m             \u001b[0mresult\u001b[0m \u001b[0;34m=\u001b[0m \u001b[0mself\u001b[0m\u001b[0;34m.\u001b[0m\u001b[0mforward\u001b[0m\u001b[0;34m(\u001b[0m\u001b[0;34m*\u001b[0m\u001b[0minput\u001b[0m\u001b[0;34m,\u001b[0m \u001b[0;34m**\u001b[0m\u001b[0mkwargs\u001b[0m\u001b[0;34m)\u001b[0m\u001b[0;34m\u001b[0m\u001b[0;34m\u001b[0m\u001b[0m\n\u001b[0m\u001b[1;32m    723\u001b[0m         for hook in itertools.chain(\n\u001b[1;32m    724\u001b[0m                 \u001b[0m_global_forward_hooks\u001b[0m\u001b[0;34m.\u001b[0m\u001b[0mvalues\u001b[0m\u001b[0;34m(\u001b[0m\u001b[0;34m)\u001b[0m\u001b[0;34m,\u001b[0m\u001b[0;34m\u001b[0m\u001b[0;34m\u001b[0m\u001b[0m\n",
      "\u001b[0;32m~/Documents/deep/lib/python3.6/site-packages/torch/nn/modules/activation.py\u001b[0m in \u001b[0;36mforward\u001b[0;34m(self, input)\u001b[0m\n\u001b[1;32m    652\u001b[0m \u001b[0;34m\u001b[0m\u001b[0m\n\u001b[1;32m    653\u001b[0m     \u001b[0;32mdef\u001b[0m \u001b[0mforward\u001b[0m\u001b[0;34m(\u001b[0m\u001b[0mself\u001b[0m\u001b[0;34m,\u001b[0m \u001b[0minput\u001b[0m\u001b[0;34m:\u001b[0m \u001b[0mTensor\u001b[0m\u001b[0;34m)\u001b[0m \u001b[0;34m->\u001b[0m \u001b[0mTensor\u001b[0m\u001b[0;34m:\u001b[0m\u001b[0;34m\u001b[0m\u001b[0;34m\u001b[0m\u001b[0m\n\u001b[0;32m--> 654\u001b[0;31m         \u001b[0;32mreturn\u001b[0m \u001b[0mF\u001b[0m\u001b[0;34m.\u001b[0m\u001b[0mleaky_relu\u001b[0m\u001b[0;34m(\u001b[0m\u001b[0minput\u001b[0m\u001b[0;34m,\u001b[0m \u001b[0mself\u001b[0m\u001b[0;34m.\u001b[0m\u001b[0mnegative_slope\u001b[0m\u001b[0;34m,\u001b[0m \u001b[0mself\u001b[0m\u001b[0;34m.\u001b[0m\u001b[0minplace\u001b[0m\u001b[0;34m)\u001b[0m\u001b[0;34m\u001b[0m\u001b[0;34m\u001b[0m\u001b[0m\n\u001b[0m\u001b[1;32m    655\u001b[0m \u001b[0;34m\u001b[0m\u001b[0m\n\u001b[1;32m    656\u001b[0m     \u001b[0;32mdef\u001b[0m \u001b[0mextra_repr\u001b[0m\u001b[0;34m(\u001b[0m\u001b[0mself\u001b[0m\u001b[0;34m)\u001b[0m \u001b[0;34m->\u001b[0m \u001b[0mstr\u001b[0m\u001b[0;34m:\u001b[0m\u001b[0;34m\u001b[0m\u001b[0;34m\u001b[0m\u001b[0m\n",
      "\u001b[0;32m~/Documents/deep/lib/python3.6/site-packages/torch/nn/functional.py\u001b[0m in \u001b[0;36mleaky_relu\u001b[0;34m(input, negative_slope, inplace)\u001b[0m\n\u001b[1;32m   1293\u001b[0m         \u001b[0mresult\u001b[0m \u001b[0;34m=\u001b[0m \u001b[0mtorch\u001b[0m\u001b[0;34m.\u001b[0m\u001b[0m_C\u001b[0m\u001b[0;34m.\u001b[0m\u001b[0m_nn\u001b[0m\u001b[0;34m.\u001b[0m\u001b[0mleaky_relu_\u001b[0m\u001b[0;34m(\u001b[0m\u001b[0minput\u001b[0m\u001b[0;34m,\u001b[0m \u001b[0mnegative_slope\u001b[0m\u001b[0;34m)\u001b[0m\u001b[0;34m\u001b[0m\u001b[0;34m\u001b[0m\u001b[0m\n\u001b[1;32m   1294\u001b[0m     \u001b[0;32melse\u001b[0m\u001b[0;34m:\u001b[0m\u001b[0;34m\u001b[0m\u001b[0;34m\u001b[0m\u001b[0m\n\u001b[0;32m-> 1295\u001b[0;31m         \u001b[0mresult\u001b[0m \u001b[0;34m=\u001b[0m \u001b[0mtorch\u001b[0m\u001b[0;34m.\u001b[0m\u001b[0m_C\u001b[0m\u001b[0;34m.\u001b[0m\u001b[0m_nn\u001b[0m\u001b[0;34m.\u001b[0m\u001b[0mleaky_relu\u001b[0m\u001b[0;34m(\u001b[0m\u001b[0minput\u001b[0m\u001b[0;34m,\u001b[0m \u001b[0mnegative_slope\u001b[0m\u001b[0;34m)\u001b[0m\u001b[0;34m\u001b[0m\u001b[0;34m\u001b[0m\u001b[0m\n\u001b[0m\u001b[1;32m   1296\u001b[0m     \u001b[0;32mreturn\u001b[0m \u001b[0mresult\u001b[0m\u001b[0;34m\u001b[0m\u001b[0;34m\u001b[0m\u001b[0m\n\u001b[1;32m   1297\u001b[0m \u001b[0;34m\u001b[0m\u001b[0m\n",
      "\u001b[0;31mRuntimeError\u001b[0m: CUDA out of memory. Tried to allocate 42.00 MiB (GPU 0; 2.95 GiB total capacity; 1.79 GiB already allocated; 31.31 MiB free; 1.81 GiB reserved in total by PyTorch)"
     ]
    }
   ],
   "source": [
    "epochs = 5\n",
    "\n",
    "for epoch in range(epochs):\n",
    "    print(f\"Epoch {epoch+1} of {epochs}\")\n",
    "    \n",
    "    print(\"\\t Training ...\")\n",
    "#     train_epoch_loss, train_epoch_acc = fit_model(model, train_loader)\n",
    "    train_epoch_loss, train_epoch_acc = fit_model(model, dset_train_subset_loader)\n",
    "    \n",
    "    print(\"\\t Testing ...\")\n",
    "#     test_epoch_loss, test_epoch_acc = test_model(model, test_loader)\n",
    "    test_epoch_loss, test_epoch_acc = test_model(model, dset_test_subset_loader)\n",
    "    train_loss.append(train_epoch_loss)\n",
    "    train_acc.append(train_epoch_acc)\n",
    "    test_loss.append(test_epoch_loss)\n",
    "    test_acc.append(test_epoch_acc)\n",
    "\n",
    "    print(f\"Train Loss: {train_epoch_loss:.4f}\")\n",
    "    print(f\"Val Loss: {test_epoch_loss:.4f}\")\n",
    "    print(f\"Train Acc: {train_epoch_acc:.4f}\")\n",
    "    print(f\"Val Acc: {test_epoch_acc:.4f}\")\n",
    "\n",
    "# torch.save(model.state_dict(), 'cvae.torch')"
   ]
  },
  {
   "cell_type": "code",
   "execution_count": null,
   "metadata": {
    "id": "J3j-J_pNy45G"
   },
   "outputs": [],
   "source": [
    "torch.save(model.state_dict(), 'M2_201210_0940.torch')"
   ]
  },
  {
   "cell_type": "code",
   "execution_count": null,
   "metadata": {
    "id": "pYxVc28Eenle"
   },
   "outputs": [],
   "source": [
    "x_epoch = np.arange(len(train_loss))\n",
    "plt.figure(dpi=80, facecolor='w', edgecolor='k')\n",
    "plt.plot(x_epoch, train_loss, 'r', x_epoch, test_loss, 'b')\n",
    "plt.legend(['Train Loss', 'Validation Loss'])\n",
    "plt.xlabel('Epoch'), plt.ylabel('Loss')\n",
    "\n",
    "x_epoch = np.arange(len(train_acc))\n",
    "plt.figure(dpi=80, facecolor='w', edgecolor='k')\n",
    "plt.plot(x_epoch, train_acc, 'r', x_epoch, test_acc, 'b')\n",
    "plt.legend(['Train Acc', 'Validation Acc'])\n",
    "plt.xlabel('Epoch'), plt.ylabel('Acc')"
   ]
  },
  {
   "cell_type": "code",
   "execution_count": null,
   "metadata": {
    "id": "BYKGI7HbKko9"
   },
   "outputs": [],
   "source": [
    "# plot_examples(model, sample=True, y=torch.zeros(64).type(torch.int64))\n",
    "# plot_examples(model, sample=True, y=(torch.ones(64).type(torch.int64)*1))\n",
    "# plot_examples(model, sample=True, y=(torch.ones(64).type(torch.int64)*2))\n",
    "# plot_examples(model, sample=True, y=(torch.ones(64).type(torch.int64)*3))\n",
    "plot_examples(model, sample=True, y=(torch.ones(64).type(torch.int64)*9))"
   ]
  },
  {
   "cell_type": "markdown",
   "metadata": {
    "id": "x2kfhZuuUvmZ"
   },
   "source": [
    "# Plot confusion matrix"
   ]
  },
  {
   "cell_type": "code",
   "execution_count": null,
   "metadata": {
    "id": "bDGw94VQ2Cds"
   },
   "outputs": [],
   "source": [
    "def make_cm(dset):\n",
    "  idx_test_subset = get_target_indexes(dset, classes, 10)\n",
    "  X_test = dset.data[idx_test_subset].type(torch.float)\n",
    "  y_test = dset.targets[idx_test_subset].numpy()\n",
    "\n",
    "  model.eval()\n",
    "  with torch.no_grad():\n",
    "      y_pred = model.classifier(X_test.to(device)).cpu().numpy()\n",
    "      y_pred = np.argmax(y_pred, axis=1)\n",
    "\n",
    "  cm = sklearn.metrics.confusion_matrix(y_true = y_test, y_pred = y_pred)\n",
    "  df_cm = pd.DataFrame(cm, index = [str(i) for i in classes],\n",
    "                        columns = [str(i) for i in classes])\n",
    "  plt.figure(figsize = (10,7))\n",
    "  sns.heatmap(df_cm, annot=True)"
   ]
  },
  {
   "cell_type": "code",
   "execution_count": null,
   "metadata": {
    "id": "pRQJdkvQZPHP"
   },
   "outputs": [],
   "source": [
    "# MNIST\n",
    "dset_name = str((dset_train.__class__)).split('.')[-1]\n",
    "if (dset_name == \"MNIST\"):\n",
    "  # get this from loop above\n",
    "  print(\"Mean acc (train): \", train_acc[-1])\n",
    "  make_cm(dset_train)\n",
    "\n",
    "  print(\"Mean acc (val): \", test_acc[-1])\n",
    "  make_cm(dset_test)"
   ]
  },
  {
   "cell_type": "code",
   "execution_count": null,
   "metadata": {
    "id": "rsCJuFZes3YD"
   },
   "outputs": [],
   "source": [
    "# FashionMNIST\n",
    "dset_name = str((dset_train.__class__)).split('.')[-1]\n",
    "if (dset_name == \"FashionMNIST\"):\n",
    "  # get this from loop above\n",
    "  print(\"Mean acc (train): \", train_acc[-1])\n",
    "  make_cm(dset_train)\n",
    "\n",
    "  print(\"Mean acc (val): \", test_acc[-1])\n",
    "  make_cm(dset_test)"
   ]
  },
  {
   "cell_type": "markdown",
   "metadata": {
    "id": "8qUTF-6okcUP"
   },
   "source": [
    "# Interpolations"
   ]
  },
  {
   "cell_type": "code",
   "execution_count": null,
   "metadata": {
    "id": "R-yLIWA29KX7"
   },
   "outputs": [],
   "source": [
    "z_in = model.sample(y=torch.Tensor([0,1,2,3,4,5,6,7,8,9]).type(torch.int64))[\"z\"]"
   ]
  },
  {
   "cell_type": "code",
   "execution_count": null,
   "metadata": {
    "id": "VcgeBzeh9LO1"
   },
   "outputs": [],
   "source": [
    "\n",
    "def plot_interpolation(z_in=None,image_n=0,latent_dim=latent_dim,imsize=28,interpolate_dim=20,std_=3,batch_size=100):\n",
    "  if z_in is None:\n",
    "      ztest =model.sample(batch_size=batch_size,z_out=True)\n",
    "  else:\n",
    "    ztest=z_in\n",
    "  test_data=torch.zeros(latent_dim*interpolate_dim,latent_dim)\n",
    "  for i in range(test_data.shape[0]):\n",
    "      test_data[i]=ztest[image_n]\n",
    "  range_=np.zeros([latent_dim,interpolate_dim])\n",
    "  for c,i in enumerate(ztest.std(0).cpu().detach().numpy()):\n",
    "      range_[c]=np.linspace(-std_*i,std_*i,int(interpolate_dim))\n",
    "  for c in range(latent_dim*interpolate_dim):\n",
    "      test_data[c][int(c/interpolate_dim)]=range_[int(c/interpolate_dim)][c%interpolate_dim]\n",
    "      # print(c,int(c/interpolate_dim),\"_\",int(c/interpolate_dim),c%interpolate_dim,\"_\",range_[int(c/interpolate_dim)][c%interpolate_dim])\n",
    "      # print(c,test_data[c].cpu().detach().numpy())\n",
    "  smple_pic =model.decode(test_data.to(device),y=torch.repeat_interleave(torch.arange(8), 18))\n",
    "  all_pics=np.zeros([imsize*latent_dim,imsize*interpolate_dim])\n",
    "  for i in range(latent_dim):\n",
    "      for j in range(interpolate_dim):\n",
    "  #         print(i,j)\n",
    "          all_pics[i*imsize:(i+1)*imsize,j*imsize:(j+1)*imsize]=smple_pic[(interpolate_dim*i)+j][0].cpu().data\n",
    "  fig = plt.figure()\n",
    "  fig.set_figheight(40)\n",
    "  fig.set_figwidth(20)\n",
    "  plt.imshow(all_pics, interpolation='none')\n",
    "  return(ztest.std(0).cpu().detach().numpy())\n",
    "std__=plot_interpolation(z_in=z_in,image_n=0,latent_dim=latent_dim,imsize=28,interpolate_dim=18,std_=4,batch_size=10000)"
   ]
  },
  {
   "cell_type": "code",
   "execution_count": null,
   "metadata": {
    "id": "7yKunLHPkdpZ"
   },
   "outputs": [],
   "source": [
    "# MNIST\n"
   ]
  },
  {
   "cell_type": "code",
   "execution_count": null,
   "metadata": {
    "id": "EdfREJv2kecb"
   },
   "outputs": [],
   "source": [
    "# FashionMNIST\n"
   ]
  }
 ],
 "metadata": {
  "accelerator": "GPU",
  "colab": {
   "collapsed_sections": [],
   "name": "Presentation_M2_MNIST_stefan.ipynb",
   "provenance": []
  },
  "kernelspec": {
   "display_name": "Python 3",
   "language": "python",
   "name": "python3"
  },
  "language_info": {
   "codemirror_mode": {
    "name": "ipython",
    "version": 3
   },
   "file_extension": ".py",
   "mimetype": "text/x-python",
   "name": "python",
   "nbconvert_exporter": "python",
   "pygments_lexer": "ipython3",
   "version": "3.6.9"
  },
  "widgets": {
   "application/vnd.jupyter.widget-state+json": {
    "15664a985d81419982b66ba9dbe45ac0": {
     "model_module": "@jupyter-widgets/controls",
     "model_name": "ProgressStyleModel",
     "state": {
      "_model_module": "@jupyter-widgets/controls",
      "_model_module_version": "1.5.0",
      "_model_name": "ProgressStyleModel",
      "_view_count": null,
      "_view_module": "@jupyter-widgets/base",
      "_view_module_version": "1.2.0",
      "_view_name": "StyleView",
      "bar_color": null,
      "description_width": "initial"
     }
    },
    "1f2f364d1a2a4ab8967ab3f0d9065ec9": {
     "model_module": "@jupyter-widgets/controls",
     "model_name": "HBoxModel",
     "state": {
      "_dom_classes": [],
      "_model_module": "@jupyter-widgets/controls",
      "_model_module_version": "1.5.0",
      "_model_name": "HBoxModel",
      "_view_count": null,
      "_view_module": "@jupyter-widgets/controls",
      "_view_module_version": "1.5.0",
      "_view_name": "HBoxView",
      "box_style": "",
      "children": [
       "IPY_MODEL_e9c825d8315046b8a01d8e174145f996",
       "IPY_MODEL_8356491a3f9a456382b3d2c033629b13"
      ],
      "layout": "IPY_MODEL_f5ad3ea7664d477295117d0b1d3e306c"
     }
    },
    "24db77041f0a4414a97da95381f23959": {
     "model_module": "@jupyter-widgets/controls",
     "model_name": "DescriptionStyleModel",
     "state": {
      "_model_module": "@jupyter-widgets/controls",
      "_model_module_version": "1.5.0",
      "_model_name": "DescriptionStyleModel",
      "_view_count": null,
      "_view_module": "@jupyter-widgets/base",
      "_view_module_version": "1.2.0",
      "_view_name": "StyleView",
      "description_width": ""
     }
    },
    "2da846a0746e4881a8fbb87563e696a9": {
     "model_module": "@jupyter-widgets/base",
     "model_name": "LayoutModel",
     "state": {
      "_model_module": "@jupyter-widgets/base",
      "_model_module_version": "1.2.0",
      "_model_name": "LayoutModel",
      "_view_count": null,
      "_view_module": "@jupyter-widgets/base",
      "_view_module_version": "1.2.0",
      "_view_name": "LayoutView",
      "align_content": null,
      "align_items": null,
      "align_self": null,
      "border": null,
      "bottom": null,
      "display": null,
      "flex": null,
      "flex_flow": null,
      "grid_area": null,
      "grid_auto_columns": null,
      "grid_auto_flow": null,
      "grid_auto_rows": null,
      "grid_column": null,
      "grid_gap": null,
      "grid_row": null,
      "grid_template_areas": null,
      "grid_template_columns": null,
      "grid_template_rows": null,
      "height": null,
      "justify_content": null,
      "justify_items": null,
      "left": null,
      "margin": null,
      "max_height": null,
      "max_width": null,
      "min_height": null,
      "min_width": null,
      "object_fit": null,
      "object_position": null,
      "order": null,
      "overflow": null,
      "overflow_x": null,
      "overflow_y": null,
      "padding": null,
      "right": null,
      "top": null,
      "visibility": null,
      "width": null
     }
    },
    "3bd1b2e54efe405fa27c1a8e540d3950": {
     "model_module": "@jupyter-widgets/base",
     "model_name": "LayoutModel",
     "state": {
      "_model_module": "@jupyter-widgets/base",
      "_model_module_version": "1.2.0",
      "_model_name": "LayoutModel",
      "_view_count": null,
      "_view_module": "@jupyter-widgets/base",
      "_view_module_version": "1.2.0",
      "_view_name": "LayoutView",
      "align_content": null,
      "align_items": null,
      "align_self": null,
      "border": null,
      "bottom": null,
      "display": null,
      "flex": null,
      "flex_flow": null,
      "grid_area": null,
      "grid_auto_columns": null,
      "grid_auto_flow": null,
      "grid_auto_rows": null,
      "grid_column": null,
      "grid_gap": null,
      "grid_row": null,
      "grid_template_areas": null,
      "grid_template_columns": null,
      "grid_template_rows": null,
      "height": null,
      "justify_content": null,
      "justify_items": null,
      "left": null,
      "margin": null,
      "max_height": null,
      "max_width": null,
      "min_height": null,
      "min_width": null,
      "object_fit": null,
      "object_position": null,
      "order": null,
      "overflow": null,
      "overflow_x": null,
      "overflow_y": null,
      "padding": null,
      "right": null,
      "top": null,
      "visibility": null,
      "width": null
     }
    },
    "420b0849faad4b11bfdbe44ed1c5bfb7": {
     "model_module": "@jupyter-widgets/controls",
     "model_name": "ProgressStyleModel",
     "state": {
      "_model_module": "@jupyter-widgets/controls",
      "_model_module_version": "1.5.0",
      "_model_name": "ProgressStyleModel",
      "_view_count": null,
      "_view_module": "@jupyter-widgets/base",
      "_view_module_version": "1.2.0",
      "_view_name": "StyleView",
      "bar_color": null,
      "description_width": "initial"
     }
    },
    "480e2f15f0ff4382957c09f98870bfbb": {
     "model_module": "@jupyter-widgets/controls",
     "model_name": "DescriptionStyleModel",
     "state": {
      "_model_module": "@jupyter-widgets/controls",
      "_model_module_version": "1.5.0",
      "_model_name": "DescriptionStyleModel",
      "_view_count": null,
      "_view_module": "@jupyter-widgets/base",
      "_view_module_version": "1.2.0",
      "_view_name": "StyleView",
      "description_width": ""
     }
    },
    "51376a4333654152826c7212ba2ce3ac": {
     "model_module": "@jupyter-widgets/controls",
     "model_name": "FloatProgressModel",
     "state": {
      "_dom_classes": [],
      "_model_module": "@jupyter-widgets/controls",
      "_model_module_version": "1.5.0",
      "_model_name": "FloatProgressModel",
      "_view_count": null,
      "_view_module": "@jupyter-widgets/controls",
      "_view_module_version": "1.5.0",
      "_view_name": "ProgressView",
      "bar_style": "success",
      "description": "",
      "description_tooltip": null,
      "layout": "IPY_MODEL_fcb90c87feca40d1ba659d677cade272",
      "max": 1,
      "min": 0,
      "orientation": "horizontal",
      "style": "IPY_MODEL_8469311d66c0442e920285b95adfa331",
      "value": 1
     }
    },
    "628a83b06d204fc0a7eb814bb61fe4a8": {
     "model_module": "@jupyter-widgets/controls",
     "model_name": "HBoxModel",
     "state": {
      "_dom_classes": [],
      "_model_module": "@jupyter-widgets/controls",
      "_model_module_version": "1.5.0",
      "_model_name": "HBoxModel",
      "_view_count": null,
      "_view_module": "@jupyter-widgets/controls",
      "_view_module_version": "1.5.0",
      "_view_name": "HBoxView",
      "box_style": "",
      "children": [
       "IPY_MODEL_7a890a2e20574490a42356e8b27bc5ff",
       "IPY_MODEL_ed33e2bef7204891b8a94f3f041a9a95"
      ],
      "layout": "IPY_MODEL_3bd1b2e54efe405fa27c1a8e540d3950"
     }
    },
    "6cad24b0683842f6ad4c8f204b2005c0": {
     "model_module": "@jupyter-widgets/base",
     "model_name": "LayoutModel",
     "state": {
      "_model_module": "@jupyter-widgets/base",
      "_model_module_version": "1.2.0",
      "_model_name": "LayoutModel",
      "_view_count": null,
      "_view_module": "@jupyter-widgets/base",
      "_view_module_version": "1.2.0",
      "_view_name": "LayoutView",
      "align_content": null,
      "align_items": null,
      "align_self": null,
      "border": null,
      "bottom": null,
      "display": null,
      "flex": null,
      "flex_flow": null,
      "grid_area": null,
      "grid_auto_columns": null,
      "grid_auto_flow": null,
      "grid_auto_rows": null,
      "grid_column": null,
      "grid_gap": null,
      "grid_row": null,
      "grid_template_areas": null,
      "grid_template_columns": null,
      "grid_template_rows": null,
      "height": null,
      "justify_content": null,
      "justify_items": null,
      "left": null,
      "margin": null,
      "max_height": null,
      "max_width": null,
      "min_height": null,
      "min_width": null,
      "object_fit": null,
      "object_position": null,
      "order": null,
      "overflow": null,
      "overflow_x": null,
      "overflow_y": null,
      "padding": null,
      "right": null,
      "top": null,
      "visibility": null,
      "width": null
     }
    },
    "7a890a2e20574490a42356e8b27bc5ff": {
     "model_module": "@jupyter-widgets/controls",
     "model_name": "FloatProgressModel",
     "state": {
      "_dom_classes": [],
      "_model_module": "@jupyter-widgets/controls",
      "_model_module_version": "1.5.0",
      "_model_name": "FloatProgressModel",
      "_view_count": null,
      "_view_module": "@jupyter-widgets/controls",
      "_view_module_version": "1.5.0",
      "_view_name": "ProgressView",
      "bar_style": "success",
      "description": "",
      "description_tooltip": null,
      "layout": "IPY_MODEL_cb3aee5dc0424891b85960acc01de1c8",
      "max": 1,
      "min": 0,
      "orientation": "horizontal",
      "style": "IPY_MODEL_d5d6d36c4b5c47b6b300fcdb6fbf0518",
      "value": 1
     }
    },
    "7bd1569206ee4f379080579656d92919": {
     "model_module": "@jupyter-widgets/controls",
     "model_name": "HBoxModel",
     "state": {
      "_dom_classes": [],
      "_model_module": "@jupyter-widgets/controls",
      "_model_module_version": "1.5.0",
      "_model_name": "HBoxModel",
      "_view_count": null,
      "_view_module": "@jupyter-widgets/controls",
      "_view_module_version": "1.5.0",
      "_view_name": "HBoxView",
      "box_style": "",
      "children": [
       "IPY_MODEL_51376a4333654152826c7212ba2ce3ac",
       "IPY_MODEL_9db1132c0ed64d498cb0a4fe914bc2d7"
      ],
      "layout": "IPY_MODEL_ed0304f32c574698a33ad7601f220f76"
     }
    },
    "8356491a3f9a456382b3d2c033629b13": {
     "model_module": "@jupyter-widgets/controls",
     "model_name": "HTMLModel",
     "state": {
      "_dom_classes": [],
      "_model_module": "@jupyter-widgets/controls",
      "_model_module_version": "1.5.0",
      "_model_name": "HTMLModel",
      "_view_count": null,
      "_view_module": "@jupyter-widgets/controls",
      "_view_module_version": "1.5.0",
      "_view_name": "HTMLView",
      "description": "",
      "description_tooltip": null,
      "layout": "IPY_MODEL_6cad24b0683842f6ad4c8f204b2005c0",
      "placeholder": "​",
      "style": "IPY_MODEL_f785534bf5c84181a3512611f603cddb",
      "value": " 8192/? [00:00&lt;00:00, 16260.36it/s]"
     }
    },
    "8469311d66c0442e920285b95adfa331": {
     "model_module": "@jupyter-widgets/controls",
     "model_name": "ProgressStyleModel",
     "state": {
      "_model_module": "@jupyter-widgets/controls",
      "_model_module_version": "1.5.0",
      "_model_name": "ProgressStyleModel",
      "_view_count": null,
      "_view_module": "@jupyter-widgets/base",
      "_view_module_version": "1.2.0",
      "_view_name": "StyleView",
      "bar_color": null,
      "description_width": "initial"
     }
    },
    "8e5ec353ee384f4785b3882703fc5786": {
     "model_module": "@jupyter-widgets/base",
     "model_name": "LayoutModel",
     "state": {
      "_model_module": "@jupyter-widgets/base",
      "_model_module_version": "1.2.0",
      "_model_name": "LayoutModel",
      "_view_count": null,
      "_view_module": "@jupyter-widgets/base",
      "_view_module_version": "1.2.0",
      "_view_name": "LayoutView",
      "align_content": null,
      "align_items": null,
      "align_self": null,
      "border": null,
      "bottom": null,
      "display": null,
      "flex": null,
      "flex_flow": null,
      "grid_area": null,
      "grid_auto_columns": null,
      "grid_auto_flow": null,
      "grid_auto_rows": null,
      "grid_column": null,
      "grid_gap": null,
      "grid_row": null,
      "grid_template_areas": null,
      "grid_template_columns": null,
      "grid_template_rows": null,
      "height": null,
      "justify_content": null,
      "justify_items": null,
      "left": null,
      "margin": null,
      "max_height": null,
      "max_width": null,
      "min_height": null,
      "min_width": null,
      "object_fit": null,
      "object_position": null,
      "order": null,
      "overflow": null,
      "overflow_x": null,
      "overflow_y": null,
      "padding": null,
      "right": null,
      "top": null,
      "visibility": null,
      "width": null
     }
    },
    "9ba8cb7b6cd743a0a9c1e2367ac48bcf": {
     "model_module": "@jupyter-widgets/base",
     "model_name": "LayoutModel",
     "state": {
      "_model_module": "@jupyter-widgets/base",
      "_model_module_version": "1.2.0",
      "_model_name": "LayoutModel",
      "_view_count": null,
      "_view_module": "@jupyter-widgets/base",
      "_view_module_version": "1.2.0",
      "_view_name": "LayoutView",
      "align_content": null,
      "align_items": null,
      "align_self": null,
      "border": null,
      "bottom": null,
      "display": null,
      "flex": null,
      "flex_flow": null,
      "grid_area": null,
      "grid_auto_columns": null,
      "grid_auto_flow": null,
      "grid_auto_rows": null,
      "grid_column": null,
      "grid_gap": null,
      "grid_row": null,
      "grid_template_areas": null,
      "grid_template_columns": null,
      "grid_template_rows": null,
      "height": null,
      "justify_content": null,
      "justify_items": null,
      "left": null,
      "margin": null,
      "max_height": null,
      "max_width": null,
      "min_height": null,
      "min_width": null,
      "object_fit": null,
      "object_position": null,
      "order": null,
      "overflow": null,
      "overflow_x": null,
      "overflow_y": null,
      "padding": null,
      "right": null,
      "top": null,
      "visibility": null,
      "width": null
     }
    },
    "9db1132c0ed64d498cb0a4fe914bc2d7": {
     "model_module": "@jupyter-widgets/controls",
     "model_name": "HTMLModel",
     "state": {
      "_dom_classes": [],
      "_model_module": "@jupyter-widgets/controls",
      "_model_module_version": "1.5.0",
      "_model_name": "HTMLModel",
      "_view_count": null,
      "_view_module": "@jupyter-widgets/controls",
      "_view_module_version": "1.5.0",
      "_view_name": "HTMLView",
      "description": "",
      "description_tooltip": null,
      "layout": "IPY_MODEL_8e5ec353ee384f4785b3882703fc5786",
      "placeholder": "​",
      "style": "IPY_MODEL_b68bbf7e32be446e96435947ecebeb37",
      "value": " 32768/? [00:00&lt;00:00, 34170.54it/s]"
     }
    },
    "a2538db820fc420ea8f2359f3074461a": {
     "model_module": "@jupyter-widgets/base",
     "model_name": "LayoutModel",
     "state": {
      "_model_module": "@jupyter-widgets/base",
      "_model_module_version": "1.2.0",
      "_model_name": "LayoutModel",
      "_view_count": null,
      "_view_module": "@jupyter-widgets/base",
      "_view_module_version": "1.2.0",
      "_view_name": "LayoutView",
      "align_content": null,
      "align_items": null,
      "align_self": null,
      "border": null,
      "bottom": null,
      "display": null,
      "flex": null,
      "flex_flow": null,
      "grid_area": null,
      "grid_auto_columns": null,
      "grid_auto_flow": null,
      "grid_auto_rows": null,
      "grid_column": null,
      "grid_gap": null,
      "grid_row": null,
      "grid_template_areas": null,
      "grid_template_columns": null,
      "grid_template_rows": null,
      "height": null,
      "justify_content": null,
      "justify_items": null,
      "left": null,
      "margin": null,
      "max_height": null,
      "max_width": null,
      "min_height": null,
      "min_width": null,
      "object_fit": null,
      "object_position": null,
      "order": null,
      "overflow": null,
      "overflow_x": null,
      "overflow_y": null,
      "padding": null,
      "right": null,
      "top": null,
      "visibility": null,
      "width": null
     }
    },
    "b68bbf7e32be446e96435947ecebeb37": {
     "model_module": "@jupyter-widgets/controls",
     "model_name": "DescriptionStyleModel",
     "state": {
      "_model_module": "@jupyter-widgets/controls",
      "_model_module_version": "1.5.0",
      "_model_name": "DescriptionStyleModel",
      "_view_count": null,
      "_view_module": "@jupyter-widgets/base",
      "_view_module_version": "1.2.0",
      "_view_name": "StyleView",
      "description_width": ""
     }
    },
    "b6afc7f787504d50ae981c3aae0c1063": {
     "model_module": "@jupyter-widgets/controls",
     "model_name": "HBoxModel",
     "state": {
      "_dom_classes": [],
      "_model_module": "@jupyter-widgets/controls",
      "_model_module_version": "1.5.0",
      "_model_name": "HBoxModel",
      "_view_count": null,
      "_view_module": "@jupyter-widgets/controls",
      "_view_module_version": "1.5.0",
      "_view_name": "HBoxView",
      "box_style": "",
      "children": [
       "IPY_MODEL_bcec0ffff45b40d1b783e08b289a7847",
       "IPY_MODEL_d303b32abc3142929b848f7426184d86"
      ],
      "layout": "IPY_MODEL_9ba8cb7b6cd743a0a9c1e2367ac48bcf"
     }
    },
    "bcec0ffff45b40d1b783e08b289a7847": {
     "model_module": "@jupyter-widgets/controls",
     "model_name": "FloatProgressModel",
     "state": {
      "_dom_classes": [],
      "_model_module": "@jupyter-widgets/controls",
      "_model_module_version": "1.5.0",
      "_model_name": "FloatProgressModel",
      "_view_count": null,
      "_view_module": "@jupyter-widgets/controls",
      "_view_module_version": "1.5.0",
      "_view_name": "ProgressView",
      "bar_style": "success",
      "description": "",
      "description_tooltip": null,
      "layout": "IPY_MODEL_a2538db820fc420ea8f2359f3074461a",
      "max": 1,
      "min": 0,
      "orientation": "horizontal",
      "style": "IPY_MODEL_420b0849faad4b11bfdbe44ed1c5bfb7",
      "value": 1
     }
    },
    "cb3aee5dc0424891b85960acc01de1c8": {
     "model_module": "@jupyter-widgets/base",
     "model_name": "LayoutModel",
     "state": {
      "_model_module": "@jupyter-widgets/base",
      "_model_module_version": "1.2.0",
      "_model_name": "LayoutModel",
      "_view_count": null,
      "_view_module": "@jupyter-widgets/base",
      "_view_module_version": "1.2.0",
      "_view_name": "LayoutView",
      "align_content": null,
      "align_items": null,
      "align_self": null,
      "border": null,
      "bottom": null,
      "display": null,
      "flex": null,
      "flex_flow": null,
      "grid_area": null,
      "grid_auto_columns": null,
      "grid_auto_flow": null,
      "grid_auto_rows": null,
      "grid_column": null,
      "grid_gap": null,
      "grid_row": null,
      "grid_template_areas": null,
      "grid_template_columns": null,
      "grid_template_rows": null,
      "height": null,
      "justify_content": null,
      "justify_items": null,
      "left": null,
      "margin": null,
      "max_height": null,
      "max_width": null,
      "min_height": null,
      "min_width": null,
      "object_fit": null,
      "object_position": null,
      "order": null,
      "overflow": null,
      "overflow_x": null,
      "overflow_y": null,
      "padding": null,
      "right": null,
      "top": null,
      "visibility": null,
      "width": null
     }
    },
    "d303b32abc3142929b848f7426184d86": {
     "model_module": "@jupyter-widgets/controls",
     "model_name": "HTMLModel",
     "state": {
      "_dom_classes": [],
      "_model_module": "@jupyter-widgets/controls",
      "_model_module_version": "1.5.0",
      "_model_name": "HTMLModel",
      "_view_count": null,
      "_view_module": "@jupyter-widgets/controls",
      "_view_module_version": "1.5.0",
      "_view_name": "HTMLView",
      "description": "",
      "description_tooltip": null,
      "layout": "IPY_MODEL_2da846a0746e4881a8fbb87563e696a9",
      "placeholder": "​",
      "style": "IPY_MODEL_480e2f15f0ff4382957c09f98870bfbb",
      "value": " 1654784/? [00:00&lt;00:00, 2370347.67it/s]"
     }
    },
    "d5d6d36c4b5c47b6b300fcdb6fbf0518": {
     "model_module": "@jupyter-widgets/controls",
     "model_name": "ProgressStyleModel",
     "state": {
      "_model_module": "@jupyter-widgets/controls",
      "_model_module_version": "1.5.0",
      "_model_name": "ProgressStyleModel",
      "_view_count": null,
      "_view_module": "@jupyter-widgets/base",
      "_view_module_version": "1.2.0",
      "_view_name": "StyleView",
      "bar_color": null,
      "description_width": "initial"
     }
    },
    "dfe8ef82ba9b48679a70d89777d59b0b": {
     "model_module": "@jupyter-widgets/base",
     "model_name": "LayoutModel",
     "state": {
      "_model_module": "@jupyter-widgets/base",
      "_model_module_version": "1.2.0",
      "_model_name": "LayoutModel",
      "_view_count": null,
      "_view_module": "@jupyter-widgets/base",
      "_view_module_version": "1.2.0",
      "_view_name": "LayoutView",
      "align_content": null,
      "align_items": null,
      "align_self": null,
      "border": null,
      "bottom": null,
      "display": null,
      "flex": null,
      "flex_flow": null,
      "grid_area": null,
      "grid_auto_columns": null,
      "grid_auto_flow": null,
      "grid_auto_rows": null,
      "grid_column": null,
      "grid_gap": null,
      "grid_row": null,
      "grid_template_areas": null,
      "grid_template_columns": null,
      "grid_template_rows": null,
      "height": null,
      "justify_content": null,
      "justify_items": null,
      "left": null,
      "margin": null,
      "max_height": null,
      "max_width": null,
      "min_height": null,
      "min_width": null,
      "object_fit": null,
      "object_position": null,
      "order": null,
      "overflow": null,
      "overflow_x": null,
      "overflow_y": null,
      "padding": null,
      "right": null,
      "top": null,
      "visibility": null,
      "width": null
     }
    },
    "e9c825d8315046b8a01d8e174145f996": {
     "model_module": "@jupyter-widgets/controls",
     "model_name": "FloatProgressModel",
     "state": {
      "_dom_classes": [],
      "_model_module": "@jupyter-widgets/controls",
      "_model_module_version": "1.5.0",
      "_model_name": "FloatProgressModel",
      "_view_count": null,
      "_view_module": "@jupyter-widgets/controls",
      "_view_module_version": "1.5.0",
      "_view_name": "ProgressView",
      "bar_style": "success",
      "description": "",
      "description_tooltip": null,
      "layout": "IPY_MODEL_fa25cd22ceb64c058a8b7bbfae59965b",
      "max": 1,
      "min": 0,
      "orientation": "horizontal",
      "style": "IPY_MODEL_15664a985d81419982b66ba9dbe45ac0",
      "value": 1
     }
    },
    "ed0304f32c574698a33ad7601f220f76": {
     "model_module": "@jupyter-widgets/base",
     "model_name": "LayoutModel",
     "state": {
      "_model_module": "@jupyter-widgets/base",
      "_model_module_version": "1.2.0",
      "_model_name": "LayoutModel",
      "_view_count": null,
      "_view_module": "@jupyter-widgets/base",
      "_view_module_version": "1.2.0",
      "_view_name": "LayoutView",
      "align_content": null,
      "align_items": null,
      "align_self": null,
      "border": null,
      "bottom": null,
      "display": null,
      "flex": null,
      "flex_flow": null,
      "grid_area": null,
      "grid_auto_columns": null,
      "grid_auto_flow": null,
      "grid_auto_rows": null,
      "grid_column": null,
      "grid_gap": null,
      "grid_row": null,
      "grid_template_areas": null,
      "grid_template_columns": null,
      "grid_template_rows": null,
      "height": null,
      "justify_content": null,
      "justify_items": null,
      "left": null,
      "margin": null,
      "max_height": null,
      "max_width": null,
      "min_height": null,
      "min_width": null,
      "object_fit": null,
      "object_position": null,
      "order": null,
      "overflow": null,
      "overflow_x": null,
      "overflow_y": null,
      "padding": null,
      "right": null,
      "top": null,
      "visibility": null,
      "width": null
     }
    },
    "ed33e2bef7204891b8a94f3f041a9a95": {
     "model_module": "@jupyter-widgets/controls",
     "model_name": "HTMLModel",
     "state": {
      "_dom_classes": [],
      "_model_module": "@jupyter-widgets/controls",
      "_model_module_version": "1.5.0",
      "_model_name": "HTMLModel",
      "_view_count": null,
      "_view_module": "@jupyter-widgets/controls",
      "_view_module_version": "1.5.0",
      "_view_name": "HTMLView",
      "description": "",
      "description_tooltip": null,
      "layout": "IPY_MODEL_dfe8ef82ba9b48679a70d89777d59b0b",
      "placeholder": "​",
      "style": "IPY_MODEL_24db77041f0a4414a97da95381f23959",
      "value": " 9920512/? [00:02&lt;00:00, 3478901.06it/s]"
     }
    },
    "f5ad3ea7664d477295117d0b1d3e306c": {
     "model_module": "@jupyter-widgets/base",
     "model_name": "LayoutModel",
     "state": {
      "_model_module": "@jupyter-widgets/base",
      "_model_module_version": "1.2.0",
      "_model_name": "LayoutModel",
      "_view_count": null,
      "_view_module": "@jupyter-widgets/base",
      "_view_module_version": "1.2.0",
      "_view_name": "LayoutView",
      "align_content": null,
      "align_items": null,
      "align_self": null,
      "border": null,
      "bottom": null,
      "display": null,
      "flex": null,
      "flex_flow": null,
      "grid_area": null,
      "grid_auto_columns": null,
      "grid_auto_flow": null,
      "grid_auto_rows": null,
      "grid_column": null,
      "grid_gap": null,
      "grid_row": null,
      "grid_template_areas": null,
      "grid_template_columns": null,
      "grid_template_rows": null,
      "height": null,
      "justify_content": null,
      "justify_items": null,
      "left": null,
      "margin": null,
      "max_height": null,
      "max_width": null,
      "min_height": null,
      "min_width": null,
      "object_fit": null,
      "object_position": null,
      "order": null,
      "overflow": null,
      "overflow_x": null,
      "overflow_y": null,
      "padding": null,
      "right": null,
      "top": null,
      "visibility": null,
      "width": null
     }
    },
    "f785534bf5c84181a3512611f603cddb": {
     "model_module": "@jupyter-widgets/controls",
     "model_name": "DescriptionStyleModel",
     "state": {
      "_model_module": "@jupyter-widgets/controls",
      "_model_module_version": "1.5.0",
      "_model_name": "DescriptionStyleModel",
      "_view_count": null,
      "_view_module": "@jupyter-widgets/base",
      "_view_module_version": "1.2.0",
      "_view_name": "StyleView",
      "description_width": ""
     }
    },
    "fa25cd22ceb64c058a8b7bbfae59965b": {
     "model_module": "@jupyter-widgets/base",
     "model_name": "LayoutModel",
     "state": {
      "_model_module": "@jupyter-widgets/base",
      "_model_module_version": "1.2.0",
      "_model_name": "LayoutModel",
      "_view_count": null,
      "_view_module": "@jupyter-widgets/base",
      "_view_module_version": "1.2.0",
      "_view_name": "LayoutView",
      "align_content": null,
      "align_items": null,
      "align_self": null,
      "border": null,
      "bottom": null,
      "display": null,
      "flex": null,
      "flex_flow": null,
      "grid_area": null,
      "grid_auto_columns": null,
      "grid_auto_flow": null,
      "grid_auto_rows": null,
      "grid_column": null,
      "grid_gap": null,
      "grid_row": null,
      "grid_template_areas": null,
      "grid_template_columns": null,
      "grid_template_rows": null,
      "height": null,
      "justify_content": null,
      "justify_items": null,
      "left": null,
      "margin": null,
      "max_height": null,
      "max_width": null,
      "min_height": null,
      "min_width": null,
      "object_fit": null,
      "object_position": null,
      "order": null,
      "overflow": null,
      "overflow_x": null,
      "overflow_y": null,
      "padding": null,
      "right": null,
      "top": null,
      "visibility": null,
      "width": null
     }
    },
    "fcb90c87feca40d1ba659d677cade272": {
     "model_module": "@jupyter-widgets/base",
     "model_name": "LayoutModel",
     "state": {
      "_model_module": "@jupyter-widgets/base",
      "_model_module_version": "1.2.0",
      "_model_name": "LayoutModel",
      "_view_count": null,
      "_view_module": "@jupyter-widgets/base",
      "_view_module_version": "1.2.0",
      "_view_name": "LayoutView",
      "align_content": null,
      "align_items": null,
      "align_self": null,
      "border": null,
      "bottom": null,
      "display": null,
      "flex": null,
      "flex_flow": null,
      "grid_area": null,
      "grid_auto_columns": null,
      "grid_auto_flow": null,
      "grid_auto_rows": null,
      "grid_column": null,
      "grid_gap": null,
      "grid_row": null,
      "grid_template_areas": null,
      "grid_template_columns": null,
      "grid_template_rows": null,
      "height": null,
      "justify_content": null,
      "justify_items": null,
      "left": null,
      "margin": null,
      "max_height": null,
      "max_width": null,
      "min_height": null,
      "min_width": null,
      "object_fit": null,
      "object_position": null,
      "order": null,
      "overflow": null,
      "overflow_x": null,
      "overflow_y": null,
      "padding": null,
      "right": null,
      "top": null,
      "visibility": null,
      "width": null
     }
    }
   }
  }
 },
 "nbformat": 4,
 "nbformat_minor": 1
}
