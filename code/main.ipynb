{
 "cells": [
  {
   "cell_type": "markdown",
   "metadata": {},
   "source": [
    "# Semi-Supervised VAE Project"
   ]
  },
  {
   "cell_type": "markdown",
   "metadata": {},
   "source": [
    "## By VAEGen"
   ]
  },
  {
   "cell_type": "markdown",
   "metadata": {},
   "source": [
    "### Imports"
   ]
  },
  {
   "cell_type": "code",
   "execution_count": null,
   "metadata": {},
   "outputs": [],
   "source": [
    "from plotting import plot_64, plot_64_m2, plot_loss_m1 ,plot_loss_m2, plot_interpolation, make_cm\n",
    "from models import VAE, M1, M2\n",
    "from training import run_epochs\n",
    "from datasets import importMNIST, importFashionMNIST\n",
    "from loaders import create_loader, create_subset\n",
    "from classifiers import kneighbors_classifier\n",
    "import torch"
   ]
  },
  {
   "cell_type": "markdown",
   "metadata": {},
   "source": [
    "## Meta settings and init values"
   ]
  },
  {
   "cell_type": "code",
   "execution_count": null,
   "metadata": {},
   "outputs": [],
   "source": [
    "#Meta settings\n",
    "dataset=\"mnist\" #(\"mnist\"/\"fashion\")\n",
    "batch_size = 512\n",
    "epochs = 2\n",
    "latent_dim = 8\n",
    "learning_rate = 1e-3\n",
    "image_channels = 1\n",
    "device = torch.device('cuda' if torch.cuda.is_available() else 'cpu')\n",
    "classes = [0,1,2,3,4,5,6,7,8,9]\n",
    "num_classes = len(classes)\n",
    "## Initial Values\n",
    "model = None\n",
    "dset_train = None\n",
    "dset_test = None\n",
    "train_loss = []\n",
    "train_acc = []\n",
    "test_loss = []\n",
    "test_acc = []\n"
   ]
  },
  {
   "cell_type": "code",
   "execution_count": null,
   "metadata": {},
   "outputs": [],
   "source": [
    "## Importing Dataset\n",
    "if dataset==\"mnist\":\n",
    "    dset_train, dset_test = importMNIST()\n",
    "elif dataset==\"fashion\":\n",
    "    dset_train, dset_test = importFashionMNIST()\n",
    "\n",
    "## Creating Loaders\n",
    "train_loader = create_loader(dset_train,batch_size)\n",
    "test_loader = create_loader(dset_test,batch_size)    "
   ]
  },
  {
   "cell_type": "markdown",
   "metadata": {},
   "source": [
    "## Binarized Datasets\n",
    "### 2.1.4 (Report)\n",
    "Plot 64 randomly chosen binarized MNIST samples on a 8 × 8 grid"
   ]
  },
  {
   "cell_type": "code",
   "execution_count": null,
   "metadata": {
    "scrolled": true
   },
   "outputs": [],
   "source": [
    "examples = enumerate(train_loader)\n",
    "\n",
    "# Plot non-binarized\n",
    "print(\"Plotting non-binarized\")\n",
    "plot_64(batch=examples)\n",
    "\n",
    "dset_bin=None\n",
    "\n",
    "if dataset==\"mnist\":\n",
    "    dset_bin, _ = importMNIST(binarized=True)\n",
    "    \n",
    "if dataset==\"fashion\":\n",
    "    dset_bin, _ = importFashionMNIST(binarized=True)\n",
    "\n",
    "bin_loader = create_loader(dset_bin,batch_size)\n",
    "\n",
    "examples = enumerate(bin_loader)\n",
    "    \n",
    "print(\"Plotting binarized\")\n",
    "plot_64(batch=examples)"
   ]
  },
  {
   "cell_type": "markdown",
   "metadata": {},
   "source": [
    "## VAE"
   ]
  },
  {
   "cell_type": "code",
   "execution_count": null,
   "metadata": {},
   "outputs": [],
   "source": []
  },
  {
   "cell_type": "code",
   "execution_count": null,
   "metadata": {},
   "outputs": [],
   "source": [
    "# define model and optimizer\n",
    "mode = \"vae\"\n",
    "model = VAE(model, image_channels=image_channels,h_dim=1024,z_dim=8).to(device)\n",
    "optimizer = torch.optim.Adam(model.parameters(), lr=1e-3)"
   ]
  },
  {
   "cell_type": "markdown",
   "metadata": {},
   "source": [
    "### 2.2.2 (Report) \n",
    "Generate 64 samples from the untrained model and plot them on a 8 × 8 grid."
   ]
  },
  {
   "cell_type": "code",
   "execution_count": null,
   "metadata": {
    "scrolled": true
   },
   "outputs": [],
   "source": [
    "# Sample before training\n",
    "print(\"Sampling before training\")\n",
    "plot_64(model=model, sample=True)"
   ]
  },
  {
   "cell_type": "code",
   "execution_count": null,
   "metadata": {},
   "outputs": [],
   "source": [
    "# Train network\n",
    "run_epochs(mode, model, optimizer, epochs, train_loader, test_loader)\n"
   ]
  },
  {
   "cell_type": "markdown",
   "metadata": {},
   "source": [
    "### 2.2.4 (Report) \n",
    "Generate 64 samples from the trained model and plot them on a 8 × 8 grid."
   ]
  },
  {
   "cell_type": "code",
   "execution_count": null,
   "metadata": {},
   "outputs": [],
   "source": [
    "# Sample after training\n",
    "print(\"Sampling after training\")\n",
    "plot_examples(model=model, sample=True)"
   ]
  },
  {
   "cell_type": "markdown",
   "metadata": {},
   "source": [
    "### 2.2.5 (Report)\n",
    "Evaluate the trained model on the test set and report the number."
   ]
  },
  {
   "cell_type": "code",
   "execution_count": null,
   "metadata": {},
   "outputs": [],
   "source": [
    "model.eval\n",
    "recon_images, mu, logvar = model(example_data.to(device),example_targets)\n",
    "loss, bce, kld = loss_fn(recon_images, example_data, mu, logvar)\n",
    "to_print = \"Loss: {:.3f} {:.3f} {:.3f}\".format(loss.data.cpu().numpy().tolist()/batch_size, bce.data.cpu().numpy().tolist()/batch_size, kld.data.cpu().numpy().tolist()/batch_size)\n",
    "print(to_print)"
   ]
  },
  {
   "cell_type": "code",
   "execution_count": null,
   "metadata": {},
   "outputs": [],
   "source": []
  }
 ],
 "metadata": {
  "kernelspec": {
   "display_name": "Python 3",
   "language": "python",
   "name": "python3"
  },
  "language_info": {
   "codemirror_mode": {
    "name": "ipython",
    "version": 3
   },
   "file_extension": ".py",
   "mimetype": "text/x-python",
   "name": "python",
   "nbconvert_exporter": "python",
   "pygments_lexer": "ipython3",
   "version": "3.8.5"
  }
 },
 "nbformat": 4,
 "nbformat_minor": 4
}
