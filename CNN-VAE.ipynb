{
 "cells": [
  {
   "cell_type": "code",
   "execution_count": 1,
   "metadata": {},
   "outputs": [],
   "source": [
    "import os\n",
    "import time\n",
    "import torch\n",
    "import argparse\n",
    "import pandas as pd\n",
    "import seaborn as sns\n",
    "import matplotlib.pyplot as plt\n",
    "from torchvision import transforms\n",
    "from torchvision.datasets import MNIST\n",
    "from torchvision.datasets import FashionMNIST\n",
    "from torch.utils.data import DataLoader\n",
    "from collections import defaultdict\n",
    "import torch.nn.functional as F\n"
   ]
  },
  {
   "cell_type": "code",
   "execution_count": 2,
   "metadata": {},
   "outputs": [],
   "source": [
    "# bs=32\n",
    "# train = MNIST(\n",
    "#     root='data', train=True, transform=transforms.ToTensor(),\n",
    "#     download=True)\n",
    "# test= MNIST(\n",
    "#     root='data', train=True, transform=transforms.ToTensor(),\n",
    "#     download=False)"
   ]
  },
  {
   "cell_type": "code",
   "execution_count": 3,
   "metadata": {
    "scrolled": true
   },
   "outputs": [],
   "source": [
    "\n",
    "\n",
    "bs=32*8*2\n",
    "train = FashionMNIST(\n",
    "    root='data', train=True, transform=transforms.ToTensor(),\n",
    "    download=True)\n",
    "test= FashionMNIST(\n",
    "    root='data', train=True, transform=transforms.ToTensor(),\n",
    "    download=False)"
   ]
  },
  {
   "cell_type": "code",
   "execution_count": 4,
   "metadata": {},
   "outputs": [],
   "source": [
    "train_loader = torch.utils.data.DataLoader(\n",
    "  train,\n",
    "  batch_size=bs, shuffle=True)\n",
    "\n",
    "test_loader = torch.utils.data.DataLoader(\n",
    "  test,\n",
    "  batch_size=bs, shuffle=True)"
   ]
  },
  {
   "cell_type": "code",
   "execution_count": 5,
   "metadata": {},
   "outputs": [
    {
     "data": {
      "text/plain": [
       "tensor([9, 0, 0,  ..., 3, 0, 5])"
      ]
     },
     "execution_count": 5,
     "metadata": {},
     "output_type": "execute_result"
    }
   ],
   "source": [
    "dir(train)\n",
    "train.targets\n"
   ]
  },
  {
   "cell_type": "code",
   "execution_count": 6,
   "metadata": {},
   "outputs": [],
   "source": [
    "examples = enumerate(test_loader)\n",
    "batch_idx, (example_data, example_targets) = next(examples)"
   ]
  },
  {
   "cell_type": "code",
   "execution_count": 7,
   "metadata": {},
   "outputs": [
    {
     "data": {
      "text/plain": [
       "torch.Size([512, 1, 28, 28])"
      ]
     },
     "execution_count": 7,
     "metadata": {},
     "output_type": "execute_result"
    }
   ],
   "source": [
    "example_data.shape"
   ]
  },
  {
   "cell_type": "code",
   "execution_count": 8,
   "metadata": {},
   "outputs": [
    {
     "data": {
      "image/png": "[encoded data removed]",
      "text/plain": [
       "<Figure size 432x288 with 6 Axes>"
      ]
     },
     "metadata": {},
     "output_type": "display_data"
    }
   ],
   "source": [
    "import matplotlib.pyplot as plt\n",
    "\n",
    "fig = plt.figure()\n",
    "for i in range(6):\n",
    "    plt.subplot(2,3,i+1)\n",
    "    plt.tight_layout()\n",
    "    plt.imshow(example_data[i][0], cmap='gray', interpolation='none')\n",
    "#     plt.title(\"Ground Truth: {}\".format(example_targets[i]))\n",
    "    plt.xticks([])\n",
    "    plt.yticks([])\n",
    "# fig"
   ]
  },
  {
   "cell_type": "code",
   "execution_count": 9,
   "metadata": {},
   "outputs": [],
   "source": [
    "device = torch.device('cuda' if torch.cuda.is_available() else 'cpu')\n",
    "# device=torch.device('cpu')"
   ]
  },
  {
   "cell_type": "code",
   "execution_count": 10,
   "metadata": {},
   "outputs": [
    {
     "data": {
      "text/plain": [
       "'GeForce GTX 1050'"
      ]
     },
     "execution_count": 10,
     "metadata": {},
     "output_type": "execute_result"
    }
   ],
   "source": [
    "torch.cuda.get_device_name()"
   ]
  },
  {
   "cell_type": "code",
   "execution_count": 11,
   "metadata": {},
   "outputs": [],
   "source": [
    "class Flatten(torch.nn.Module):\n",
    "    def forward(self, input):\n",
    "        return input.view(input.size(0), -1)"
   ]
  },
  {
   "cell_type": "code",
   "execution_count": 12,
   "metadata": {},
   "outputs": [],
   "source": [
    "class UnFlatten(torch.nn.Module):\n",
    "    def forward(self, input, size=1024):\n",
    "        return input.view(input.size(0), size, 1, 1)"
   ]
  },
  {
   "cell_type": "code",
   "execution_count": 23,
   "metadata": {},
   "outputs": [],
   "source": [
    "NNprint_=False\n",
    "class NNprint(torch.nn.Module):\n",
    "    def forward(self, input):\n",
    "        if NNprint_==True:\n",
    "            print(input.shape)\n",
    "        return input"
   ]
  },
  {
   "cell_type": "code",
   "execution_count": 30,
   "metadata": {},
   "outputs": [],
   "source": [
    "\n",
    "class VAE(torch.nn.Module):\n",
    "    def __init__(self, image_channels=1, h_dim=1024, z_dim=32,num_labels=10):\n",
    "        super(VAE, self).__init__()\n",
    "        self.encoder = torch.nn.Sequential(\n",
    "            NNprint(),\n",
    "            torch.nn.Conv2d(image_channels, 32, kernel_size=3, stride=2),\n",
    "            NNprint(),\n",
    "            torch.nn.LeakyReLU(),\n",
    "            torch.nn.Conv2d(32, 64, kernel_size=3, stride=2),\n",
    "            NNprint(),\n",
    "            torch.nn.LeakyReLU(),\n",
    "            torch.nn.Conv2d(64, 128, kernel_size=3, stride=1),\n",
    "            NNprint(),\n",
    "            torch.nn.LeakyReLU(),\n",
    "            torch.nn.Conv2d(128, 256, kernel_size=3, stride=1),\n",
    "            NNprint(),\n",
    "            torch.nn.LeakyReLU(),\n",
    "            Flatten(),\n",
    "            \n",
    "            \n",
    "            NNprint(),\n",
    "            \n",
    "        )\n",
    "        self.h_dim=h_dim\n",
    "        self.num_labels=num_labels\n",
    "        self.fc1 = torch.nn.Linear(h_dim, z_dim)\n",
    "        self.fc2 = torch.nn.Linear(h_dim, z_dim)\n",
    "        self.fc3 = torch.nn.Linear(z_dim+num_labels, h_dim)\n",
    "        \n",
    "        self.decoder = torch.nn.Sequential(\n",
    "            NNprint(),\n",
    "            UnFlatten(),\n",
    "            NNprint(),\n",
    "            torch.nn.ConvTranspose2d(h_dim, 128, kernel_size=4, stride=2),\n",
    "            torch.nn.LeakyReLU(),\n",
    "            NNprint(),\n",
    "            torch.nn.ConvTranspose2d(128, 64, kernel_size=5, stride=2),\n",
    "            torch.nn.LeakyReLU(),\n",
    "            NNprint(),\n",
    "            torch.nn.ConvTranspose2d(64, 32, kernel_size=4,padding=0, stride=2),\n",
    "            torch.nn.LeakyReLU(),\n",
    "            NNprint(),\n",
    "            torch.nn.ConvTranspose2d(32, image_channels, kernel_size=5, stride=1),\n",
    "            torch.nn.Sigmoid(),\n",
    "            NNprint(),\n",
    "        )\n",
    "        \n",
    "    def reparameterize(self, mu, logvar):\n",
    "        std = logvar.mul(0.5).exp_()\n",
    "        # return torch.normal(mu, std)\n",
    "        esp = torch.randn(*mu.size())\n",
    "        z = mu.to(device) + std.to(device) * esp.to(device)\n",
    "        return z\n",
    "    \n",
    "    def bottleneck(self, h,labels):\n",
    "        mu, logvar = self.fc1(h), self.fc2(h)\n",
    "        z = self.reparameterize(mu, logvar)\n",
    "        z=torch.cat((z,torch.nn.functional.one_hot(labels,self.num_labels).type(torch.float).to(device)),1)\n",
    "        return z, mu, logvar\n",
    "\n",
    "    def encode(self, x,labels):\n",
    "        h = self.encoder(x)\n",
    "#         h=torch.cat((h,labels.float().reshape(labels.size(0),1).to(device)),dim=1)\n",
    "        z, mu, logvar = self.bottleneck(h,labels)\n",
    "        return z, mu, logvar\n",
    "\n",
    "    def decode(self, z):\n",
    "        z = self.fc3(z)\n",
    "        z = self.decoder(z)\n",
    "        return z\n",
    "\n",
    "    def forward(self, x,labels):\n",
    "        z, mu, logvar = self.encode(x,labels)\n",
    "#         print('z',z.shape)\n",
    "        z = self.decode(z)\n",
    "        return z, mu, logvar\n",
    "    \n",
    "    def sample(self,z):\n",
    "        return self.decode(z)"
   ]
  },
  {
   "cell_type": "code",
   "execution_count": 31,
   "metadata": {},
   "outputs": [
    {
     "data": {
      "text/plain": [
       "1"
      ]
     },
     "execution_count": 31,
     "metadata": {},
     "output_type": "execute_result"
    }
   ],
   "source": [
    "image_channels = example_data.size(1)\n",
    "image_channels"
   ]
  },
  {
   "cell_type": "code",
   "execution_count": 32,
   "metadata": {},
   "outputs": [],
   "source": [
    "model = VAE(image_channels=image_channels,h_dim=1024,z_dim=32).to(device)\n",
    "optimizer = torch.optim.Adam(model.parameters(), lr=1e-3)"
   ]
  },
  {
   "cell_type": "code",
   "execution_count": 33,
   "metadata": {},
   "outputs": [],
   "source": [
    "def loss_fn(recon_x, x, mu, logvar):\n",
    "    BCE = F.binary_cross_entropy(recon_x, x.to(device), size_average=False,reduction='sum' )\n",
    "    # BCE = F.mse_loss(recon_x, x, size_average=False)\n",
    "\n",
    "    # see Appendix B from VAE paper:\n",
    "    # Kingma and Welling. Auto-Encoding Variational Bayes. ICLR, 2014\n",
    "    # 0.5 * sum(1 + log(sigma^2) - mu^2 - sigma^2)\n",
    "    KLD = -0.5 * torch.mean(1 + logvar - mu.pow(2) - logvar.exp())\n",
    "\n",
    "    return BCE + KLD, BCE, KLD"
   ]
  },
  {
   "cell_type": "code",
   "execution_count": 34,
   "metadata": {},
   "outputs": [],
   "source": [
    "epochs=10"
   ]
  },
  {
   "cell_type": "code",
   "execution_count": null,
   "metadata": {},
   "outputs": [
    {
     "name": "stdout",
     "output_type": "stream",
     "text": [
      "Epoch[1/10] Loss: 524.541 524.541 0.000\n",
      "Epoch[2/10] Loss: 246.923 246.911 0.012\n",
      "Epoch[3/10] Loss: 228.832 228.819 0.014\n"
     ]
    }
   ],
   "source": [
    "%%time\n",
    "for epoch in range(epochs):\n",
    "    for idx, (images, labels) in enumerate(train_loader):\n",
    "#         print(idx)\n",
    "        recon_images, mu, logvar = model(images.to(device),labels)\n",
    "        loss, bce, kld = loss_fn(recon_images, images, mu, logvar)\n",
    "        optimizer.zero_grad()\n",
    "        loss.backward()\n",
    "        optimizer.step()\n",
    "        if idx%500==0:\n",
    "            to_print = \"Epoch[{}/{}] Loss: {:.3f} {:.3f} {:.3f}\".format(epoch+1, \n",
    "                                        epochs, loss.data.cpu().numpy().tolist()/bs, bce.data.cpu().numpy().tolist()/bs, kld.data.cpu().numpy().tolist()/bs)\n",
    "            print(to_print)\n",
    "torch.save(model.state_dict(), 'vae.torch')\n"
   ]
  },
  {
   "cell_type": "code",
   "execution_count": null,
   "metadata": {},
   "outputs": [],
   "source": [
    "fig = plt.figure()\n",
    "for i in range(6):\n",
    "    plt.subplot(2,3,i+1)\n",
    "    plt.tight_layout()\n",
    "    plt.imshow(example_data[i][0], cmap='gray', interpolation='none')\n",
    "#     plt.title(\"Ground Truth: {}\".format(example_targets[i]))\n",
    "    plt.xticks([])\n",
    "    plt.yticks([])"
   ]
  },
  {
   "cell_type": "code",
   "execution_count": null,
   "metadata": {},
   "outputs": [],
   "source": [
    "example_data_nn=model(example_data.to(device),example_targets)\n",
    "fig = plt.figure()\n",
    "for i in range(6):\n",
    "    plt.subplot(2,3,i+1)\n",
    "    plt.tight_layout()\n",
    "    plt.imshow(example_data_nn[0][i][0].cpu().data, cmap='gray', interpolation='none')\n",
    "#     plt.title(\"Ground Truth: {}\".format(example_targets[i]))\n",
    "    plt.xticks([])\n",
    "    plt.yticks([])"
   ]
  },
  {
   "cell_type": "code",
   "execution_count": null,
   "metadata": {},
   "outputs": [],
   "source": [
    "zeros=torch.zeros(10,1024)\n",
    "c=0\n",
    "for i in zeros:\n",
    "    \n",
    "    zeros[c,c]+=1\n",
    "    c+=1\n",
    "    if c==10:\n",
    "        c=0\n",
    "        \n",
    "    \n",
    "samples= torch.cat((torch.rand(32,1024),zeros)).T\n",
    "\n",
    "smple_pic =model.sample(samples.to(device))\n",
    "\n",
    "fig = plt.figure()\n",
    "for i in range(6):\n",
    "    plt.subplot(2,3,i+1)\n",
    "    plt.tight_layout()\n",
    "    plt.imshow(smple_pic[i][0].cpu().data, cmap='gray', interpolation='none')\n",
    "#     plt.title(\"Ground Truth: {}\".format(example_targets[i]))\n",
    "    plt.xticks([])\n",
    "    plt.yticks([])"
   ]
  },
  {
   "cell_type": "code",
   "execution_count": null,
   "metadata": {},
   "outputs": [],
   "source": []
  }
 ],
 "metadata": {
  "kernelspec": {
   "display_name": "Python 3",
   "language": "python",
   "name": "python3"
  },
  "language_info": {
   "codemirror_mode": {
    "name": "ipython",
    "version": 3
   },
   "file_extension": ".py",
   "mimetype": "text/x-python",
   "name": "python",
   "nbconvert_exporter": "python",
   "pygments_lexer": "ipython3",
   "version": "3.7.6"
  }
 },
 "nbformat": 4,
 "nbformat_minor": 4
}
