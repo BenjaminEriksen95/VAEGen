{
 "cells": [
  {
   "cell_type": "markdown",
   "metadata": {},
   "source": [
    "# Semi-Supervised VAE Project\n",
    "## By VAEGen"
   ]
  },
  {
   "cell_type": "markdown",
   "metadata": {},
   "source": [
    "## Setup"
   ]
  },
  {
   "cell_type": "markdown",
   "metadata": {},
   "source": [
    "### Import libraries"
   ]
  },
  {
   "cell_type": "code",
   "execution_count": 1,
   "metadata": {},
   "outputs": [],
   "source": [
    "import os\n",
    "import time\n",
    "import torch\n",
    "import argparse\n",
    "from functools import reduce\n",
    "# \n",
    "import numpy as np\n",
    "import pandas as pd\n",
    "import seaborn as sns\n",
    "import matplotlib.pyplot as plt\n",
    "from collections import defaultdict\n",
    "\n",
    "# Torch\n",
    "import torch\n",
    "from torch.distributions import Bernoulli\n",
    "from torch.utils.data import DataLoader\n",
    "from torch.utils.data.sampler import SubsetRandomSampler\n",
    "import torch.nn.functional as F\n",
    "\n",
    "# Torchvision\n",
    "import torchvision\n",
    "from torchvision import transforms\n",
    "from torchvision.datasets import MNIST\n",
    "from torchvision.datasets import FashionMNIST\n",
    "from torchvision.transforms import ToTensor"
   ]
  },
  {
   "cell_type": "markdown",
   "metadata": {},
   "source": [
    "### Meta parameters"
   ]
  },
  {
   "cell_type": "code",
   "execution_count": 2,
   "metadata": {},
   "outputs": [],
   "source": [
    "batch_size=32*8*2\n",
    "epochs=5\n",
    "learning_rate=1e-3\n",
    "latent_dim = 8\n",
    "device = torch.device('cuda' if torch.cuda.is_available() else 'cpu')\n",
    "device='cpu'\n",
    "#print layers, used for debugging\n",
    "NNprint_ = False\n",
    "classes=[0,1,2,3,4]\n",
    "num_classes=len(classes)"
   ]
  },
  {
   "cell_type": "markdown",
   "metadata": {},
   "source": [
    "### Import MNIST Dataset"
   ]
  },
  {
   "cell_type": "code",
   "execution_count": 3,
   "metadata": {},
   "outputs": [],
   "source": [
    "# transforms arrays into tensors, can be extended\n",
    "transformations = transforms.Compose([\n",
    "                          transforms.ToTensor(),\n",
    "                          transforms.Lambda(lambda p: Bernoulli(probs=p).sample())])\n",
    "\n",
    "# define the train and test sets\n",
    "dset_train = MNIST(root='data', train=True,  transform=transformations, download=True)\n",
    "dset_test  = MNIST(root='data', train=False, transform=transformations)\n",
    "\n",
    "def stratified_sampler(labels,classes):\n",
    "    \"\"\"Sampler that only picks datapoints corresponding to the specified classes\"\"\"\n",
    "    (indices,) = np.where(reduce(lambda x, y: x | y, [labels.numpy() == i for i in classes]))\n",
    "    indices = torch.from_numpy(indices)\n",
    "    return SubsetRandomSampler(indices)\n",
    "\n",
    "# The loaders perform the actual work\n",
    "train_loader = DataLoader(dset_train, batch_size=batch_size,\n",
    "                          sampler=stratified_sampler(dset_train.targets,classes))\n",
    "test_loader  = DataLoader(dset_test, batch_size=batch_size, \n",
    "                          sampler=stratified_sampler(dset_test.targets,classes))"
   ]
  },
  {
   "cell_type": "markdown",
   "metadata": {},
   "source": [
    "### Import FashionMNIST Dataset"
   ]
  },
  {
   "cell_type": "code",
   "execution_count": 4,
   "metadata": {
    "scrolled": true
   },
   "outputs": [],
   "source": [
    "train = FashionMNIST(\n",
    "    root='data', train=True, transform=transforms.ToTensor(),\n",
    "    download=True)\n",
    "test= FashionMNIST(\n",
    "    root='data', train=False, transform=transforms.ToTensor(),\n",
    "    download=False)"
   ]
  },
  {
   "cell_type": "markdown",
   "metadata": {},
   "source": [
    "### Configure Loaders"
   ]
  },
  {
   "cell_type": "code",
   "execution_count": 5,
   "metadata": {},
   "outputs": [],
   "source": [
    "train_loader = torch.utils.data.DataLoader(\n",
    "  train,\n",
    "  batch_size=batch_size,sampler=stratified_sampler(train.targets,classes))\n",
    "\n",
    "test_loader = torch.utils.data.DataLoader(\n",
    "  test,\n",
    "  batch_size=batch_size,sampler=stratified_sampler(test.targets,classes))"
   ]
  },
  {
   "cell_type": "code",
   "execution_count": 6,
   "metadata": {},
   "outputs": [],
   "source": [
    "#https://github.com/wohlert/semi-supervised-pytorch/blob/master/semi-supervised/utils.py\n",
    "def onehot(k):\n",
    "    \"\"\"\n",
    "    Converts a number to its one-hot or 1-of-k representation\n",
    "    vector.\n",
    "    :param k: (int) length of vector\n",
    "    :return: onehot function\n",
    "    \"\"\"\n",
    "    def encode(label):\n",
    "        y = torch.zeros(k)\n",
    "        if label < k:\n",
    "            y[label] = 1\n",
    "        return y\n",
    "    return encode"
   ]
  },
  {
   "cell_type": "code",
   "execution_count": 7,
   "metadata": {},
   "outputs": [],
   "source": [
    "n_labels = 10\n",
    "def get_mnist(location=\"./data\", batch_size=64, labels_per_class=100):\n",
    "    from functools import reduce\n",
    "    from operator import __or__\n",
    "    from torch.utils.data.sampler import SubsetRandomSampler\n",
    "    from torchvision.datasets import MNIST\n",
    "    import torchvision.transforms as transforms\n",
    "\n",
    "    flatten_bernoulli = lambda x: transforms.ToTensor()(x).view(-1).bernoulli()\n",
    "\n",
    "    mnist_train = MNIST(location, train=True, download=True,\n",
    "                        transform=flatten_bernoulli, target_transform=onehot(n_labels))\n",
    "    mnist_valid = MNIST(location, train=False, download=True,\n",
    "                        transform=flatten_bernoulli, target_transform=onehot(n_labels))\n",
    "\n",
    "    def get_sampler(labels, n=None):\n",
    "        # Only choose digits in n_labels\n",
    "        (indices,) = np.where(reduce(__or__, [labels == i for i in np.arange(n_labels)]))\n",
    "\n",
    "        # Ensure uniform distribution of labels\n",
    "        np.random.shuffle(indices)\n",
    "        indices = np.hstack([list(filter(lambda idx: labels[idx] == i, indices))[:n] for i in range(n_labels)])\n",
    "\n",
    "        indices = torch.from_numpy(indices)\n",
    "        sampler = SubsetRandomSampler(indices)\n",
    "        return sampler\n",
    "\n",
    "    # Dataloaders for MNIST\n",
    "    labelled = torch.utils.data.DataLoader(mnist_train, batch_size=batch_size, num_workers=2, pin_memory=device,\n",
    "                                           sampler=get_sampler(mnist_train.train_labels.numpy(), labels_per_class))\n",
    "    unlabelled = torch.utils.data.DataLoader(mnist_train, batch_size=batch_size, num_workers=2, pin_memory=device,\n",
    "                                             sampler=get_sampler(mnist_train.train_labels.numpy()))\n",
    "    validation = torch.utils.data.DataLoader(mnist_valid, batch_size=batch_size, num_workers=2, pin_memory=device,\n",
    "                                             sampler=get_sampler(mnist_valid.test_labels.numpy()))\n",
    "\n",
    "    return labelled, unlabelled, validation"
   ]
  },
  {
   "cell_type": "code",
   "execution_count": 8,
   "metadata": {},
   "outputs": [
    {
     "name": "stderr",
     "output_type": "stream",
     "text": [
      "/home/benjamin/.local/lib/python3.8/site-packages/torchvision/datasets/mnist.py:45: UserWarning: train_labels has been renamed targets\n",
      "  warnings.warn(\"train_labels has been renamed targets\")\n",
      "/home/benjamin/.local/lib/python3.8/site-packages/torchvision/datasets/mnist.py:50: UserWarning: test_labels has been renamed targets\n",
      "  warnings.warn(\"test_labels has been renamed targets\")\n"
     ]
    }
   ],
   "source": [
    "labelled, unlabelled, validation = get_mnist(location=\"./data\", batch_size=64, labels_per_class=10)"
   ]
  },
  {
   "cell_type": "code",
   "execution_count": 9,
   "metadata": {},
   "outputs": [
    {
     "name": "stdout",
     "output_type": "stream",
     "text": [
      "torch.Size([1, 28, 28])\n"
     ]
    }
   ],
   "source": [
    "\n",
    "examples = enumerate(test_loader)\n",
    "batch_idx, (example_data, example_targets) = next(examples)\n",
    "\n",
    "print(example_data[0].shape)"
   ]
  },
  {
   "cell_type": "markdown",
   "metadata": {},
   "source": [
    "### Plot examples"
   ]
  },
  {
   "cell_type": "code",
   "execution_count": 10,
   "metadata": {},
   "outputs": [],
   "source": [
    "\n",
    "examples = enumerate(test_loader)\n",
    "batch_idx, (example_data, example_targets) = next(examples)\n",
    "def plot_examples(model=None,sample=False,data=None):\n",
    "    if data is None:\n",
    "        if (model==None):\n",
    "            batch_idx, (data, example_targets) = next(examples)\n",
    "        else:\n",
    "            batch_idx, (data, example_targets) = next(examples)\n",
    "            if sample:\n",
    "                zeros=torch.zeros(num_classes,1024)\n",
    "                samples= torch.cat((torch.rand(latent_dim,1024),zeros)).T\n",
    "                data = model.sample(samples.to(device))\n",
    "            else:\n",
    "                data = model(data.to(device),example_targets)[0]\n",
    "        \n",
    "    fig = plt.figure()\n",
    "    fig.set_figheight(15)\n",
    "    fig.set_figwidth(15)\n",
    "    for i in range(64):\n",
    "        plt.subplot(8,8,i+1)\n",
    "        plt.tight_layout()\n",
    "        if model:\n",
    "            plt.imshow(data[i][0].cpu().data, cmap='gray', interpolation='none')\n",
    "        else:\n",
    "          plt.imshow(data[i][0], cmap='gray', interpolation='none')\n",
    "    #     plt.title(\"Ground Truth: {}\".format(example_targets[i]))\n",
    "        plt.xticks([])\n",
    "        plt.yticks([])"
   ]
  },
  {
   "cell_type": "code",
   "execution_count": 11,
   "metadata": {},
   "outputs": [
    {
     "name": "stdout",
     "output_type": "stream",
     "text": [
      "torch.Size([28, 28])\n",
      "torch.Size([28, 28])\n",
      "torch.Size([28, 28])\n",
      "torch.Size([28, 28])\n",
      "torch.Size([28, 28])\n",
      "torch.Size([28, 28])\n",
      "torch.Size([28, 28])\n",
      "torch.Size([28, 28])\n",
      "torch.Size([28, 28])\n",
      "torch.Size([28, 28])\n",
      "torch.Size([28, 28])\n",
      "torch.Size([28, 28])\n",
      "torch.Size([28, 28])\n",
      "torch.Size([28, 28])\n",
      "torch.Size([28, 28])\n",
      "torch.Size([28, 28])\n",
      "torch.Size([28, 28])\n",
      "torch.Size([28, 28])\n",
      "torch.Size([28, 28])\n",
      "torch.Size([28, 28])\n",
      "torch.Size([28, 28])\n",
      "torch.Size([28, 28])\n",
      "torch.Size([28, 28])\n",
      "torch.Size([28, 28])\n",
      "torch.Size([28, 28])\n",
      "torch.Size([28, 28])\n",
      "torch.Size([28, 28])\n",
      "torch.Size([28, 28])\n",
      "torch.Size([28, 28])\n",
      "torch.Size([28, 28])\n",
      "torch.Size([28, 28])\n",
      "torch.Size([28, 28])\n",
      "torch.Size([28, 28])\n",
      "torch.Size([28, 28])\n",
      "torch.Size([28, 28])\n",
      "torch.Size([28, 28])\n",
      "torch.Size([28, 28])\n",
      "torch.Size([28, 28])\n",
      "torch.Size([28, 28])\n",
      "torch.Size([28, 28])\n",
      "torch.Size([28, 28])\n",
      "torch.Size([28, 28])\n",
      "torch.Size([28, 28])\n",
      "torch.Size([28, 28])\n",
      "torch.Size([28, 28])\n",
      "torch.Size([28, 28])\n",
      "torch.Size([28, 28])\n",
      "torch.Size([28, 28])\n",
      "torch.Size([28, 28])\n",
      "torch.Size([28, 28])\n",
      "torch.Size([28, 28])\n",
      "torch.Size([28, 28])\n",
      "torch.Size([28, 28])\n",
      "torch.Size([28, 28])\n",
      "torch.Size([28, 28])\n",
      "torch.Size([28, 28])\n",
      "torch.Size([28, 28])\n",
      "torch.Size([28, 28])\n",
      "torch.Size([28, 28])\n",
      "torch.Size([28, 28])\n",
      "torch.Size([28, 28])\n",
      "torch.Size([28, 28])\n",
      "torch.Size([28, 28])\n",
      "torch.Size([28, 28])\n"
     ]
    },
    {
     "data": {
      "image/png": "[encoded data removed]",
      "text/plain": [
       "<Figure size 1080x1080 with 64 Axes>"
      ]
     },
     "metadata": {},
     "output_type": "display_data"
    }
   ],
   "source": [
    "plot_examples()"
   ]
  },
  {
   "cell_type": "markdown",
   "metadata": {},
   "source": [
    "### Torch auxiliary modules"
   ]
  },
  {
   "cell_type": "code",
   "execution_count": 12,
   "metadata": {},
   "outputs": [],
   "source": [
    "class Flatten(torch.nn.Module):\n",
    "    def forward(self, input):\n",
    "        return input.view(input.size(0), -1)\n",
    "    \n",
    "class UnFlatten(torch.nn.Module):\n",
    "    def forward(self, input, size=1024):\n",
    "        return input.view(input.size(0), size, 1, 1)\n",
    "\n",
    "# Debugging module \n",
    "class NNprint(torch.nn.Module):\n",
    "    def forward(self, input):\n",
    "        if NNprint_==True:\n",
    "            print(input.shape)\n",
    "        return input  "
   ]
  },
  {
   "cell_type": "markdown",
   "metadata": {},
   "source": [
    "## Deep Generative Model\n",
    "Input: unlabeled data $[(x_v,)]$ and labeled data $[(x_s,y_s)]$\n",
    "1. Run VAE on $[x_v + x_s]$.\n",
    "2. Create linear classifier with input of latent vector size and output equal to number of classes.\n",
    "3. Train classifier on $(\\mu_s,y_s)$ where $\\mu_s = vae.encode(x_s).\\mu$"
   ]
  },
  {
   "cell_type": "code",
   "execution_count": 56,
   "metadata": {},
   "outputs": [
    {
     "name": "stdout",
     "output_type": "stream",
     "text": [
      "Classifier(\n",
      "  (net): Sequential(\n",
      "    (0): ModuleList(\n",
      "      (0): Linear(in_features=784, out_features=25, bias=True)\n",
      "      (1): ReLU()\n",
      "      (2): Linear(in_features=25, out_features=100, bias=True)\n",
      "      (3): ReLU()\n",
      "      (4): Linear(in_features=100, out_features=15, bias=True)\n",
      "      (5): Softmax(dim=None)\n",
      "    )\n",
      "  )\n",
      ")\n"
     ]
    }
   ],
   "source": [
    "class Classifier(torch.nn.Module):\n",
    "    def __init__(self, h_dimensions, input_size=28*28,z_dim=15):\n",
    "        # Input dimensions is 3 item tuple: in_dim, hidden_dim, out_dim\n",
    "        super(Classifier,self).__init__()\n",
    "        layers = torch.nn.ModuleList()\n",
    "        layers.append(torch.nn.Linear(input_size,h_dimensions[0]))\n",
    "        layers.append(torch.nn.ReLU())\n",
    "        for i in range(0,len(h_dimensions)-1):\n",
    "            layers.append(torch.nn.Linear(h_dimensions[i],h_dimensions[i+1]))\n",
    "            layers.append(torch.nn.ReLU())\n",
    "            \n",
    "        layers.append(torch.nn.Linear(h_dimensions[-1],z_dim))\n",
    "        layers.append(torch.nn.Softmax())\n",
    "                      \n",
    "        self.net = torch.nn.Sequential(layers)\n",
    "   \n",
    "    def forward(self, x):       \n",
    "        return self.net(x)\n",
    "    \n",
    "#clas = Classifier([25,100])\n",
    "#print(clas)\n",
    "    "
   ]
  },
  {
   "cell_type": "code",
   "execution_count": 58,
   "metadata": {},
   "outputs": [
    {
     "name": "stdout",
     "output_type": "stream",
     "text": [
      "Encoder(\n",
      "  (encode): Sequential(\n",
      "    (0): NNprint()\n",
      "    (1): Conv2d(1, 32, kernel_size=(3, 3), stride=(2, 2))\n",
      "    (2): NNprint()\n",
      "    (3): LeakyReLU(negative_slope=0.01)\n",
      "    (4): Conv2d(32, 64, kernel_size=(3, 3), stride=(2, 2))\n",
      "    (5): NNprint()\n",
      "    (6): LeakyReLU(negative_slope=0.01)\n",
      "    (7): Conv2d(64, 128, kernel_size=(3, 3), stride=(1, 1))\n",
      "    (8): NNprint()\n",
      "    (9): LeakyReLU(negative_slope=0.01)\n",
      "    (10): Conv2d(128, 256, kernel_size=(3, 3), stride=(1, 1))\n",
      "    (11): NNprint()\n",
      "    (12): LeakyReLU(negative_slope=0.01)\n",
      "    (13): Flatten()\n",
      "    (14): NNprint()\n",
      "  )\n",
      "  (lin): Linear(in_features=12355, out_features=15, bias=True)\n",
      ")\n",
      "Decoder(\n",
      "  (decode): Sequential(\n",
      "    (0): NNprint()\n",
      "    (1): UnFlatten()\n",
      "    (2): NNprint()\n",
      "    (3): ConvTranspose2d(15, 128, kernel_size=(4, 4), stride=(2, 2))\n",
      "    (4): LeakyReLU(negative_slope=0.01)\n",
      "    (5): NNprint()\n",
      "    (6): ConvTranspose2d(128, 64, kernel_size=(5, 5), stride=(2, 2))\n",
      "    (7): LeakyReLU(negative_slope=0.01)\n",
      "    (8): NNprint()\n",
      "    (9): ConvTranspose2d(64, 32, kernel_size=(4, 4), stride=(2, 2))\n",
      "    (10): LeakyReLU(negative_slope=0.01)\n",
      "    (11): NNprint()\n",
      "    (12): ConvTranspose2d(32, 1, kernel_size=(5, 5), stride=(1, 1))\n",
      "    (13): Sigmoid()\n",
      "    (14): NNprint()\n",
      "  )\n",
      ")\n"
     ]
    }
   ],
   "source": [
    "class Encoder(torch.nn.Module):\n",
    "    def __init__(self, input_size=28*28,categories=10, image_channels=1, latent_size=15):\n",
    "        super(Encoder, self).__init__()\n",
    "        self.encode = torch.nn.Sequential(\n",
    "            NNprint(),\n",
    "            torch.nn.Conv2d(image_channels, 32, kernel_size=3, stride=2),\n",
    "            NNprint(),\n",
    "            torch.nn.LeakyReLU(),\n",
    "            torch.nn.Conv2d(32, 64, kernel_size=3, stride=2),\n",
    "            NNprint(),\n",
    "            torch.nn.LeakyReLU(),\n",
    "            torch.nn.Conv2d(64, 128, kernel_size=3, stride=1),\n",
    "            NNprint(),\n",
    "            torch.nn.LeakyReLU(),\n",
    "            torch.nn.Conv2d(128, 256, kernel_size=3, stride=1),\n",
    "            NNprint(),\n",
    "            torch.nn.LeakyReLU(),\n",
    "            Flatten(),            \n",
    "            NNprint()\n",
    "        )\n",
    "        conv_out = 12345#todo\n",
    "        self.lin = torch.nn.Linear(conv_out+categories, latent_size)\n",
    "        \n",
    "    def forward(self, x, y):\n",
    "            x = self.encode(x)\n",
    "            out = self.lin(torch.cat([x,y],1))\n",
    "            return out\n",
    " ##TODO   \n",
    "class Decoder(torch.nn.Module):\n",
    "    def __init__(self, image_channels=1, latent_size=15):\n",
    "        super(Decoder, self).__init__()\n",
    "        self.decode = torch.nn.Sequential(\n",
    "            NNprint(),\n",
    "            UnFlatten(),\n",
    "            NNprint(),\n",
    "            torch.nn.ConvTranspose2d(latent_size, 128, kernel_size=4, stride=2),\n",
    "            torch.nn.LeakyReLU(),\n",
    "            NNprint(),\n",
    "            torch.nn.ConvTranspose2d(128, 64, kernel_size=5, stride=2),\n",
    "            torch.nn.LeakyReLU(),\n",
    "            NNprint(),\n",
    "            torch.nn.ConvTranspose2d(64, 32, kernel_size=4,padding=0, stride=2),\n",
    "            torch.nn.LeakyReLU(),\n",
    "            NNprint(),\n",
    "            torch.nn.ConvTranspose2d(32, image_channels, kernel_size=5, stride=1),\n",
    "            torch.nn.Sigmoid(),\n",
    "            NNprint(),\n",
    "        )\n",
    "    def forward(self, x):\n",
    "            return self.decode(x)\n",
    "    \n",
    "    \n",
    "    \n",
    "enc = Encoder()\n",
    "print(enc)\n",
    "\n",
    "\n",
    "dec = Decoder()\n",
    "print(dec)\n",
    "    \n",
    "    "
   ]
  },
  {
   "cell_type": "code",
   "execution_count": 59,
   "metadata": {},
   "outputs": [
    {
     "name": "stdout",
     "output_type": "stream",
     "text": [
      "VAEGenModel(\n",
      "  (encoder): Encoder(\n",
      "    (encode): Sequential(\n",
      "      (0): NNprint()\n",
      "      (1): Conv2d(1, 32, kernel_size=(3, 3), stride=(2, 2))\n",
      "      (2): NNprint()\n",
      "      (3): LeakyReLU(negative_slope=0.01)\n",
      "      (4): Conv2d(32, 64, kernel_size=(3, 3), stride=(2, 2))\n",
      "      (5): NNprint()\n",
      "      (6): LeakyReLU(negative_slope=0.01)\n",
      "      (7): Conv2d(64, 128, kernel_size=(3, 3), stride=(1, 1))\n",
      "      (8): NNprint()\n",
      "      (9): LeakyReLU(negative_slope=0.01)\n",
      "      (10): Conv2d(128, 256, kernel_size=(3, 3), stride=(1, 1))\n",
      "      (11): NNprint()\n",
      "      (12): LeakyReLU(negative_slope=0.01)\n",
      "      (13): Flatten()\n",
      "      (14): NNprint()\n",
      "    )\n",
      "    (lin): Linear(in_features=12355, out_features=32, bias=True)\n",
      "  )\n",
      "  (decoder): Decoder(\n",
      "    (decode): Sequential(\n",
      "      (0): NNprint()\n",
      "      (1): UnFlatten()\n",
      "      (2): NNprint()\n",
      "      (3): ConvTranspose2d(32, 128, kernel_size=(4, 4), stride=(2, 2))\n",
      "      (4): LeakyReLU(negative_slope=0.01)\n",
      "      (5): NNprint()\n",
      "      (6): ConvTranspose2d(128, 64, kernel_size=(5, 5), stride=(2, 2))\n",
      "      (7): LeakyReLU(negative_slope=0.01)\n",
      "      (8): NNprint()\n",
      "      (9): ConvTranspose2d(64, 32, kernel_size=(4, 4), stride=(2, 2))\n",
      "      (10): LeakyReLU(negative_slope=0.01)\n",
      "      (11): NNprint()\n",
      "      (12): ConvTranspose2d(32, 1, kernel_size=(5, 5), stride=(1, 1))\n",
      "      (13): Sigmoid()\n",
      "      (14): NNprint()\n",
      "    )\n",
      "  )\n",
      "  (classifier): Classifier(\n",
      "    (net): Sequential(\n",
      "      (0): ModuleList(\n",
      "        (0): Linear(in_features=784, out_features=200, bias=True)\n",
      "        (1): ReLU()\n",
      "        (2): Linear(in_features=200, out_features=100, bias=True)\n",
      "        (3): ReLU()\n",
      "        (4): Linear(in_features=100, out_features=32, bias=True)\n",
      "        (5): Softmax(dim=None)\n",
      "      )\n",
      "    )\n",
      "  )\n",
      "  (mu_l): Linear(in_features=1024, out_features=32, bias=True)\n",
      "  (logvar_l): Linear(in_features=1024, out_features=32, bias=True)\n",
      "  (reconstruction): Linear(in_features=32, out_features=1024, bias=True)\n",
      ")\n"
     ]
    }
   ],
   "source": [
    "# temp solution - does it use var or logvar?\n",
    "def log_gaussian_prob(x,mean,var):\n",
    "    d=x.size(1)\n",
    "    return -d/2*np.log(2*np.pi)-1/2*torch.sum(torch.log(var+1e-10),1)-1/2*torch.sum((x-mean)**2/var,1)\n",
    "\n",
    "\n",
    "class VAEGenModel(torch.nn.Module): #M2\n",
    "    def __init__(self, image_channels=1, h_dim=1024, z_dim=32,num_labels=0,categories=10):\n",
    "        super(VAEGenModel, self).__init__()\n",
    "        \n",
    "        \n",
    "        self.alpha = alpha\n",
    "        \n",
    "        self.categories = categories\n",
    "        #Encoder\n",
    "        self.encode = Encoder(latent_size=z_dim) \n",
    "        #Decoder\n",
    "        self.decode = Decoder(image_channels, latent_size=z_dim)\n",
    "        #Classifier\n",
    "        self.classifier = Classifier([200, 100],z_dim=z_dim)\n",
    "\n",
    "\n",
    "\n",
    "    def forward(self, x_lab, y_lab, x_no_lab):\n",
    "        \n",
    "        ## Labelled Learning\n",
    "        \n",
    "        \n",
    "        # encode to get mu and logvar\n",
    "        z_mu, z_logvar = self.encode(x_lab,y_lab)\n",
    "        \n",
    "        # sample z ~ q(z|x,y)\n",
    "        z = torch.rand_like(z_mu,z_logvar) * torch.sqrt(z_logvar) + z_mu\n",
    "              \n",
    "        # \n",
    "        log_q_z = log_gaussian_prob(x, z_mu, z_logvar)\n",
    "        \n",
    "        # decode y,z to x by sampling\n",
    "        x = self.decode(torch.cat([z,y_lab]),1)[0] #[0]?\n",
    "        \n",
    "        # log p(x|y,z) aka reconstruction error\n",
    "        log_p_x = -torch.sum(F.binary_cross_entropy_with_logits(x,x_lab,reduction='none'),1)\n",
    "        \n",
    "        # log p(y), which is evenly distributed in our case\n",
    "        log_p_y = np.log(1/self.categories)\n",
    "        \n",
    "        # log p(z), gaussian dist with mu=0 and logvar=1\n",
    "        log_p_z = log_gaussian_prob(z,torch.zeros_like(z), torch.ones_like(z))\n",
    "        \n",
    "        # Labelled loss: -L(x,y)=\n",
    "        loss_lab = -1*torch.mean(log_p_x+log_p_y+log_p_z-log_q_z)\n",
    "        \n",
    "        ## Supervised Learning\n",
    "        \n",
    "        # classification\n",
    "        y_ = self.classifier(lab_x)[0] #[0]?\n",
    "        \n",
    "        # classification loss: alpha*\n",
    "        loss_class = self.alpha * F.cross_entropy(y_,torch.argmax(y_lab,1),reduction='mean')\n",
    "        \n",
    "        q_y = \n",
    "        \n",
    "        \n",
    "        \n",
    "        \n",
    "        \n",
    "        \n",
    "        \n",
    "        \n",
    "        \n",
    "        \n",
    "        \n",
    "        return z\n",
    "    \n",
    "    \n",
    "vae = VAEGenModel()\n",
    "print(vae)"
   ]
  },
  {
   "cell_type": "code",
   "execution_count": 80,
   "metadata": {},
   "outputs": [
    {
     "data": {
      "text/plain": [
       "tensor([0.5082, 0.1439, 1.0121, 0.9596, 0.7301])"
      ]
     },
     "execution_count": 80,
     "metadata": {},
     "output_type": "execute_result"
    }
   ],
   "source": [
    "\n"
   ]
  },
  {
   "cell_type": "code",
   "execution_count": null,
   "metadata": {},
   "outputs": [],
   "source": []
  },
  {
   "cell_type": "code",
   "execution_count": null,
   "metadata": {},
   "outputs": [],
   "source": []
  },
  {
   "cell_type": "code",
   "execution_count": 35,
   "metadata": {},
   "outputs": [],
   "source": []
  },
  {
   "cell_type": "code",
   "execution_count": null,
   "metadata": {},
   "outputs": [],
   "source": []
  },
  {
   "cell_type": "code",
   "execution_count": 28,
   "metadata": {},
   "outputs": [],
   "source": []
  },
  {
   "cell_type": "code",
   "execution_count": 20,
   "metadata": {},
   "outputs": [],
   "source": []
  },
  {
   "cell_type": "code",
   "execution_count": null,
   "metadata": {},
   "outputs": [],
   "source": []
  },
  {
   "cell_type": "code",
   "execution_count": null,
   "metadata": {},
   "outputs": [],
   "source": [
    "def fit_model(model, train_loader):\n",
    "    model.train()\n",
    "    running_loss = 0.0\n",
    "    # Run each batch in training dataset\n",
    "    for idx, (images, labels) in enumerate(train_loader):\n",
    "        recon_images, mu, logvar = model(images.to(device),None)\n",
    "        loss, bce, kld = model.elbo(recon_images, images, mu, logvar)\n",
    "        optimizer.zero_grad()\n",
    "        loss.backward()\n",
    "        optimizer.step()\n",
    "        running_loss += loss\n",
    "        \n",
    "    return running_loss/len(train_loader.dataset)\n",
    "    \n",
    "\n",
    "def test_model(model, test_loader):\n",
    "    model.eval()\n",
    "    running_loss = 0.0\n",
    "    with torch.no_grad():\n",
    "        for idx, (images, labels) in enumerate(test_loader):\n",
    "            recon_images, mu, logvar = model(images.to(device),None)\n",
    "            loss, bce, kld = model.elbo(recon_images, images, mu, logvar)\n",
    "            running_loss += loss\n",
    "\n",
    "    return running_loss/len(test_loader.dataset)"
   ]
  },
  {
   "cell_type": "code",
   "execution_count": null,
   "metadata": {},
   "outputs": [],
   "source": [
    "%%time\n",
    "##\n",
    "train_loss = []\n",
    "test_loss = []\n",
    "\n",
    "for epoch in range(epochs):\n",
    "    print(f\"Epoch {epoch+1} of {epochs}\")\n",
    "    train_epoch_loss = fit_model(model, train_loader)\n",
    "    test_epoch_loss = test_model(model, test_loader)\n",
    "    train_loss.append(train_epoch_loss)\n",
    "    test_loss.append(test_epoch_loss)\n",
    "    print(f\"Train Loss: {train_epoch_loss:.4f}\")\n",
    "    print(f\"Val Loss: {test_epoch_loss:.4f}\")\n",
    "\n",
    "torch.save(model.state_dict(), 'cvae.torch')\n"
   ]
  },
  {
   "cell_type": "code",
   "execution_count": null,
   "metadata": {},
   "outputs": [],
   "source": [
    "plot_examples()"
   ]
  },
  {
   "cell_type": "code",
   "execution_count": null,
   "metadata": {},
   "outputs": [],
   "source": [
    "#Reconstructions\n",
    "plot_examples(model)\n"
   ]
  },
  {
   "cell_type": "code",
   "execution_count": null,
   "metadata": {
    "scrolled": false
   },
   "outputs": [],
   "source": [
    "# Sample latent space\n",
    "plot_examples(model,sample=True)"
   ]
  },
  {
   "cell_type": "code",
   "execution_count": null,
   "metadata": {},
   "outputs": [],
   "source": [
    "# \n",
    "\n",
    "z1 = torch.randn(1, latent_dim).to(device)\n",
    "z2 = torch.randn(1, latent_dim).to(device)\n",
    "z3 = torch.randn(1, latent_dim).to(device)\n",
    "z4 = torch.randn(1, latent_dim).to(device)\n",
    "\n",
    "y = torch.randint(0, 10,(1,1)).to(dtype=torch.long) # 10=number of classes\n",
    "y = torch.nn.functional.one_hot(y,10).type(torch.float).to(device,dtype=z.dtype)[0]\n",
    "\n",
    "z1 = torch.cat((z1,y),dim=1)\n",
    "z2 = torch.cat((z2,y),dim=1)\n",
    "z3 = torch.cat((z3,y),dim=1)\n",
    "z4 = torch.cat((z4,y),dim=1)\n",
    "\n",
    "print(z1)\n",
    "print(z2)\n",
    "print(z3)\n",
    "print(z4)\n",
    "rec1 = model.decode(z1)\n",
    "rec2 = model.decode(z2)\n",
    "rec3 = model.decode(z3)\n",
    "rec4 = model.decode(z4)\n",
    "\n",
    "img1 = rec1.view(28,28).data\n",
    "img2 = rec2.view(28,28).data\n",
    "img3 = rec3.view(28,28).data\n",
    "img4 = rec4.view(28,28).data\n"
   ]
  },
  {
   "cell_type": "code",
   "execution_count": null,
   "metadata": {},
   "outputs": [],
   "source": [
    "plt.figure()\n",
    "plt.imshow(img1.to('cpu'), cmap='gray')"
   ]
  },
  {
   "cell_type": "code",
   "execution_count": null,
   "metadata": {},
   "outputs": [],
   "source": [
    "plt.figure()\n",
    "plt.imshow(img2.to('cpu'), cmap='gray')"
   ]
  },
  {
   "cell_type": "code",
   "execution_count": null,
   "metadata": {},
   "outputs": [],
   "source": [
    "plt.figure()\n",
    "plt.imshow(img3.to('cpu'), cmap='gray')"
   ]
  },
  {
   "cell_type": "code",
   "execution_count": null,
   "metadata": {},
   "outputs": [],
   "source": [
    "plt.figure()\n",
    "plt.imshow(img4.to('cpu'), cmap='gray')"
   ]
  },
  {
   "cell_type": "code",
   "execution_count": null,
   "metadata": {},
   "outputs": [],
   "source": []
  },
  {
   "cell_type": "code",
   "execution_count": null,
   "metadata": {},
   "outputs": [],
   "source": []
  }
 ],
 "metadata": {
  "kernelspec": {
   "display_name": "Python 3",
   "language": "python",
   "name": "python3"
  },
  "language_info": {
   "codemirror_mode": {
    "name": "ipython",
    "version": 3
   },
   "file_extension": ".py",
   "mimetype": "text/x-python",
   "name": "python",
   "nbconvert_exporter": "python",
   "pygments_lexer": "ipython3",
   "version": "3.6.9"
  }
 },
 "nbformat": 4,
 "nbformat_minor": 4
}
