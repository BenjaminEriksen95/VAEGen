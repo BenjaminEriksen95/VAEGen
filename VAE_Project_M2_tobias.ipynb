{
 "cells": [
  {
   "cell_type": "markdown",
   "metadata": {
    "id": "otvvAip7Kko3"
   },
   "source": [
    "# Semi-Supervised VAE Project\n",
    "## By VAEGen"
   ]
  },
  {
   "cell_type": "markdown",
   "metadata": {
    "id": "s_6l2tM9Kko4"
   },
   "source": [
    "## Setup"
   ]
  },
  {
   "cell_type": "markdown",
   "metadata": {
    "id": "LE0_IEDSKko4"
   },
   "source": [
    "### Import libraries"
   ]
  },
  {
   "cell_type": "code",
   "execution_count": 2,
   "metadata": {
    "executionInfo": {
     "elapsed": 4861,
     "status": "ok",
     "timestamp": 1607199256758,
     "user": {
      "displayName": "T S",
      "photoUrl": "https://lh3.googleusercontent.com/a-/AOh14Gj-CWtRou4i2dIl0NzW6Op4uQP6XAUPsPNPq7h-TA=s64",
      "userId": "17959196731398393037"
     },
     "user_tz": -60
    },
    "id": "cReuSxE4Kko4"
   },
   "outputs": [],
   "source": [
    "import os\n",
    "import time\n",
    "import torch\n",
    "import argparse\n",
    "from functools import reduce\n",
    "# \n",
    "import numpy as np\n",
    "import pandas as pd\n",
    "import seaborn as sns\n",
    "import matplotlib.pyplot as plt\n",
    "from collections import defaultdict\n",
    "\n",
    "# Torch\n",
    "import torch\n",
    "from torch.distributions import Bernoulli\n",
    "from torch.utils.data import DataLoader\n",
    "from torch.utils.data.sampler import SubsetRandomSampler\n",
    "import torch.nn.functional as F\n",
    "\n",
    "# Torchvision\n",
    "import torchvision\n",
    "from torchvision import transforms\n",
    "from torchvision.datasets import MNIST\n",
    "from torchvision.datasets import FashionMNIST\n",
    "from torchvision.transforms import ToTensor"
   ]
  },
  {
   "cell_type": "markdown",
   "metadata": {
    "id": "VHgNhco8Kko5"
   },
   "source": [
    "### Meta parameters"
   ]
  },
  {
   "cell_type": "code",
   "execution_count": 3,
   "metadata": {
    "executionInfo": {
     "elapsed": 4865,
     "status": "ok",
     "timestamp": 1607199256768,
     "user": {
      "displayName": "T S",
      "photoUrl": "https://lh3.googleusercontent.com/a-/AOh14Gj-CWtRou4i2dIl0NzW6Op4uQP6XAUPsPNPq7h-TA=s64",
      "userId": "17959196731398393037"
     },
     "user_tz": -60
    },
    "id": "d11hjw8zKko5"
   },
   "outputs": [],
   "source": [
    "batch_size=32*8*2\n",
    "epochs=5\n",
    "learning_rate=1e-3\n",
    "latent_dim = 8\n",
    "device = torch.device('cuda' if torch.cuda.is_available() else 'cpu')\n",
    "device='cpu'\n",
    "#print layers, used for debugging\n",
    "NNprint_ = False\n",
    "classes=[0,1,2,3,4]\n",
    "num_classes=len(classes)"
   ]
  },
  {
   "cell_type": "markdown",
   "metadata": {
    "id": "eauQ5ER9Kko5"
   },
   "source": [
    "### Import MNIST Dataset"
   ]
  },
  {
   "cell_type": "code",
   "execution_count": 4,
   "metadata": {
    "colab": {
     "base_uri": "https://localhost:8080/",
     "height": 378,
     "referenced_widgets": [
      "33c1eef508664abc9c9b16a0c052d109",
      "644e3ee75eb74daa9169846ce428a199",
      "c05f1ce1a6304412a05c7b5b34b67479",
      "0ff6294f622345e6a36f0a95dfe96d44",
      "43708eca69804f26ab8031f25adc9f1f",
      "c092d13dc1b74537922f0b171959d16f",
      "235b4e8ba25642dd8000200a48e4cf98",
      "28f68dce275848ddbd0e301a42a1b63b",
      "74ed888b1e264041bae5e629ac8d4903",
      "cd04f1e6e5a14014bffa2273b5cc0ad8",
      "7d1dd43847424315a9af447c0b999224",
      "f92896884f7c4351958317821b0fd291",
      "f5f14097b0ad4e028c8b3cb9b822c31e",
      "6f4523899acf4e5e94d158773cbfd8e1",
      "6f8c614ddd4142fbbfd7da8d1763e586",
      "333f222b8b7449db985949724a8b7d57",
      "25a759ecd3fc4085a8b4863cf753f8b6",
      "1d9b6d38ce4f48f1b0ecc33a11536a04",
      "d4156624016742b6a0a9acbce48f6da9",
      "3703c9e34d0e4eeab5081c0d6e983279",
      "cec413a8bb9349f0a3718d323a853493",
      "14fb7fe4b44749d8a219497c517ddd7e",
      "4c2e3cf9e1674162bd44d4cdcd89d5bd",
      "83cbba77a7e44e0ba303b1da4695598d",
      "ced55e507649402ab0e8a2961f4465b9",
      "1c685203d0154d2b9acc0bef022fd8b6",
      "c09523818cb64d4894a9c416ab11161d",
      "f0e77680abba4043bf691a79d5582bfa",
      "3951339372ea4b68bb747bf2659540be",
      "5f59fe3d5e43491aa60b8f0883f78ead",
      "031f2efb3aaa428ba79695c516f1bb8e",
      "878fbd56d737468d965265e6e0188670"
     ]
    },
    "executionInfo": {
     "elapsed": 7887,
     "status": "ok",
     "timestamp": 1607199259797,
     "user": {
      "displayName": "T S",
      "photoUrl": "https://lh3.googleusercontent.com/a-/AOh14Gj-CWtRou4i2dIl0NzW6Op4uQP6XAUPsPNPq7h-TA=s64",
      "userId": "17959196731398393037"
     },
     "user_tz": -60
    },
    "id": "ONqyOK32Kko5",
    "outputId": "614adf28-947a-4a8e-ccdf-2e91c08e113d"
   },
   "outputs": [
    {
     "name": "stdout",
     "output_type": "stream",
     "text": [
      "Downloading http://yann.lecun.com/exdb/mnist/train-images-idx3-ubyte.gz to data/MNIST/raw/train-images-idx3-ubyte.gz\n"
     ]
    },
    {
     "data": {
      "application/vnd.jupyter.widget-view+json": {
       "model_id": "33c1eef508664abc9c9b16a0c052d109",
       "version_major": 2,
       "version_minor": 0
      },
      "text/plain": [
       "HBox(children=(FloatProgress(value=1.0, bar_style='info', max=1.0), HTML(value='')))"
      ]
     },
     "metadata": {
      "tags": []
     },
     "output_type": "display_data"
    },
    {
     "name": "stdout",
     "output_type": "stream",
     "text": [
      "Extracting data/MNIST/raw/train-images-idx3-ubyte.gz to data/MNIST/raw\n",
      "Downloading http://yann.lecun.com/exdb/mnist/train-labels-idx1-ubyte.gz to data/MNIST/raw/train-labels-idx1-ubyte.gz\n"
     ]
    },
    {
     "data": {
      "application/vnd.jupyter.widget-view+json": {
       "model_id": "74ed888b1e264041bae5e629ac8d4903",
       "version_major": 2,
       "version_minor": 0
      },
      "text/plain": [
       "HBox(children=(FloatProgress(value=1.0, bar_style='info', max=1.0), HTML(value='')))"
      ]
     },
     "metadata": {
      "tags": []
     },
     "output_type": "display_data"
    },
    {
     "name": "stdout",
     "output_type": "stream",
     "text": [
      "Extracting data/MNIST/raw/train-labels-idx1-ubyte.gz to data/MNIST/raw\n",
      "Downloading http://yann.lecun.com/exdb/mnist/t10k-images-idx3-ubyte.gz to data/MNIST/raw/t10k-images-idx3-ubyte.gz\n"
     ]
    },
    {
     "data": {
      "application/vnd.jupyter.widget-view+json": {
       "model_id": "25a759ecd3fc4085a8b4863cf753f8b6",
       "version_major": 2,
       "version_minor": 0
      },
      "text/plain": [
       "HBox(children=(FloatProgress(value=1.0, bar_style='info', max=1.0), HTML(value='')))"
      ]
     },
     "metadata": {
      "tags": []
     },
     "output_type": "display_data"
    },
    {
     "name": "stdout",
     "output_type": "stream",
     "text": [
      "Extracting data/MNIST/raw/t10k-images-idx3-ubyte.gz to data/MNIST/raw\n",
      "Downloading http://yann.lecun.com/exdb/mnist/t10k-labels-idx1-ubyte.gz to data/MNIST/raw/t10k-labels-idx1-ubyte.gz\n"
     ]
    },
    {
     "data": {
      "application/vnd.jupyter.widget-view+json": {
       "model_id": "ced55e507649402ab0e8a2961f4465b9",
       "version_major": 2,
       "version_minor": 0
      },
      "text/plain": [
       "HBox(children=(FloatProgress(value=1.0, bar_style='info', max=1.0), HTML(value='')))"
      ]
     },
     "metadata": {
      "tags": []
     },
     "output_type": "display_data"
    },
    {
     "name": "stdout",
     "output_type": "stream",
     "text": [
      "Extracting data/MNIST/raw/t10k-labels-idx1-ubyte.gz to data/MNIST/raw\n",
      "Processing...\n",
      "Done!\n"
     ]
    },
    {
     "name": "stderr",
     "output_type": "stream",
     "text": [
      "/usr/local/lib/python3.6/dist-packages/torchvision/datasets/mnist.py:480: UserWarning: The given NumPy array is not writeable, and PyTorch does not support non-writeable tensors. This means you can write to the underlying (supposedly non-writeable) NumPy array using the tensor. You may want to copy the array to protect its data or make it writeable before converting it to a tensor. This type of warning will be suppressed for the rest of this program. (Triggered internally at  /pytorch/torch/csrc/utils/tensor_numpy.cpp:141.)\n",
      "  return torch.from_numpy(parsed.astype(m[2], copy=False)).view(*s)\n"
     ]
    }
   ],
   "source": [
    "# transforms arrays into tensors, can be extended\n",
    "transformations = transforms.Compose([\n",
    "                          transforms.ToTensor(),\n",
    "                          transforms.Lambda(lambda p: Bernoulli(probs=p).sample())])\n",
    "\n",
    "# define the train and test sets\n",
    "dset_train = MNIST(root='data', train=True,  transform=transformations, download=True)\n",
    "dset_test  = MNIST(root='data', train=False, transform=transformations)\n",
    "\n",
    "def stratified_sampler(labels,classes):\n",
    "    \"\"\"Sampler that only picks datapoints corresponding to the specified classes\"\"\"\n",
    "    (indices,) = np.where(reduce(lambda x, y: x | y, [labels.numpy() == i for i in classes]))\n",
    "    indices = torch.from_numpy(indices)\n",
    "    return SubsetRandomSampler(indices)\n",
    "\n",
    "# The loaders perform the actual work\n",
    "train_loader = DataLoader(dset_train, batch_size=batch_size,\n",
    "                          sampler=stratified_sampler(dset_train.targets,classes))\n",
    "test_loader  = DataLoader(dset_test, batch_size=batch_size, \n",
    "                          sampler=stratified_sampler(dset_test.targets,classes))"
   ]
  },
  {
   "cell_type": "markdown",
   "metadata": {
    "id": "oI7Erbs8Kko5"
   },
   "source": [
    "### Plot examples"
   ]
  },
  {
   "cell_type": "code",
   "execution_count": 5,
   "metadata": {
    "colab": {
     "base_uri": "https://localhost:8080/"
    },
    "executionInfo": {
     "elapsed": 7883,
     "status": "ok",
     "timestamp": 1607199259800,
     "user": {
      "displayName": "T S",
      "photoUrl": "https://lh3.googleusercontent.com/a-/AOh14Gj-CWtRou4i2dIl0NzW6Op4uQP6XAUPsPNPq7h-TA=s64",
      "userId": "17959196731398393037"
     },
     "user_tz": -60
    },
    "id": "fYOI8c1KKko5",
    "outputId": "99044287-a72e-4f9d-b581-373eec8d1c0e"
   },
   "outputs": [
    {
     "name": "stdout",
     "output_type": "stream",
     "text": [
      "\n",
      "\n",
      "\n",
      "\n"
     ]
    }
   ],
   "source": [
    "\n",
    "examples = enumerate(test_loader)\n",
    "batch_idx, (example_data, example_targets) = next(examples)\n",
    "image_channels = example_data.size(1)\n",
    "\n",
    "def plot_examples(model=None,sample=False,data=None):\n",
    "    if data is None:\n",
    "        if (model==None):\n",
    "            batch_idx, (data, example_targets) = next(examples)\n",
    "        else:\n",
    "            batch_idx, (data, example_targets) = next(examples)\n",
    "            if sample:\n",
    "                zeros=torch.zeros(num_classes,1024)\n",
    "                samples= torch.cat((torch.rand(latent_dim,1024),zeros)).T\n",
    "                data = model.sample(samples.to(device))\n",
    "            else:\n",
    "                data = model(data.to(device),example_targets)[0]\n",
    "        \n",
    "    fig = plt.figure()\n",
    "    fig.set_figheight(15)\n",
    "    fig.set_figwidth(15)\n",
    "    for i in range(64):\n",
    "        plt.subplot(8,8,i+1)\n",
    "        plt.tight_layout()\n",
    "        if model:\n",
    "            plt.imshow(data[i][0].cpu().data, cmap='gray', interpolation='none')\n",
    "        else:\n",
    "            plt.imshow(data[i][0], cmap='gray', interpolation='none')\n",
    "    #     plt.title(\"Ground Truth: {}\".format(example_targets[i]))\n",
    "        plt.xticks([])\n",
    "        plt.yticks([])"
   ]
  },
  {
   "cell_type": "code",
   "execution_count": 6,
   "metadata": {
    "colab": {
     "base_uri": "https://localhost:8080/",
     "height": 938
    },
    "executionInfo": {
     "elapsed": 18617,
     "status": "ok",
     "timestamp": 1607199270543,
     "user": {
      "displayName": "T S",
      "photoUrl": "https://lh3.googleusercontent.com/a-/AOh14Gj-CWtRou4i2dIl0NzW6Op4uQP6XAUPsPNPq7h-TA=s64",
      "userId": "17959196731398393037"
     },
     "user_tz": -60
    },
    "id": "wvcJsHB3Kko5",
    "outputId": "8c99c1e4-b3fa-4770-d200-ed1c4e9f23fe"
   },
   "outputs": [
    {
     "data": {
      "image/png": "[encoded data removed]",
      "text/plain": [
       "<Figure size 1080x1080 with 64 Axes>"
      ]
     },
     "metadata": {
      "tags": []
     },
     "output_type": "display_data"
    }
   ],
   "source": [
    "plot_examples()"
   ]
  },
  {
   "cell_type": "markdown",
   "metadata": {
    "id": "5-Qm0DN-Kko8"
   },
   "source": [
    "### Torch auxiliary modules"
   ]
  },
  {
   "cell_type": "code",
   "execution_count": 7,
   "metadata": {
    "executionInfo": {
     "elapsed": 18611,
     "status": "ok",
     "timestamp": 1607199270547,
     "user": {
      "displayName": "T S",
      "photoUrl": "https://lh3.googleusercontent.com/a-/AOh14Gj-CWtRou4i2dIl0NzW6Op4uQP6XAUPsPNPq7h-TA=s64",
      "userId": "17959196731398393037"
     },
     "user_tz": -60
    },
    "id": "qnuEiSNKKko8"
   },
   "outputs": [],
   "source": [
    "class Flatten(torch.nn.Module):\n",
    "    def forward(self, input):\n",
    "        return input.view(input.size(0), -1)\n",
    "    \n",
    "class UnFlatten(torch.nn.Module):\n",
    "    def forward(self, input, size=1024):\n",
    "        return input.view(input.size(0), size, 1, 1)\n",
    "\n",
    "    \n",
    "class UnFlatten_FF(torch.nn.Module):\n",
    "    def forward(self, input, size=784):\n",
    "        return input.view(-1,1,28,28)\n",
    "    \n",
    "    \n",
    "# Debugging module \n",
    "class NNprint(torch.nn.Module):\n",
    "    def forward(self, input):\n",
    "        if NNprint_==True:\n",
    "            print(input.shape)\n",
    "        return input  "
   ]
  },
  {
   "cell_type": "markdown",
   "metadata": {
    "id": "nck2uJ6PKko8"
   },
   "source": [
    "## Feed Forward CVAE"
   ]
  },
  {
   "cell_type": "code",
   "execution_count": 8,
   "metadata": {
    "executionInfo": {
     "elapsed": 18609,
     "status": "ok",
     "timestamp": 1607199270550,
     "user": {
      "displayName": "T S",
      "photoUrl": "https://lh3.googleusercontent.com/a-/AOh14Gj-CWtRou4i2dIl0NzW6Op4uQP6XAUPsPNPq7h-TA=s64",
      "userId": "17959196731398393037"
     },
     "user_tz": -60
    },
    "id": "jZJT7x8qKko8"
   },
   "outputs": [],
   "source": [
    "# Linear CVAE\n",
    "class CVAE_FF(torch.nn.Module):\n",
    "    def __init__(self, image_channels=1, h_dim=1024, z_dim=32, num_labels=0):\n",
    "        super(CVAE_FF, self).__init__()\n",
    "        self.encoder = torch.nn.Sequential(\n",
    "            Flatten(),\n",
    "            NNprint(),\n",
    "            #torch.nn.Conv2d(image_channels, 32, kernel_size=3, stride=2),\n",
    "            torch.nn.Linear(28*28,100),\n",
    "            NNprint(),\n",
    "            torch.nn.LeakyReLU(),\n",
    "            #torch.nn.Conv2d(32, 64, kernel_size=3, stride=2),\n",
    "            torch.nn.Linear(100,200),\n",
    "            NNprint(),\n",
    "            torch.nn.LeakyReLU(),\n",
    "            torch.nn.Linear(200,400),\n",
    "            NNprint(),\n",
    "            torch.nn.LeakyReLU(),\n",
    "            torch.nn.Linear(400,h_dim),\n",
    "            NNprint(),\n",
    "            torch.nn.LeakyReLU(),\n",
    "            NNprint(),\n",
    "            \n",
    "        )\n",
    "        self.h_dim=h_dim\n",
    "        self.num_labels=num_labels\n",
    "        self.fc1 = torch.nn.Linear(h_dim, z_dim)\n",
    "        self.fc2 = torch.nn.Linear(h_dim, z_dim)\n",
    "        self.fc3 = torch.nn.Linear(z_dim+num_labels, h_dim)\n",
    "        \n",
    "        self.decoder = torch.nn.Sequential(\n",
    "            NNprint(),\n",
    "            torch.nn.Linear(h_dim,400),\n",
    "            torch.nn.LeakyReLU(),\n",
    "            NNprint(),\n",
    "            torch.nn.Linear(400,200),\n",
    "            torch.nn.LeakyReLU(),\n",
    "            NNprint(),\n",
    "            torch.nn.Linear(200,100),\n",
    "            torch.nn.LeakyReLU(),\n",
    "            NNprint(),\n",
    "            torch.nn.Linear(100,28*28),\n",
    "            torch.nn.Sigmoid(),\n",
    "            NNprint(),\n",
    "            UnFlatten_FF()\n",
    "        )\n",
    "        \n",
    "    def reparameterize(self, mu, logvar):\n",
    "        std = logvar.mul(0.5).exp_()\n",
    "        # return torch.normal(mu, std)\n",
    "        esp = torch.randn(*mu.size())\n",
    "        z = mu.to(device) + std.to(device) * esp.to(device)\n",
    "        return z\n",
    "    \n",
    "    def bottleneck(self, h,labels):\n",
    "        mu, logvar = self.fc1(h), self.fc2(h)\n",
    "        z = self.reparameterize(mu, logvar)\n",
    "        if self.num_labels>0:\n",
    "            z=torch.cat((z,torch.nn.functional.one_hot(labels,self.num_labels).type(torch.float).to(device)),1)\n",
    "        return z, mu, logvar\n",
    "\n",
    "    def encode(self, x,labels):\n",
    "        h = self.encoder(x)\n",
    "#         h=torch.cat((h,labels.float().reshape(labels.size(0),1).to(device)),dim=1)\n",
    "        z, mu, logvar = self.bottleneck(h,labels)\n",
    "        return z, mu, logvar\n",
    "\n",
    "    def decode(self, z):\n",
    "        z = self.fc3(z)\n",
    "        z = self.decoder(z)\n",
    "        return z\n",
    "\n",
    "    \n",
    "    \n",
    "    def forward(self, x,labels):\n",
    "        z, mu, logvar = self.encode(x,labels)\n",
    "#         print('z',z.shape)\n",
    "        z = self.decode(z)\n",
    "        return z, mu, logvar\n",
    "    \n",
    "    def elbo(self,recon_x, x, mu, logvar):\n",
    "        BCE = F.binary_cross_entropy(recon_x, x.to(device), size_average=False,reduction='sum' )\n",
    "        # BCE = F.mse_loss(recon_x, x, size_average=False)\n",
    "\n",
    "        # see Appendix B from VAE paper:\n",
    "        # Kingma and Welling. Auto-Encoding Variational Bayes. ICLR, 2014\n",
    "        # 0.5 * sum(1 + log(sigma^2) - mu^2 - sigma^2)\n",
    "        KLD = 0.5 * torch.mean(1 + logvar - mu.pow(2) - logvar.exp())\n",
    "        return BCE - KLD, BCE, KLD\n",
    "\n",
    "    def sample(self,z):\n",
    "        return self.decode(z)"
   ]
  },
  {
   "cell_type": "markdown",
   "metadata": {
    "id": "ZoMdnAHnKko8"
   },
   "source": [
    "## Convolutional CVAE"
   ]
  },
  {
   "cell_type": "code",
   "execution_count": 9,
   "metadata": {
    "executionInfo": {
     "elapsed": 18604,
     "status": "ok",
     "timestamp": 1607199270552,
     "user": {
      "displayName": "T S",
      "photoUrl": "https://lh3.googleusercontent.com/a-/AOh14Gj-CWtRou4i2dIl0NzW6Op4uQP6XAUPsPNPq7h-TA=s64",
      "userId": "17959196731398393037"
     },
     "user_tz": -60
    },
    "id": "aBUpmNKAKko8"
   },
   "outputs": [],
   "source": [
    "\n",
    "class CVAE(torch.nn.Module):\n",
    "    def __init__(self, image_channels=1, h_dim=1024, z_dim=32,num_labels=0):\n",
    "        super(CVAE, self).__init__()\n",
    "        self.encoder = torch.nn.Sequential(\n",
    "            NNprint(),\n",
    "            torch.nn.Conv2d(image_channels, 32, kernel_size=3, stride=2),\n",
    "            NNprint(),\n",
    "            torch.nn.LeakyReLU(),\n",
    "            torch.nn.Conv2d(32, 64, kernel_size=3, stride=2),\n",
    "            NNprint(),\n",
    "            torch.nn.LeakyReLU(),\n",
    "            torch.nn.Conv2d(64, 128, kernel_size=3, stride=1),\n",
    "            NNprint(),\n",
    "            torch.nn.LeakyReLU(),\n",
    "            torch.nn.Conv2d(128, 256, kernel_size=3, stride=1),\n",
    "            NNprint(),\n",
    "            torch.nn.LeakyReLU(),\n",
    "            Flatten(),\n",
    "            \n",
    "            \n",
    "            NNprint(),\n",
    "            \n",
    "        )\n",
    "        self.h_dim=h_dim\n",
    "        self.num_labels=num_labels\n",
    "        self.fc1 = torch.nn.Linear(h_dim, z_dim)\n",
    "        self.fc2 = torch.nn.Linear(h_dim, z_dim)\n",
    "        self.fc3 = torch.nn.Linear(z_dim+num_labels, h_dim)\n",
    "        \n",
    "        self.decoder = torch.nn.Sequential(\n",
    "            NNprint(),\n",
    "            UnFlatten(),\n",
    "            NNprint(),\n",
    "            torch.nn.ConvTranspose2d(h_dim, 128, kernel_size=4, stride=2),\n",
    "            torch.nn.LeakyReLU(),\n",
    "            NNprint(),\n",
    "            torch.nn.ConvTranspose2d(128, 64, kernel_size=5, stride=2),\n",
    "            torch.nn.LeakyReLU(),\n",
    "            NNprint(),\n",
    "            torch.nn.ConvTranspose2d(64, 32, kernel_size=4,padding=0, stride=2),\n",
    "            torch.nn.LeakyReLU(),\n",
    "            NNprint(),\n",
    "            torch.nn.ConvTranspose2d(32, image_channels, kernel_size=5, stride=1),\n",
    "            torch.nn.Sigmoid(),\n",
    "            NNprint(),\n",
    "        )\n",
    "        \n",
    "    def reparameterize(self, mu, logvar):\n",
    "        std = logvar.mul(0.5).exp_()\n",
    "        # return torch.normal(mu, std)\n",
    "        esp = torch.randn(*mu.size())\n",
    "        z = mu.to(device) + std.to(device) * esp.to(device)\n",
    "        return z\n",
    "    \n",
    "    def bottleneck(self, h,labels):\n",
    "        mu, logvar = self.fc1(h), self.fc2(h)\n",
    "        z = self.reparameterize(mu, logvar)\n",
    "        if self.num_labels>0:\n",
    "            z=torch.cat((z,torch.nn.functional.one_hot(labels,self.num_labels).type(torch.float).to(device)),1)\n",
    "        return z, mu, logvar\n",
    "\n",
    "    def encode(self, x,labels):\n",
    "        h = self.encoder(x)\n",
    "#         h=torch.cat((h,labels.float().reshape(labels.size(0),1).to(device)),dim=1)\n",
    "        z, mu, logvar = self.bottleneck(h,labels)\n",
    "        return z, mu, logvar\n",
    "\n",
    "    def decode(self, z):\n",
    "        z = self.fc3(z)\n",
    "        z = self.decoder(z)\n",
    "        return z\n",
    "\n",
    "    \n",
    "    \n",
    "    def forward(self, x,labels):\n",
    "        z, mu, logvar = self.encode(x,labels)\n",
    "#         print('z',z.shape)\n",
    "        z = self.decode(z)\n",
    "        return z, mu, logvar\n",
    "    \n",
    "    def elbo(self,recon_x, x, mu, logvar):\n",
    "        BCE = F.binary_cross_entropy(recon_x, x.to(device), size_average=False,reduction='sum' )\n",
    "        # BCE = F.mse_loss(recon_x, x, size_average=False)\n",
    "\n",
    "        # see Appendix B from VAE paper:\n",
    "        # Kingma and Welling. Auto-Encoding Variational Bayes. ICLR, 2014\n",
    "        # 0.5 * sum(1 + log(sigma^2) - mu^2 - sigma^2)\n",
    "        KLD = 0.5 * torch.mean(1 + logvar - mu.pow(2) - logvar.exp())\n",
    "        return BCE - KLD, BCE, KLD\n",
    "\n",
    "    def sample(self,z):\n",
    "        return self.decode(z)"
   ]
  },
  {
   "cell_type": "markdown",
   "metadata": {
    "id": "HgFTrYxPmmW9"
   },
   "source": [
    "# Semi-supervised Convolutional CVAE"
   ]
  },
  {
   "cell_type": "code",
   "execution_count": 24,
   "metadata": {
    "colab": {
     "base_uri": "https://localhost:8080/"
    },
    "executionInfo": {
     "elapsed": 3878,
     "status": "ok",
     "timestamp": 1607199760904,
     "user": {
      "displayName": "T S",
      "photoUrl": "https://lh3.googleusercontent.com/a-/AOh14Gj-CWtRou4i2dIl0NzW6Op4uQP6XAUPsPNPq7h-TA=s64",
      "userId": "17959196731398393037"
     },
     "user_tz": -60
    },
    "id": "IOcOsDTCme2D",
    "outputId": "0a50be38-d69c-4307-ba50-8c5270529b80"
   },
   "outputs": [
    {
     "name": "stdout",
     "output_type": "stream",
     "text": [
      "SS_CVAE_CONV(\n",
      "  (encoder): Sequential(\n",
      "    (0): NNprint()\n",
      "    (1): Conv2d(1, 32, kernel_size=(3, 3), stride=(2, 2))\n",
      "    (2): NNprint()\n",
      "    (3): LeakyReLU(negative_slope=0.01)\n",
      "    (4): Conv2d(32, 64, kernel_size=(3, 3), stride=(2, 2))\n",
      "    (5): NNprint()\n",
      "    (6): LeakyReLU(negative_slope=0.01)\n",
      "    (7): Conv2d(64, 128, kernel_size=(3, 3), stride=(1, 1))\n",
      "    (8): NNprint()\n",
      "    (9): LeakyReLU(negative_slope=0.01)\n",
      "    (10): Conv2d(128, 256, kernel_size=(3, 3), stride=(1, 1))\n",
      "    (11): NNprint()\n",
      "    (12): LeakyReLU(negative_slope=0.01)\n",
      "    (13): Flatten()\n",
      "    (14): NNprint()\n",
      "  )\n",
      "  (fc1): Linear(in_features=1029, out_features=8, bias=True)\n",
      "  (fc2): Linear(in_features=1029, out_features=8, bias=True)\n",
      "  (fc3): Linear(in_features=13, out_features=1024, bias=True)\n",
      "  (decoder): Sequential(\n",
      "    (0): NNprint()\n",
      "    (1): UnFlatten()\n",
      "    (2): NNprint()\n",
      "    (3): ConvTranspose2d(1024, 128, kernel_size=(4, 4), stride=(2, 2))\n",
      "    (4): LeakyReLU(negative_slope=0.01)\n",
      "    (5): NNprint()\n",
      "    (6): ConvTranspose2d(128, 64, kernel_size=(5, 5), stride=(2, 2))\n",
      "    (7): LeakyReLU(negative_slope=0.01)\n",
      "    (8): NNprint()\n",
      "    (9): ConvTranspose2d(64, 32, kernel_size=(4, 4), stride=(2, 2))\n",
      "    (10): LeakyReLU(negative_slope=0.01)\n",
      "    (11): NNprint()\n",
      "    (12): ConvTranspose2d(32, 1, kernel_size=(5, 5), stride=(1, 1))\n",
      "    (13): Sigmoid()\n",
      "    (14): NNprint()\n",
      "  )\n",
      "  (classifier): Sequential(\n",
      "    (0): Flatten()\n",
      "    (1): Linear(in_features=784, out_features=512, bias=True)\n",
      "    (2): ReLU()\n",
      "    (3): Linear(in_features=512, out_features=256, bias=True)\n",
      "    (4): ReLU()\n",
      "    (5): Linear(in_features=256, out_features=10, bias=True)\n",
      "    (6): Softmax(dim=1)\n",
      "  )\n",
      ")\n",
      "tensor(0.2303, grad_fn=<AddBackward0>)\n"
     ]
    }
   ],
   "source": [
    "class SS_CVAE_CONV(torch.nn.Module):\n",
    "    def __init__(self, image_channels=1, h_dim=1024, z_dim=32, num_labels=0):\n",
    "        super(SS_CVAE_CONV, self).__init__()\n",
    "        self.encoder = torch.nn.Sequential(\n",
    "            NNprint(),\n",
    "            torch.nn.Conv2d(image_channels, 32, kernel_size=3, stride=2),\n",
    "            NNprint(),\n",
    "            torch.nn.LeakyReLU(),\n",
    "            torch.nn.Conv2d(32, 64, kernel_size=3, stride=2),\n",
    "            NNprint(),\n",
    "            torch.nn.LeakyReLU(),\n",
    "            torch.nn.Conv2d(64, 128, kernel_size=3, stride=1),\n",
    "            NNprint(),\n",
    "            torch.nn.LeakyReLU(),\n",
    "            torch.nn.Conv2d(128, 256, kernel_size=3, stride=1),\n",
    "            NNprint(),\n",
    "            torch.nn.LeakyReLU(),\n",
    "            Flatten(),\n",
    "            NNprint(),\n",
    "            \n",
    "        )\n",
    "        self.h_dim=h_dim\n",
    "        self.num_labels=num_labels\n",
    "        self.fc1 = torch.nn.Linear(h_dim + num_labels, z_dim)\n",
    "        self.fc2 = torch.nn.Linear(h_dim + num_labels, z_dim)\n",
    "        self.fc3 = torch.nn.Linear(z_dim+num_labels, h_dim)\n",
    "        \n",
    "        self.decoder = torch.nn.Sequential(\n",
    "            NNprint(),\n",
    "            UnFlatten(),\n",
    "            NNprint(),\n",
    "            torch.nn.ConvTranspose2d(h_dim, 128, kernel_size=4, stride=2),\n",
    "            torch.nn.LeakyReLU(),\n",
    "            NNprint(),\n",
    "            torch.nn.ConvTranspose2d(128, 64, kernel_size=5, stride=2),\n",
    "            torch.nn.LeakyReLU(),\n",
    "            NNprint(),\n",
    "            torch.nn.ConvTranspose2d(64, 32, kernel_size=4,padding=0, stride=2),\n",
    "            torch.nn.LeakyReLU(),\n",
    "            NNprint(),\n",
    "            torch.nn.ConvTranspose2d(32, image_channels, kernel_size=5, stride=1),\n",
    "            torch.nn.Sigmoid(),\n",
    "            NNprint(),\n",
    "        )\n",
    "\n",
    "        # simple FFNN classifier\n",
    "        # input: flattened vector, output: probability of each class\n",
    "        self.classifier = torch.nn.Sequential(\n",
    "            Flatten(),\n",
    "            torch.nn.Linear(784, 512),\n",
    "            torch.nn.ReLU(),\n",
    "            torch.nn.Linear(512, 256),\n",
    "            torch.nn.ReLU(),\n",
    "            torch.nn.Linear(256, 10), # 3 output layer\n",
    "            torch.nn.Softmax(dim=1)\n",
    "        )\n",
    "        \n",
    "    def reparameterize(self, mu, logvar):\n",
    "        std = logvar.mul(0.5).exp_()\n",
    "        eps = torch.randn(*mu.size())\n",
    "        z = mu.to(device) + std.to(device) * eps.to(device)\n",
    "        return z\n",
    "\n",
    "    def encode(self, x, y=None):\n",
    "        # pass x through conv encoder and flatten output to obtain h\n",
    "        h = self.encoder(x)\n",
    "\n",
    "        # concat y (labels) to h, to place in latent space\n",
    "        if y is not None:\n",
    "            h = torch.cat((h, torch.nn.functional.one_hot(y, self.num_labels).type(torch.float).to(device)), 1) # TODO: Do this outside\n",
    "\n",
    "        # fc1 encodes [h,y] into mu; fc2 encodes [h,y] into logvar\n",
    "        mu, logvar = self.fc1(h), self.fc2(h)\n",
    "        \n",
    "        return mu, logvar\n",
    "\n",
    "    def decode(self, z):\n",
    "        # n.b. z is really [z,y]\n",
    "        z = self.fc3(z) # upscale [z,y] to h_dim\n",
    "        x_recon = self.decoder(z) # decode upscaled [z,y] to x_recon\n",
    "        return x_recon\n",
    "    \n",
    "    def forward(self, x_labelled, x_unlabelled, y):\n",
    "        #######################################################################\n",
    "        # labeled case ########################################################\n",
    "        #######################################################################\n",
    "        # encode [x_labelled,y] to mu_lab and logvar_lab\n",
    "        mu_lab, logvar_lab = self.encode(x_labelled, y)\n",
    "        \n",
    "        # sample z_lab using mu_lab and logvar_lab\n",
    "        z_lab = self.reparameterize(mu_lab, logvar_lab)\n",
    "\n",
    "        # concat y (labels) to z_lab, to place in latent space\n",
    "        z_lab = torch.cat((z_lab, torch.nn.functional.one_hot(y, self.num_labels).type(torch.float).to(device)), 1) # TODO: Do this outside\n",
    "\n",
    "        # decode [z_lab,y] to get reconstruction\n",
    "        x_lab_recon = self.decode(z_lab)\n",
    "\n",
    "\n",
    "        #######################################################################\n",
    "        # classification ######################################################\n",
    "        #######################################################################\n",
    "        y_labelled_pred = self.classifier(x_labelled)\n",
    "\n",
    "\n",
    "        #######################################################################\n",
    "        # unlabeled case ######################################################\n",
    "        #######################################################################\n",
    "        # predict a y for the entropy term, H(q(y|x))\n",
    "        y_unlabelled_pred = self.classifier(x_unlabelled)\n",
    "\n",
    "        # integrate over y\n",
    "        # i.e. calculate loss for any possible class of y\n",
    "        # We tile x_unlabelled and y, then concat for parallelism\n",
    "        # TODO: n.b. repeat coopies the data, so there might be a less expensive way to do this\n",
    "        x_unlab_tiled = x_unlabelled.repeat(self.num_labels,1,1,1)\n",
    "\n",
    "        # TODO: init y_unlab outside forward instead of here and in forward()\n",
    "        # tensor of class labels [0,1,2,3,4,5,6,7,8,9], repeated for number of datapoints as [0_0,0_1,0_n, ...]\n",
    "        y_unlab_tiled = torch.repeat_interleave(torch.arange(self.num_labels), x_unlabelled.shape[0])\n",
    "        # y_unlab = torch.nn.functional.one_hot(y_unlab, self.num_labels).type(torch.float) # one-hot in forward()\n",
    "        # x_y_unlab = torch.cat((x_unlab_tiled, y_unlab), 1) # this is done in forward\n",
    "\n",
    "        # encode x_unlab and y_unlab to mu_unlab and logvar_unlab\n",
    "        mu_unlab, logvar_unlab = self.encode(x_unlab_tiled, y_unlab_tiled)\n",
    "\n",
    "        # sample z_unlab via mu_unlab and logvar_unlab\n",
    "        z_unlab = self.reparameterize(mu_unlab, logvar_unlab)\n",
    "\n",
    "        # concat y (labels) to z_lab, to place in latent space\n",
    "        z_unlab = torch.cat((z_unlab, torch.nn.functional.one_hot(y_unlab_tiled, self.num_labels).type(torch.float).to(device)), 1) # TODO: Do this outside\n",
    "\n",
    "        # decode [z_unlab,y_unlab] to get reconstruction\n",
    "        x_unlab_recon = self.decode(z_unlab)\n",
    "\n",
    "        # TODO: Expand on this dict to name vars properly\n",
    "        return {'L' : (mu_lab, logvar_lab, z_lab, x_lab_recon), \\\n",
    "                'U' : (mu_unlab, logvar_unlab, z_unlab, x_unlab_recon), \\\n",
    "                'C' : (y, y_labelled_pred)}\n",
    "    \n",
    "    def J_alpha(self, L, U, C, a=.1):\n",
    "      \"\"\"Calculate loss as J_alpha\n",
    "\n",
    "      J_alpha = J + alpha * C\n",
    "\n",
    "      Where\n",
    "        J = ∑L(x,y) + ∑U(x)\n",
    "        -L(x,y) = E_q(z|x,y)[logp(x|y,z) + logp(y) + logp(z) - logq(z|x,y)]\n",
    "        -U(x) = ∑_y q(y|x)(-L(x,y)) + H(q(y|x))\n",
    "        C = E_p(x,y) [-logq(y|x)]\n",
    "      \n",
    "      \n",
    "      \"\"\"\n",
    "      # n.b. this implementation is verbose for the sake of clarity\n",
    "      mu, logvar = L[0], L[1]\n",
    "      z = L[2]\n",
    "      x_recon = L[3] # TODO: get x\n",
    "      # logp(x|y,z) + logp(y) + logp(z) - logq(z|x,y)\n",
    "      logpx = F.binary_cross_entropy(recon_x, x.to(device), size_average=False, reduction='sum') # TODO: sum?\n",
    "      logpy = torch.log(0.1) # TODO: dont hard code\n",
    "      logpz = 1 # logprob Gaussian for z, 0, I\n",
    "      logqz = 1 # logprob Gaussian for z, mu, logvar\n",
    "      L = torch.arange(1.0)\n",
    "\n",
    "      U = torch.arange(1.0)\n",
    "\n",
    "      # classification error\n",
    "      y = C[0]\n",
    "      y_pred = C[1]\n",
    "      C = F.cross_entropy(y_pred, y, reduction='mean')\n",
    "      \n",
    "      J = torch.mean(L) + torch.mean(U) # mean for expectation instead of sum\n",
    "      Ja = J + a * C\n",
    "      return Ja\n",
    "      \n",
    "\n",
    "    def elbo(self,recon_x, x, mu, logvar):\n",
    "        BCE = F.binary_cross_entropy(recon_x, x.to(device), size_average=False, reduction='sum')\n",
    "        # BCE = F.mse_loss(recon_x, x, size_average=False)\n",
    "\n",
    "        # see Appendix B from VAE paper:\n",
    "        # Kingma and Welling. Auto-Encoding Variational Bayes. ICLR, 2014\n",
    "        # 0.5 * sum(1 + log(sigma^2) - mu^2 - sigma^2)\n",
    "        KLD = 0.5 * torch.mean(1 + logvar - mu.pow(2) - logvar.exp())\n",
    "        return BCE - KLD, BCE, KLD\n",
    "\n",
    "    def sample(self,z):\n",
    "        return self.decode(z)\n",
    "\n",
    "# test model\n",
    "model = SS_CVAE_CONV(image_channels=image_channels, h_dim=1024, z_dim=latent_dim, num_labels=num_classes).to(device)\n",
    "print(model)\n",
    "\n",
    "# test forward-pass\n",
    "x_l = example_data[:52]\n",
    "y_l = example_targets[:52]\n",
    "x_u = example_data[52:]\n",
    "out_fpass = model(x_l, x_u, y_l)\n",
    "\n",
    "# test loss\n",
    "loss = model.J_alpha(out_fpass['L'], out_fpass['U'], out_fpass['C'])\n",
    "print(loss)"
   ]
  },
  {
   "cell_type": "code",
   "execution_count": 66,
   "metadata": {
    "colab": {
     "base_uri": "https://localhost:8080/"
    },
    "executionInfo": {
     "elapsed": 780,
     "status": "ok",
     "timestamp": 1607189565023,
     "user": {
      "displayName": "T S",
      "photoUrl": "https://lh3.googleusercontent.com/a-/AOh14Gj-CWtRou4i2dIl0NzW6Op4uQP6XAUPsPNPq7h-TA=s64",
      "userId": "17959196731398393037"
     },
     "user_tz": -60
    },
    "id": "Zz0x_9NqncGJ",
    "outputId": "bbf1f9a3-126d-4de1-c63b-e648c3275349"
   },
   "outputs": [
    {
     "name": "stdout",
     "output_type": "stream",
     "text": [
      "torch.Size([640, 728]) torch.Size([640, 10])\n"
     ]
    }
   ],
   "source": [
    "x_unlabelled = torch.randint(0, 1, (64, 728)) # like a batch of images\n",
    "\n",
    "# x_unlabelled.size()\n",
    "# x_unlab_tiled = x_unlabelled.unsqueeze(0)\n",
    "# x_unlab_tiled = x_unlab_tiled.expand(10,64,728) # test this\n",
    "\n",
    "# n.b. repeat coopies the data, so there might be a less expensive way to do this\n",
    "# e.g. by expanding into 3rd dim??\n",
    "x_unlab_tiled = x_unlabelled.repeat(10,1)\n",
    "\n",
    "y_unlab = torch.repeat_interleave(torch.arange(10), x_unlabelled.shape[0])\n",
    "y_unlab = torch.nn.functional.one_hot(y_unlab, 10).type(torch.float)\n",
    "\n",
    "x_y_unlab = torch.cat((x_unlab_tiled, y_unlab), 1)\n",
    "\n",
    "# print(x_unlab_tiled.shape, y_unlab.shape)\n",
    "\n",
    "\n",
    "\n",
    "\n",
    "\n",
    "# y = torch.randint(0, 10,(1,1)).to(dtype=torch.long) # 10=number of classes\n",
    "# y = torch.nn.functional.one_hot(y,10).type(torch.float).to(device,dtype=z.dtype)[0]"
   ]
  },
  {
   "cell_type": "code",
   "execution_count": 20,
   "metadata": {
    "colab": {
     "base_uri": "https://localhost:8080/"
    },
    "executionInfo": {
     "elapsed": 465,
     "status": "ok",
     "timestamp": 1607199620589,
     "user": {
      "displayName": "T S",
      "photoUrl": "https://lh3.googleusercontent.com/a-/AOh14Gj-CWtRou4i2dIl0NzW6Op4uQP6XAUPsPNPq7h-TA=s64",
      "userId": "17959196731398393037"
     },
     "user_tz": -60
    },
    "id": "9HLjiMl1AJrN",
    "outputId": "d73f9847-1d58-49bc-8b74-94d38de49b3e"
   },
   "outputs": [
    {
     "name": "stdout",
     "output_type": "stream",
     "text": [
      "tensor([[ 1.4417,  0.8400, -1.5465, -0.6570, -0.0203],\n",
      "        [-0.3153, -2.8060,  0.2333,  0.5586,  0.9705],\n",
      "        [-0.2373, -0.5782, -0.8290,  0.1227,  0.7330]], requires_grad=True)\n",
      "tensor([3, 2, 1])\n"
     ]
    }
   ],
   "source": [
    "input = torch.randn(3, 5, requires_grad=True)\n",
    "target = torch.randint(5, (3,), dtype=torch.int64)\n",
    "print(input)\n",
    "print(target)\n",
    "# F.cross_entropy(input, target)"
   ]
  },
  {
   "cell_type": "code",
   "execution_count": null,
   "metadata": {
    "id": "A4ZDcGOSKko9"
   },
   "outputs": [],
   "source": [
    "model = SS_CVAE_CONV(image_channels=image_channels,h_dim=1024,z_dim=latent_dim,num_labels=num_classes).to(device)\n",
    "optimizer = torch.optim.Adam(model.parameters(), lr=learning_rate)"
   ]
  },
  {
   "cell_type": "code",
   "execution_count": null,
   "metadata": {
    "id": "oJVZdVuqKko9"
   },
   "outputs": [],
   "source": [
    "def fit_model(model, train_loader):\n",
    "    model.train()\n",
    "    running_loss = 0.0\n",
    "    # Run each batch in training dataset\n",
    "    for idx, (images, labels) in enumerate(train_loader):\n",
    "        recon_images, mu, logvar = model(images.to(device),labels)\n",
    "        loss, bce, kld = model.elbo(recon_images, images, mu, logvar)\n",
    "        optimizer.zero_grad()\n",
    "        loss.backward()\n",
    "        optimizer.step()\n",
    "        running_loss += loss\n",
    "        \n",
    "    return running_loss/len(train_loader.dataset)\n",
    "    \n",
    "\n",
    "def test_model(model, test_loader):\n",
    "    model.eval()\n",
    "    running_loss = 0.0\n",
    "    with torch.no_grad():\n",
    "        for idx, (images, labels) in enumerate(test_loader):\n",
    "            recon_images, mu, logvar = model(images.to(device),labels)\n",
    "            loss, bce, kld = model.elbo(recon_images, images, mu, logvar)\n",
    "            running_loss += loss\n",
    "\n",
    "    return running_loss/len(test_loader.dataset)"
   ]
  },
  {
   "cell_type": "code",
   "execution_count": null,
   "metadata": {
    "id": "0ltSyARQXsn8",
    "outputId": "6ff80218-f05f-4ff0-c14d-83f9aaf3ca21"
   },
   "outputs": [
    {
     "name": "stdout",
     "output_type": "stream",
     "text": [
      "CVAE_FF(\n",
      "  (encoder): Sequential(\n",
      "    (0): Flatten()\n",
      "    (1): NNprint()\n",
      "    (2): Linear(in_features=784, out_features=100, bias=True)\n",
      "    (3): NNprint()\n",
      "    (4): LeakyReLU(negative_slope=0.01)\n",
      "    (5): Linear(in_features=100, out_features=200, bias=True)\n",
      "    (6): NNprint()\n",
      "    (7): LeakyReLU(negative_slope=0.01)\n",
      "    (8): Linear(in_features=200, out_features=400, bias=True)\n",
      "    (9): NNprint()\n",
      "    (10): LeakyReLU(negative_slope=0.01)\n",
      "    (11): Linear(in_features=400, out_features=1024, bias=True)\n",
      "    (12): NNprint()\n",
      "    (13): LeakyReLU(negative_slope=0.01)\n",
      "    (14): NNprint()\n",
      "  )\n",
      "  (fc1): Linear(in_features=1024, out_features=8, bias=True)\n",
      "  (fc2): Linear(in_features=1024, out_features=8, bias=True)\n",
      "  (fc3): Linear(in_features=13, out_features=1024, bias=True)\n",
      "  (decoder): Sequential(\n",
      "    (0): NNprint()\n",
      "    (1): Linear(in_features=1024, out_features=400, bias=True)\n",
      "    (2): LeakyReLU(negative_slope=0.01)\n",
      "    (3): NNprint()\n",
      "    (4): Linear(in_features=400, out_features=200, bias=True)\n",
      "    (5): LeakyReLU(negative_slope=0.01)\n",
      "    (6): NNprint()\n",
      "    (7): Linear(in_features=200, out_features=100, bias=True)\n",
      "    (8): LeakyReLU(negative_slope=0.01)\n",
      "    (9): NNprint()\n",
      "    (10): Linear(in_features=100, out_features=784, bias=True)\n",
      "    (11): Sigmoid()\n",
      "    (12): NNprint()\n",
      "    (13): UnFlatten_FF()\n",
      "  )\n",
      ")\n"
     ]
    }
   ],
   "source": [
    "print(model)"
   ]
  },
  {
   "cell_type": "code",
   "execution_count": null,
   "metadata": {
    "id": "cJney_KTKko9",
    "outputId": "21f62428-30ec-4011-9f2b-f4a2bc2bdb87"
   },
   "outputs": [
    {
     "name": "stdout",
     "output_type": "stream",
     "text": [
      "Epoch 1 of 5\n",
      "Train Loss: 182.0058\n",
      "Val Loss: 147.0254\n",
      "Epoch 2 of 5\n",
      "Train Loss: 136.6663\n",
      "Val Loss: 132.9854\n",
      "Epoch 3 of 5\n",
      "Train Loss: 130.4136\n",
      "Val Loss: 130.8115\n",
      "Epoch 4 of 5\n",
      "Train Loss: 127.7477\n",
      "Val Loss: 127.7773\n",
      "Epoch 5 of 5\n",
      "Train Loss: 125.4502\n",
      "Val Loss: 126.4101\n",
      "CPU times: user 1min 5s, sys: 150 ms, total: 1min 5s\n",
      "Wall time: 28.6 s\n"
     ]
    }
   ],
   "source": [
    "%%time\n",
    "##\n",
    "train_loss = []\n",
    "test_loss = []\n",
    "\n",
    "for epoch in range(epochs):\n",
    "    print(f\"Epoch {epoch+1} of {epochs}\")\n",
    "    train_epoch_loss = fit_model(model, train_loader)\n",
    "    test_epoch_loss = test_model(model, test_loader)\n",
    "    train_loss.append(train_epoch_loss)\n",
    "    test_loss.append(test_epoch_loss)\n",
    "    print(f\"Train Loss: {train_epoch_loss:.4f}\")\n",
    "    print(f\"Val Loss: {test_epoch_loss:.4f}\")\n",
    "\n",
    "torch.save(model.state_dict(), 'cvae.torch')\n"
   ]
  },
  {
   "cell_type": "code",
   "execution_count": null,
   "metadata": {
    "id": "BYKGI7HbKko9",
    "outputId": "8532fd8b-d399-4fae-f0cb-2344240d0df5"
   },
   "outputs": [
    {
     "data": {
      "image/png": "[encoded data removed]",
      "text/plain": [
       "<Figure size 1080x1080 with 64 Axes>"
      ]
     },
     "metadata": {
      "tags": []
     },
     "output_type": "display_data"
    }
   ],
   "source": [
    "plot_examples()"
   ]
  },
  {
   "cell_type": "code",
   "execution_count": null,
   "metadata": {
    "id": "fjbG1dMmKko9",
    "outputId": "c205da1e-65ce-4ddf-b2f9-31afb5193478"
   },
   "outputs": [
    {
     "data": {
      "image/png": "[encoded data removed]",
      "text/plain": [
       "<Figure size 1080x1080 with 64 Axes>"
      ]
     },
     "metadata": {
      "tags": []
     },
     "output_type": "display_data"
    }
   ],
   "source": [
    "#Reconstructions\n",
    "plot_examples(model)\n"
   ]
  },
  {
   "cell_type": "code",
   "execution_count": null,
   "metadata": {
    "id": "5sQAVtTQKko-",
    "outputId": "e98333b2-f365-433d-a5f2-a1822e6c7b1d",
    "scrolled": false
   },
   "outputs": [
    {
     "data": {
      "image/png": "[encoded data removed]",
      "text/plain": [
       "<Figure size 1080x1080 with 64 Axes>"
      ]
     },
     "metadata": {
      "tags": []
     },
     "output_type": "display_data"
    }
   ],
   "source": [
    "# Sample latent space\n",
    "plot_examples(model,sample=True)"
   ]
  },
  {
   "cell_type": "markdown",
   "metadata": {
    "id": "OcDwVWZ4LQz9"
   },
   "source": [
    "# 2.3  Semi-Supervised VAE (M1)\n",
    "\n",
    "We have now trained a VAE on the full unlabeled dataset.  We will now implement the M1 model from Semi-Supervised Learning with Deep Generative Models. This amounts to simply traininga classifier on top of the representations learned by our VAE.\n",
    "\n",
    "1. Extract 100 labeled datapoints from MNIST (10 from each class).\n",
    "2.(Report) Train a classifier on their latent representation.  First try a linear classifier and then experiment with other types of classifiers.  Report the accuracies.\n",
    "3.(Report) Implement  some  simple  baselines:  Train  a  linear  classifier  or  neural  network  from scratch using only the 100 labeled data points.  Report the accuracies."
   ]
  },
  {
   "cell_type": "code",
   "execution_count": null,
   "metadata": {
    "id": "vA8nlOm0bpb5"
   },
   "outputs": [],
   "source": [
    "# 0 Train VAE on all available data (X), without labels (y)\n",
    "\n",
    "model = CVAE(image_channels=image_channels,h_dim=1024,z_dim=latent_dim,num_labels=0).to(device)\n",
    "optimizer = torch.optim.Adam(model.parameters(), lr=learning_rate)"
   ]
  },
  {
   "cell_type": "code",
   "execution_count": null,
   "metadata": {
    "colab": {
     "base_uri": "https://localhost:8080/"
    },
    "id": "dVjsLiA7buPi",
    "outputId": "f65362be-9235-4714-967c-83c6cf227b6f"
   },
   "outputs": [
    {
     "name": "stdout",
     "output_type": "stream",
     "text": [
      "Epoch 1 of 5\n"
     ]
    },
    {
     "name": "stderr",
     "output_type": "stream",
     "text": [
      "/usr/local/lib/python3.6/dist-packages/torch/nn/_reduction.py:44: UserWarning: size_average and reduce args will be deprecated, please use reduction='sum' instead.\n",
      "  warnings.warn(warning.format(ret))\n"
     ]
    },
    {
     "name": "stdout",
     "output_type": "stream",
     "text": [
      "Train Loss: 117.6458\n",
      "Val Loss: 91.3892\n",
      "Epoch 2 of 5\n",
      "Train Loss: 80.4845\n",
      "Val Loss: 64.7040\n",
      "Epoch 3 of 5\n",
      "Train Loss: 55.2358\n",
      "Val Loss: 48.9142\n",
      "Epoch 4 of 5\n",
      "Train Loss: 47.4716\n",
      "Val Loss: 45.3025\n",
      "Epoch 5 of 5\n",
      "Train Loss: 44.6698\n",
      "Val Loss: 43.1558\n"
     ]
    }
   ],
   "source": [
    "##\n",
    "train_loss = []\n",
    "test_loss = []\n",
    "epochs=5\n",
    "learning_rate=1e-3\n",
    "\n",
    "for epoch in range(epochs):\n",
    "    print(f\"Epoch {epoch+1} of {epochs}\")\n",
    "    train_epoch_loss = fit_model(model, train_loader)\n",
    "    test_epoch_loss = test_model(model, test_loader)\n",
    "    train_loss.append(train_epoch_loss)\n",
    "    test_loss.append(test_epoch_loss)\n",
    "    print(f\"Train Loss: {train_epoch_loss:.4f}\")\n",
    "    print(f\"Val Loss: {test_epoch_loss:.4f}\")\n",
    "\n",
    "# torch.save(model.state_dict(), 'cvae.torch')"
   ]
  },
  {
   "cell_type": "code",
   "execution_count": null,
   "metadata": {
    "id": "JHPj9_YxLs2E"
   },
   "outputs": [],
   "source": [
    "# 1 Extract 100 labeled datapoints from MNIST (10 from each class).\n",
    "\n",
    "def get_target_indexes(dset, n_class_examples):\n",
    "  idxs = []\n",
    "  ts = []\n",
    "  n_samples = n_class_examples * len(np.unique(dset_train.targets.numpy()))\n",
    "\n",
    "  for j, x in enumerate(dset.targets):\n",
    "    if (ts.count(x.numpy()) < n_class_examples):\n",
    "      ts.append(x.numpy())\n",
    "      idxs.append(j)\n",
    "\n",
    "    if len(idxs) == n_samples:\n",
    "      break\n",
    "\n",
    "  return idxs\n",
    "\n",
    "# np.unique(dset_train.targets[idxs].numpy(), return_counts=True)\n",
    "# torch.utils.data.Subset(dset_train, idxs)"
   ]
  },
  {
   "cell_type": "code",
   "execution_count": null,
   "metadata": {
    "id": "2epGrH1beyzU"
   },
   "outputs": [],
   "source": [
    "idx_train_subset = get_target_indexes(dset_train, 10)\n",
    "dset_train_subset = torch.utils.data.Subset(dset_train, idx_train_subset)\n",
    "\n",
    "dset_train_subset_loader = torch.utils.data.DataLoader(\n",
    "  dset_train_subset,\n",
    "  batch_size=1000)"
   ]
  },
  {
   "cell_type": "code",
   "execution_count": null,
   "metadata": {
    "id": "NEL7JExweLGv"
   },
   "outputs": [],
   "source": [
    "idx_test_subset = get_target_indexes(dset_test, 100)\n",
    "dset_test_subset = torch.utils.data.Subset(dset_test, idx_test_subset)\n",
    "\n",
    "dset_test_subset_loader = torch.utils.data.DataLoader(\n",
    "  dset_test_subset,\n",
    "  batch_size=100)"
   ]
  },
  {
   "cell_type": "code",
   "execution_count": null,
   "metadata": {
    "colab": {
     "base_uri": "https://localhost:8080/"
    },
    "id": "Ojv6XFmtLz2q",
    "outputId": "344ff440-5f45-4f67-9d5e-953a5a34a053"
   },
   "outputs": [
    {
     "name": "stdout",
     "output_type": "stream",
     "text": [
      "Loss (train):  0.94\n"
     ]
    },
    {
     "name": "stderr",
     "output_type": "stream",
     "text": [
      "/usr/local/lib/python3.6/dist-packages/sklearn/linear_model/_logistic.py:940: ConvergenceWarning: lbfgs failed to converge (status=1):\n",
      "STOP: TOTAL NO. of ITERATIONS REACHED LIMIT.\n",
      "\n",
      "Increase the number of iterations (max_iter) or scale the data as shown in:\n",
      "    https://scikit-learn.org/stable/modules/preprocessing.html\n",
      "Please also refer to the documentation for alternative solver options:\n",
      "    https://scikit-learn.org/stable/modules/linear_model.html#logistic-regression\n",
      "  extra_warning_msg=_LOGISTIC_SOLVER_CONVERGENCE_MSG)\n"
     ]
    }
   ],
   "source": [
    "# 2 (Report) Train a classifier on their latent representation. \n",
    "# First try a linear classifier and then experiment with other types of classifiers. Report the accuracies.\n",
    "\n",
    "from sklearn.linear_model import LogisticRegression\n",
    "\n",
    "model.eval()\n",
    "\n",
    "X_train = None\n",
    "\n",
    "with torch.no_grad():\n",
    "    for idx, (images, labels) in enumerate(dset_train_subset_loader):\n",
    "        recon_images, mu, logvar = model(images.to(device), None)\n",
    "        X_train = mu.numpy()\n",
    "\n",
    "y_train = dset_train.targets[idx_train_subset]\n",
    "clf = LogisticRegression(random_state=0).fit(X_train, y_train)\n",
    "\n",
    "print(\"Loss (train): \", clf.score(X_train, y_train))"
   ]
  },
  {
   "cell_type": "code",
   "execution_count": null,
   "metadata": {
    "colab": {
     "base_uri": "https://localhost:8080/"
    },
    "id": "KBW2i2nml-2C",
    "outputId": "5cfe9ce1-4554-408e-c6fc-1728110e1a0f"
   },
   "outputs": [
    {
     "name": "stdout",
     "output_type": "stream",
     "text": [
      "[0.66, 0.59, 0.68, 0.58, 0.64, 0.62, 0.56, 0.69, 0.66, 0.54]\n",
      "Mean loss (test):  0.622\n"
     ]
    }
   ],
   "source": [
    "X_test = None\n",
    "err = []\n",
    "with torch.no_grad():\n",
    "    for idx, (images, labels) in enumerate(dset_test_subset_loader):\n",
    "        recon_images, mu, logvar = model(images.to(device), None)\n",
    "        X_test = mu.numpy()\n",
    "        y_test = labels.numpy()\n",
    "        err.append(clf.score(X_test, y_test))\n",
    "\n",
    "print(\"Mean loss (test): \", np.mean(np.array(err)))"
   ]
  },
  {
   "cell_type": "code",
   "execution_count": null,
   "metadata": {
    "id": "V82DkTSImjVn"
   },
   "outputs": [],
   "source": []
  },
  {
   "cell_type": "code",
   "execution_count": null,
   "metadata": {
    "id": "SmY2NIWVKko-"
   },
   "outputs": [],
   "source": [
    "# \n",
    "\n",
    "z1 = torch.randn(1, latent_dim).to(device)\n",
    "z2 = torch.randn(1, latent_dim).to(device)\n",
    "z3 = torch.randn(1, latent_dim).to(device)\n",
    "z4 = torch.randn(1, latent_dim).to(device)\n",
    "\n",
    "y = torch.randint(0, 10,(1,1)).to(dtype=torch.long) # 10=number of classes\n",
    "y = torch.nn.functional.one_hot(y,10).type(torch.float).to(device,dtype=z.dtype)[0]\n",
    "\n",
    "z1 = torch.cat((z1,y),dim=1)\n",
    "z2 = torch.cat((z2,y),dim=1)\n",
    "z3 = torch.cat((z3,y),dim=1)\n",
    "z4 = torch.cat((z4,y),dim=1)\n",
    "\n",
    "print(z1)\n",
    "print(z2)\n",
    "print(z3)\n",
    "print(z4)\n",
    "rec1 = model.decode(z1)\n",
    "rec2 = model.decode(z2)\n",
    "rec3 = model.decode(z3)\n",
    "rec4 = model.decode(z4)\n",
    "\n",
    "img1 = rec1.view(28,28).data\n",
    "img2 = rec2.view(28,28).data\n",
    "img3 = rec3.view(28,28).data\n",
    "img4 = rec4.view(28,28).data\n"
   ]
  },
  {
   "cell_type": "code",
   "execution_count": null,
   "metadata": {
    "id": "cyaotocXKko-"
   },
   "outputs": [],
   "source": [
    "plt.figure()\n",
    "plt.imshow(img1.to('cpu'), cmap='gray')"
   ]
  },
  {
   "cell_type": "code",
   "execution_count": null,
   "metadata": {
    "id": "GGx8hr_uKko-"
   },
   "outputs": [],
   "source": [
    "plt.figure()\n",
    "plt.imshow(img2.to('cpu'), cmap='gray')"
   ]
  },
  {
   "cell_type": "code",
   "execution_count": null,
   "metadata": {
    "id": "iC6bN4D3Kko-"
   },
   "outputs": [],
   "source": [
    "plt.figure()\n",
    "plt.imshow(img3.to('cpu'), cmap='gray')"
   ]
  },
  {
   "cell_type": "code",
   "execution_count": null,
   "metadata": {
    "id": "kMFNw4oJKko-"
   },
   "outputs": [],
   "source": [
    "plt.figure()\n",
    "plt.imshow(img4.to('cpu'), cmap='gray')"
   ]
  },
  {
   "cell_type": "code",
   "execution_count": null,
   "metadata": {
    "id": "GOJBem2uKko_"
   },
   "outputs": [],
   "source": []
  },
  {
   "cell_type": "code",
   "execution_count": null,
   "metadata": {
    "id": "5qD30Z3xKko_"
   },
   "outputs": [],
   "source": []
  }
 ],
 "metadata": {
  "accelerator": "GPU",
  "colab": {
   "collapsed_sections": [
    "nck2uJ6PKko8",
    "ZoMdnAHnKko8"
   ],
   "name": "VAE_Project_M2_tobias.ipynb",
   "provenance": []
  },
  "kernelspec": {
   "display_name": "Python 3",
   "language": "python",
   "name": "python3"
  },
  "language_info": {
   "codemirror_mode": {
    "name": "ipython",
    "version": 3
   },
   "file_extension": ".py",
   "mimetype": "text/x-python",
   "name": "python",
   "nbconvert_exporter": "python",
   "pygments_lexer": "ipython3",
   "version": "3.6.9"
  },
  "widgets": {
   "application/vnd.jupyter.widget-state+json": {
    "031f2efb3aaa428ba79695c516f1bb8e": {
     "model_module": "@jupyter-widgets/controls",
     "model_name": "DescriptionStyleModel",
     "state": {
      "_model_module": "@jupyter-widgets/controls",
      "_model_module_version": "1.5.0",
      "_model_name": "DescriptionStyleModel",
      "_view_count": null,
      "_view_module": "@jupyter-widgets/base",
      "_view_module_version": "1.2.0",
      "_view_name": "StyleView",
      "description_width": ""
     }
    },
    "0ff6294f622345e6a36f0a95dfe96d44": {
     "model_module": "@jupyter-widgets/controls",
     "model_name": "HTMLModel",
     "state": {
      "_dom_classes": [],
      "_model_module": "@jupyter-widgets/controls",
      "_model_module_version": "1.5.0",
      "_model_name": "HTMLModel",
      "_view_count": null,
      "_view_module": "@jupyter-widgets/controls",
      "_view_module_version": "1.5.0",
      "_view_name": "HTMLView",
      "description": "",
      "description_tooltip": null,
      "layout": "IPY_MODEL_28f68dce275848ddbd0e301a42a1b63b",
      "placeholder": "​",
      "style": "IPY_MODEL_235b4e8ba25642dd8000200a48e4cf98",
      "value": " 9920512/? [00:03&lt;00:00, 3182481.19it/s]"
     }
    },
    "14fb7fe4b44749d8a219497c517ddd7e": {
     "model_module": "@jupyter-widgets/base",
     "model_name": "LayoutModel",
     "state": {
      "_model_module": "@jupyter-widgets/base",
      "_model_module_version": "1.2.0",
      "_model_name": "LayoutModel",
      "_view_count": null,
      "_view_module": "@jupyter-widgets/base",
      "_view_module_version": "1.2.0",
      "_view_name": "LayoutView",
      "align_content": null,
      "align_items": null,
      "align_self": null,
      "border": null,
      "bottom": null,
      "display": null,
      "flex": null,
      "flex_flow": null,
      "grid_area": null,
      "grid_auto_columns": null,
      "grid_auto_flow": null,
      "grid_auto_rows": null,
      "grid_column": null,
      "grid_gap": null,
      "grid_row": null,
      "grid_template_areas": null,
      "grid_template_columns": null,
      "grid_template_rows": null,
      "height": null,
      "justify_content": null,
      "justify_items": null,
      "left": null,
      "margin": null,
      "max_height": null,
      "max_width": null,
      "min_height": null,
      "min_width": null,
      "object_fit": null,
      "object_position": null,
      "order": null,
      "overflow": null,
      "overflow_x": null,
      "overflow_y": null,
      "padding": null,
      "right": null,
      "top": null,
      "visibility": null,
      "width": null
     }
    },
    "1c685203d0154d2b9acc0bef022fd8b6": {
     "model_module": "@jupyter-widgets/base",
     "model_name": "LayoutModel",
     "state": {
      "_model_module": "@jupyter-widgets/base",
      "_model_module_version": "1.2.0",
      "_model_name": "LayoutModel",
      "_view_count": null,
      "_view_module": "@jupyter-widgets/base",
      "_view_module_version": "1.2.0",
      "_view_name": "LayoutView",
      "align_content": null,
      "align_items": null,
      "align_self": null,
      "border": null,
      "bottom": null,
      "display": null,
      "flex": null,
      "flex_flow": null,
      "grid_area": null,
      "grid_auto_columns": null,
      "grid_auto_flow": null,
      "grid_auto_rows": null,
      "grid_column": null,
      "grid_gap": null,
      "grid_row": null,
      "grid_template_areas": null,
      "grid_template_columns": null,
      "grid_template_rows": null,
      "height": null,
      "justify_content": null,
      "justify_items": null,
      "left": null,
      "margin": null,
      "max_height": null,
      "max_width": null,
      "min_height": null,
      "min_width": null,
      "object_fit": null,
      "object_position": null,
      "order": null,
      "overflow": null,
      "overflow_x": null,
      "overflow_y": null,
      "padding": null,
      "right": null,
      "top": null,
      "visibility": null,
      "width": null
     }
    },
    "1d9b6d38ce4f48f1b0ecc33a11536a04": {
     "model_module": "@jupyter-widgets/base",
     "model_name": "LayoutModel",
     "state": {
      "_model_module": "@jupyter-widgets/base",
      "_model_module_version": "1.2.0",
      "_model_name": "LayoutModel",
      "_view_count": null,
      "_view_module": "@jupyter-widgets/base",
      "_view_module_version": "1.2.0",
      "_view_name": "LayoutView",
      "align_content": null,
      "align_items": null,
      "align_self": null,
      "border": null,
      "bottom": null,
      "display": null,
      "flex": null,
      "flex_flow": null,
      "grid_area": null,
      "grid_auto_columns": null,
      "grid_auto_flow": null,
      "grid_auto_rows": null,
      "grid_column": null,
      "grid_gap": null,
      "grid_row": null,
      "grid_template_areas": null,
      "grid_template_columns": null,
      "grid_template_rows": null,
      "height": null,
      "justify_content": null,
      "justify_items": null,
      "left": null,
      "margin": null,
      "max_height": null,
      "max_width": null,
      "min_height": null,
      "min_width": null,
      "object_fit": null,
      "object_position": null,
      "order": null,
      "overflow": null,
      "overflow_x": null,
      "overflow_y": null,
      "padding": null,
      "right": null,
      "top": null,
      "visibility": null,
      "width": null
     }
    },
    "235b4e8ba25642dd8000200a48e4cf98": {
     "model_module": "@jupyter-widgets/controls",
     "model_name": "DescriptionStyleModel",
     "state": {
      "_model_module": "@jupyter-widgets/controls",
      "_model_module_version": "1.5.0",
      "_model_name": "DescriptionStyleModel",
      "_view_count": null,
      "_view_module": "@jupyter-widgets/base",
      "_view_module_version": "1.2.0",
      "_view_name": "StyleView",
      "description_width": ""
     }
    },
    "25a759ecd3fc4085a8b4863cf753f8b6": {
     "model_module": "@jupyter-widgets/controls",
     "model_name": "HBoxModel",
     "state": {
      "_dom_classes": [],
      "_model_module": "@jupyter-widgets/controls",
      "_model_module_version": "1.5.0",
      "_model_name": "HBoxModel",
      "_view_count": null,
      "_view_module": "@jupyter-widgets/controls",
      "_view_module_version": "1.5.0",
      "_view_name": "HBoxView",
      "box_style": "",
      "children": [
       "IPY_MODEL_d4156624016742b6a0a9acbce48f6da9",
       "IPY_MODEL_3703c9e34d0e4eeab5081c0d6e983279"
      ],
      "layout": "IPY_MODEL_1d9b6d38ce4f48f1b0ecc33a11536a04"
     }
    },
    "28f68dce275848ddbd0e301a42a1b63b": {
     "model_module": "@jupyter-widgets/base",
     "model_name": "LayoutModel",
     "state": {
      "_model_module": "@jupyter-widgets/base",
      "_model_module_version": "1.2.0",
      "_model_name": "LayoutModel",
      "_view_count": null,
      "_view_module": "@jupyter-widgets/base",
      "_view_module_version": "1.2.0",
      "_view_name": "LayoutView",
      "align_content": null,
      "align_items": null,
      "align_self": null,
      "border": null,
      "bottom": null,
      "display": null,
      "flex": null,
      "flex_flow": null,
      "grid_area": null,
      "grid_auto_columns": null,
      "grid_auto_flow": null,
      "grid_auto_rows": null,
      "grid_column": null,
      "grid_gap": null,
      "grid_row": null,
      "grid_template_areas": null,
      "grid_template_columns": null,
      "grid_template_rows": null,
      "height": null,
      "justify_content": null,
      "justify_items": null,
      "left": null,
      "margin": null,
      "max_height": null,
      "max_width": null,
      "min_height": null,
      "min_width": null,
      "object_fit": null,
      "object_position": null,
      "order": null,
      "overflow": null,
      "overflow_x": null,
      "overflow_y": null,
      "padding": null,
      "right": null,
      "top": null,
      "visibility": null,
      "width": null
     }
    },
    "333f222b8b7449db985949724a8b7d57": {
     "model_module": "@jupyter-widgets/base",
     "model_name": "LayoutModel",
     "state": {
      "_model_module": "@jupyter-widgets/base",
      "_model_module_version": "1.2.0",
      "_model_name": "LayoutModel",
      "_view_count": null,
      "_view_module": "@jupyter-widgets/base",
      "_view_module_version": "1.2.0",
      "_view_name": "LayoutView",
      "align_content": null,
      "align_items": null,
      "align_self": null,
      "border": null,
      "bottom": null,
      "display": null,
      "flex": null,
      "flex_flow": null,
      "grid_area": null,
      "grid_auto_columns": null,
      "grid_auto_flow": null,
      "grid_auto_rows": null,
      "grid_column": null,
      "grid_gap": null,
      "grid_row": null,
      "grid_template_areas": null,
      "grid_template_columns": null,
      "grid_template_rows": null,
      "height": null,
      "justify_content": null,
      "justify_items": null,
      "left": null,
      "margin": null,
      "max_height": null,
      "max_width": null,
      "min_height": null,
      "min_width": null,
      "object_fit": null,
      "object_position": null,
      "order": null,
      "overflow": null,
      "overflow_x": null,
      "overflow_y": null,
      "padding": null,
      "right": null,
      "top": null,
      "visibility": null,
      "width": null
     }
    },
    "33c1eef508664abc9c9b16a0c052d109": {
     "model_module": "@jupyter-widgets/controls",
     "model_name": "HBoxModel",
     "state": {
      "_dom_classes": [],
      "_model_module": "@jupyter-widgets/controls",
      "_model_module_version": "1.5.0",
      "_model_name": "HBoxModel",
      "_view_count": null,
      "_view_module": "@jupyter-widgets/controls",
      "_view_module_version": "1.5.0",
      "_view_name": "HBoxView",
      "box_style": "",
      "children": [
       "IPY_MODEL_c05f1ce1a6304412a05c7b5b34b67479",
       "IPY_MODEL_0ff6294f622345e6a36f0a95dfe96d44"
      ],
      "layout": "IPY_MODEL_644e3ee75eb74daa9169846ce428a199"
     }
    },
    "3703c9e34d0e4eeab5081c0d6e983279": {
     "model_module": "@jupyter-widgets/controls",
     "model_name": "HTMLModel",
     "state": {
      "_dom_classes": [],
      "_model_module": "@jupyter-widgets/controls",
      "_model_module_version": "1.5.0",
      "_model_name": "HTMLModel",
      "_view_count": null,
      "_view_module": "@jupyter-widgets/controls",
      "_view_module_version": "1.5.0",
      "_view_name": "HTMLView",
      "description": "",
      "description_tooltip": null,
      "layout": "IPY_MODEL_83cbba77a7e44e0ba303b1da4695598d",
      "placeholder": "​",
      "style": "IPY_MODEL_4c2e3cf9e1674162bd44d4cdcd89d5bd",
      "value": " 1654784/? [00:01&lt;00:00, 1467618.47it/s]"
     }
    },
    "3951339372ea4b68bb747bf2659540be": {
     "model_module": "@jupyter-widgets/controls",
     "model_name": "ProgressStyleModel",
     "state": {
      "_model_module": "@jupyter-widgets/controls",
      "_model_module_version": "1.5.0",
      "_model_name": "ProgressStyleModel",
      "_view_count": null,
      "_view_module": "@jupyter-widgets/base",
      "_view_module_version": "1.2.0",
      "_view_name": "StyleView",
      "bar_color": null,
      "description_width": "initial"
     }
    },
    "43708eca69804f26ab8031f25adc9f1f": {
     "model_module": "@jupyter-widgets/controls",
     "model_name": "ProgressStyleModel",
     "state": {
      "_model_module": "@jupyter-widgets/controls",
      "_model_module_version": "1.5.0",
      "_model_name": "ProgressStyleModel",
      "_view_count": null,
      "_view_module": "@jupyter-widgets/base",
      "_view_module_version": "1.2.0",
      "_view_name": "StyleView",
      "bar_color": null,
      "description_width": "initial"
     }
    },
    "4c2e3cf9e1674162bd44d4cdcd89d5bd": {
     "model_module": "@jupyter-widgets/controls",
     "model_name": "DescriptionStyleModel",
     "state": {
      "_model_module": "@jupyter-widgets/controls",
      "_model_module_version": "1.5.0",
      "_model_name": "DescriptionStyleModel",
      "_view_count": null,
      "_view_module": "@jupyter-widgets/base",
      "_view_module_version": "1.2.0",
      "_view_name": "StyleView",
      "description_width": ""
     }
    },
    "5f59fe3d5e43491aa60b8f0883f78ead": {
     "model_module": "@jupyter-widgets/base",
     "model_name": "LayoutModel",
     "state": {
      "_model_module": "@jupyter-widgets/base",
      "_model_module_version": "1.2.0",
      "_model_name": "LayoutModel",
      "_view_count": null,
      "_view_module": "@jupyter-widgets/base",
      "_view_module_version": "1.2.0",
      "_view_name": "LayoutView",
      "align_content": null,
      "align_items": null,
      "align_self": null,
      "border": null,
      "bottom": null,
      "display": null,
      "flex": null,
      "flex_flow": null,
      "grid_area": null,
      "grid_auto_columns": null,
      "grid_auto_flow": null,
      "grid_auto_rows": null,
      "grid_column": null,
      "grid_gap": null,
      "grid_row": null,
      "grid_template_areas": null,
      "grid_template_columns": null,
      "grid_template_rows": null,
      "height": null,
      "justify_content": null,
      "justify_items": null,
      "left": null,
      "margin": null,
      "max_height": null,
      "max_width": null,
      "min_height": null,
      "min_width": null,
      "object_fit": null,
      "object_position": null,
      "order": null,
      "overflow": null,
      "overflow_x": null,
      "overflow_y": null,
      "padding": null,
      "right": null,
      "top": null,
      "visibility": null,
      "width": null
     }
    },
    "644e3ee75eb74daa9169846ce428a199": {
     "model_module": "@jupyter-widgets/base",
     "model_name": "LayoutModel",
     "state": {
      "_model_module": "@jupyter-widgets/base",
      "_model_module_version": "1.2.0",
      "_model_name": "LayoutModel",
      "_view_count": null,
      "_view_module": "@jupyter-widgets/base",
      "_view_module_version": "1.2.0",
      "_view_name": "LayoutView",
      "align_content": null,
      "align_items": null,
      "align_self": null,
      "border": null,
      "bottom": null,
      "display": null,
      "flex": null,
      "flex_flow": null,
      "grid_area": null,
      "grid_auto_columns": null,
      "grid_auto_flow": null,
      "grid_auto_rows": null,
      "grid_column": null,
      "grid_gap": null,
      "grid_row": null,
      "grid_template_areas": null,
      "grid_template_columns": null,
      "grid_template_rows": null,
      "height": null,
      "justify_content": null,
      "justify_items": null,
      "left": null,
      "margin": null,
      "max_height": null,
      "max_width": null,
      "min_height": null,
      "min_width": null,
      "object_fit": null,
      "object_position": null,
      "order": null,
      "overflow": null,
      "overflow_x": null,
      "overflow_y": null,
      "padding": null,
      "right": null,
      "top": null,
      "visibility": null,
      "width": null
     }
    },
    "6f4523899acf4e5e94d158773cbfd8e1": {
     "model_module": "@jupyter-widgets/base",
     "model_name": "LayoutModel",
     "state": {
      "_model_module": "@jupyter-widgets/base",
      "_model_module_version": "1.2.0",
      "_model_name": "LayoutModel",
      "_view_count": null,
      "_view_module": "@jupyter-widgets/base",
      "_view_module_version": "1.2.0",
      "_view_name": "LayoutView",
      "align_content": null,
      "align_items": null,
      "align_self": null,
      "border": null,
      "bottom": null,
      "display": null,
      "flex": null,
      "flex_flow": null,
      "grid_area": null,
      "grid_auto_columns": null,
      "grid_auto_flow": null,
      "grid_auto_rows": null,
      "grid_column": null,
      "grid_gap": null,
      "grid_row": null,
      "grid_template_areas": null,
      "grid_template_columns": null,
      "grid_template_rows": null,
      "height": null,
      "justify_content": null,
      "justify_items": null,
      "left": null,
      "margin": null,
      "max_height": null,
      "max_width": null,
      "min_height": null,
      "min_width": null,
      "object_fit": null,
      "object_position": null,
      "order": null,
      "overflow": null,
      "overflow_x": null,
      "overflow_y": null,
      "padding": null,
      "right": null,
      "top": null,
      "visibility": null,
      "width": null
     }
    },
    "6f8c614ddd4142fbbfd7da8d1763e586": {
     "model_module": "@jupyter-widgets/controls",
     "model_name": "DescriptionStyleModel",
     "state": {
      "_model_module": "@jupyter-widgets/controls",
      "_model_module_version": "1.5.0",
      "_model_name": "DescriptionStyleModel",
      "_view_count": null,
      "_view_module": "@jupyter-widgets/base",
      "_view_module_version": "1.2.0",
      "_view_name": "StyleView",
      "description_width": ""
     }
    },
    "74ed888b1e264041bae5e629ac8d4903": {
     "model_module": "@jupyter-widgets/controls",
     "model_name": "HBoxModel",
     "state": {
      "_dom_classes": [],
      "_model_module": "@jupyter-widgets/controls",
      "_model_module_version": "1.5.0",
      "_model_name": "HBoxModel",
      "_view_count": null,
      "_view_module": "@jupyter-widgets/controls",
      "_view_module_version": "1.5.0",
      "_view_name": "HBoxView",
      "box_style": "",
      "children": [
       "IPY_MODEL_7d1dd43847424315a9af447c0b999224",
       "IPY_MODEL_f92896884f7c4351958317821b0fd291"
      ],
      "layout": "IPY_MODEL_cd04f1e6e5a14014bffa2273b5cc0ad8"
     }
    },
    "7d1dd43847424315a9af447c0b999224": {
     "model_module": "@jupyter-widgets/controls",
     "model_name": "FloatProgressModel",
     "state": {
      "_dom_classes": [],
      "_model_module": "@jupyter-widgets/controls",
      "_model_module_version": "1.5.0",
      "_model_name": "FloatProgressModel",
      "_view_count": null,
      "_view_module": "@jupyter-widgets/controls",
      "_view_module_version": "1.5.0",
      "_view_name": "ProgressView",
      "bar_style": "success",
      "description": "",
      "description_tooltip": null,
      "layout": "IPY_MODEL_6f4523899acf4e5e94d158773cbfd8e1",
      "max": 1,
      "min": 0,
      "orientation": "horizontal",
      "style": "IPY_MODEL_f5f14097b0ad4e028c8b3cb9b822c31e",
      "value": 1
     }
    },
    "83cbba77a7e44e0ba303b1da4695598d": {
     "model_module": "@jupyter-widgets/base",
     "model_name": "LayoutModel",
     "state": {
      "_model_module": "@jupyter-widgets/base",
      "_model_module_version": "1.2.0",
      "_model_name": "LayoutModel",
      "_view_count": null,
      "_view_module": "@jupyter-widgets/base",
      "_view_module_version": "1.2.0",
      "_view_name": "LayoutView",
      "align_content": null,
      "align_items": null,
      "align_self": null,
      "border": null,
      "bottom": null,
      "display": null,
      "flex": null,
      "flex_flow": null,
      "grid_area": null,
      "grid_auto_columns": null,
      "grid_auto_flow": null,
      "grid_auto_rows": null,
      "grid_column": null,
      "grid_gap": null,
      "grid_row": null,
      "grid_template_areas": null,
      "grid_template_columns": null,
      "grid_template_rows": null,
      "height": null,
      "justify_content": null,
      "justify_items": null,
      "left": null,
      "margin": null,
      "max_height": null,
      "max_width": null,
      "min_height": null,
      "min_width": null,
      "object_fit": null,
      "object_position": null,
      "order": null,
      "overflow": null,
      "overflow_x": null,
      "overflow_y": null,
      "padding": null,
      "right": null,
      "top": null,
      "visibility": null,
      "width": null
     }
    },
    "878fbd56d737468d965265e6e0188670": {
     "model_module": "@jupyter-widgets/base",
     "model_name": "LayoutModel",
     "state": {
      "_model_module": "@jupyter-widgets/base",
      "_model_module_version": "1.2.0",
      "_model_name": "LayoutModel",
      "_view_count": null,
      "_view_module": "@jupyter-widgets/base",
      "_view_module_version": "1.2.0",
      "_view_name": "LayoutView",
      "align_content": null,
      "align_items": null,
      "align_self": null,
      "border": null,
      "bottom": null,
      "display": null,
      "flex": null,
      "flex_flow": null,
      "grid_area": null,
      "grid_auto_columns": null,
      "grid_auto_flow": null,
      "grid_auto_rows": null,
      "grid_column": null,
      "grid_gap": null,
      "grid_row": null,
      "grid_template_areas": null,
      "grid_template_columns": null,
      "grid_template_rows": null,
      "height": null,
      "justify_content": null,
      "justify_items": null,
      "left": null,
      "margin": null,
      "max_height": null,
      "max_width": null,
      "min_height": null,
      "min_width": null,
      "object_fit": null,
      "object_position": null,
      "order": null,
      "overflow": null,
      "overflow_x": null,
      "overflow_y": null,
      "padding": null,
      "right": null,
      "top": null,
      "visibility": null,
      "width": null
     }
    },
    "c05f1ce1a6304412a05c7b5b34b67479": {
     "model_module": "@jupyter-widgets/controls",
     "model_name": "FloatProgressModel",
     "state": {
      "_dom_classes": [],
      "_model_module": "@jupyter-widgets/controls",
      "_model_module_version": "1.5.0",
      "_model_name": "FloatProgressModel",
      "_view_count": null,
      "_view_module": "@jupyter-widgets/controls",
      "_view_module_version": "1.5.0",
      "_view_name": "ProgressView",
      "bar_style": "success",
      "description": "",
      "description_tooltip": null,
      "layout": "IPY_MODEL_c092d13dc1b74537922f0b171959d16f",
      "max": 1,
      "min": 0,
      "orientation": "horizontal",
      "style": "IPY_MODEL_43708eca69804f26ab8031f25adc9f1f",
      "value": 1
     }
    },
    "c092d13dc1b74537922f0b171959d16f": {
     "model_module": "@jupyter-widgets/base",
     "model_name": "LayoutModel",
     "state": {
      "_model_module": "@jupyter-widgets/base",
      "_model_module_version": "1.2.0",
      "_model_name": "LayoutModel",
      "_view_count": null,
      "_view_module": "@jupyter-widgets/base",
      "_view_module_version": "1.2.0",
      "_view_name": "LayoutView",
      "align_content": null,
      "align_items": null,
      "align_self": null,
      "border": null,
      "bottom": null,
      "display": null,
      "flex": null,
      "flex_flow": null,
      "grid_area": null,
      "grid_auto_columns": null,
      "grid_auto_flow": null,
      "grid_auto_rows": null,
      "grid_column": null,
      "grid_gap": null,
      "grid_row": null,
      "grid_template_areas": null,
      "grid_template_columns": null,
      "grid_template_rows": null,
      "height": null,
      "justify_content": null,
      "justify_items": null,
      "left": null,
      "margin": null,
      "max_height": null,
      "max_width": null,
      "min_height": null,
      "min_width": null,
      "object_fit": null,
      "object_position": null,
      "order": null,
      "overflow": null,
      "overflow_x": null,
      "overflow_y": null,
      "padding": null,
      "right": null,
      "top": null,
      "visibility": null,
      "width": null
     }
    },
    "c09523818cb64d4894a9c416ab11161d": {
     "model_module": "@jupyter-widgets/controls",
     "model_name": "FloatProgressModel",
     "state": {
      "_dom_classes": [],
      "_model_module": "@jupyter-widgets/controls",
      "_model_module_version": "1.5.0",
      "_model_name": "FloatProgressModel",
      "_view_count": null,
      "_view_module": "@jupyter-widgets/controls",
      "_view_module_version": "1.5.0",
      "_view_name": "ProgressView",
      "bar_style": "success",
      "description": "",
      "description_tooltip": null,
      "layout": "IPY_MODEL_5f59fe3d5e43491aa60b8f0883f78ead",
      "max": 1,
      "min": 0,
      "orientation": "horizontal",
      "style": "IPY_MODEL_3951339372ea4b68bb747bf2659540be",
      "value": 1
     }
    },
    "cd04f1e6e5a14014bffa2273b5cc0ad8": {
     "model_module": "@jupyter-widgets/base",
     "model_name": "LayoutModel",
     "state": {
      "_model_module": "@jupyter-widgets/base",
      "_model_module_version": "1.2.0",
      "_model_name": "LayoutModel",
      "_view_count": null,
      "_view_module": "@jupyter-widgets/base",
      "_view_module_version": "1.2.0",
      "_view_name": "LayoutView",
      "align_content": null,
      "align_items": null,
      "align_self": null,
      "border": null,
      "bottom": null,
      "display": null,
      "flex": null,
      "flex_flow": null,
      "grid_area": null,
      "grid_auto_columns": null,
      "grid_auto_flow": null,
      "grid_auto_rows": null,
      "grid_column": null,
      "grid_gap": null,
      "grid_row": null,
      "grid_template_areas": null,
      "grid_template_columns": null,
      "grid_template_rows": null,
      "height": null,
      "justify_content": null,
      "justify_items": null,
      "left": null,
      "margin": null,
      "max_height": null,
      "max_width": null,
      "min_height": null,
      "min_width": null,
      "object_fit": null,
      "object_position": null,
      "order": null,
      "overflow": null,
      "overflow_x": null,
      "overflow_y": null,
      "padding": null,
      "right": null,
      "top": null,
      "visibility": null,
      "width": null
     }
    },
    "cec413a8bb9349f0a3718d323a853493": {
     "model_module": "@jupyter-widgets/controls",
     "model_name": "ProgressStyleModel",
     "state": {
      "_model_module": "@jupyter-widgets/controls",
      "_model_module_version": "1.5.0",
      "_model_name": "ProgressStyleModel",
      "_view_count": null,
      "_view_module": "@jupyter-widgets/base",
      "_view_module_version": "1.2.0",
      "_view_name": "StyleView",
      "bar_color": null,
      "description_width": "initial"
     }
    },
    "ced55e507649402ab0e8a2961f4465b9": {
     "model_module": "@jupyter-widgets/controls",
     "model_name": "HBoxModel",
     "state": {
      "_dom_classes": [],
      "_model_module": "@jupyter-widgets/controls",
      "_model_module_version": "1.5.0",
      "_model_name": "HBoxModel",
      "_view_count": null,
      "_view_module": "@jupyter-widgets/controls",
      "_view_module_version": "1.5.0",
      "_view_name": "HBoxView",
      "box_style": "",
      "children": [
       "IPY_MODEL_c09523818cb64d4894a9c416ab11161d",
       "IPY_MODEL_f0e77680abba4043bf691a79d5582bfa"
      ],
      "layout": "IPY_MODEL_1c685203d0154d2b9acc0bef022fd8b6"
     }
    },
    "d4156624016742b6a0a9acbce48f6da9": {
     "model_module": "@jupyter-widgets/controls",
     "model_name": "FloatProgressModel",
     "state": {
      "_dom_classes": [],
      "_model_module": "@jupyter-widgets/controls",
      "_model_module_version": "1.5.0",
      "_model_name": "FloatProgressModel",
      "_view_count": null,
      "_view_module": "@jupyter-widgets/controls",
      "_view_module_version": "1.5.0",
      "_view_name": "ProgressView",
      "bar_style": "success",
      "description": "",
      "description_tooltip": null,
      "layout": "IPY_MODEL_14fb7fe4b44749d8a219497c517ddd7e",
      "max": 1,
      "min": 0,
      "orientation": "horizontal",
      "style": "IPY_MODEL_cec413a8bb9349f0a3718d323a853493",
      "value": 1
     }
    },
    "f0e77680abba4043bf691a79d5582bfa": {
     "model_module": "@jupyter-widgets/controls",
     "model_name": "HTMLModel",
     "state": {
      "_dom_classes": [],
      "_model_module": "@jupyter-widgets/controls",
      "_model_module_version": "1.5.0",
      "_model_name": "HTMLModel",
      "_view_count": null,
      "_view_module": "@jupyter-widgets/controls",
      "_view_module_version": "1.5.0",
      "_view_name": "HTMLView",
      "description": "",
      "description_tooltip": null,
      "layout": "IPY_MODEL_878fbd56d737468d965265e6e0188670",
      "placeholder": "​",
      "style": "IPY_MODEL_031f2efb3aaa428ba79695c516f1bb8e",
      "value": " 8192/? [00:00&lt;00:00, 19522.72it/s]"
     }
    },
    "f5f14097b0ad4e028c8b3cb9b822c31e": {
     "model_module": "@jupyter-widgets/controls",
     "model_name": "ProgressStyleModel",
     "state": {
      "_model_module": "@jupyter-widgets/controls",
      "_model_module_version": "1.5.0",
      "_model_name": "ProgressStyleModel",
      "_view_count": null,
      "_view_module": "@jupyter-widgets/base",
      "_view_module_version": "1.2.0",
      "_view_name": "StyleView",
      "bar_color": null,
      "description_width": "initial"
     }
    },
    "f92896884f7c4351958317821b0fd291": {
     "model_module": "@jupyter-widgets/controls",
     "model_name": "HTMLModel",
     "state": {
      "_dom_classes": [],
      "_model_module": "@jupyter-widgets/controls",
      "_model_module_version": "1.5.0",
      "_model_name": "HTMLModel",
      "_view_count": null,
      "_view_module": "@jupyter-widgets/controls",
      "_view_module_version": "1.5.0",
      "_view_name": "HTMLView",
      "description": "",
      "description_tooltip": null,
      "layout": "IPY_MODEL_333f222b8b7449db985949724a8b7d57",
      "placeholder": "​",
      "style": "IPY_MODEL_6f8c614ddd4142fbbfd7da8d1763e586",
      "value": " 32768/? [00:01&lt;00:00, 19331.90it/s]"
     }
    }
   }
  }
 },
 "nbformat": 4,
 "nbformat_minor": 1
}
