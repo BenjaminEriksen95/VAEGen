{
  "nbformat": 4,
  "nbformat_minor": 0,
  "metadata": {
    "kernelspec": {
      "display_name": "Python 3",
      "language": "python",
      "name": "python3"
    },
    "language_info": {
      "codemirror_mode": {
        "name": "ipython",
        "version": 3
      },
      "file_extension": ".py",
      "mimetype": "text/x-python",
      "name": "python",
      "nbconvert_exporter": "python",
      "pygments_lexer": "ipython3",
      "version": "3.8.5"
    },
    "colab": {
      "name": "proj-CVAE_tobias.ipynb",
      "provenance": [],
      "collapsed_sections": []
    },
    "accelerator": "GPU"
  },
  "cells": [
    {
      "cell_type": "markdown",
      "metadata": {
        "id": "RYHPzJ4smAD1"
      },
      "source": [
        "# Conditional VAE\n"
      ]
    },
    {
      "cell_type": "markdown",
      "metadata": {
        "id": "gqkMmWmbmAD2"
      },
      "source": [
        "## Library imports\n",
        "The following code contains the required libraries for the notebook."
      ]
    },
    {
      "cell_type": "code",
      "metadata": {
        "id": "2UlGYkx9mAD2",
        "outputId": "588b8e42-ff07-4807-89b7-b8aafe0e67c6",
        "colab": {
          "base_uri": "https://localhost:8080/"
        }
      },
      "source": [
        "import numpy as np\n",
        "import matplotlib.pyplot as plt\n",
        "\n",
        "import torch\n",
        "import torch.nn as nn\n",
        "import torch.nn.functional as F\n",
        "import torch.optim as optim\n",
        "\n",
        "from torch.utils.data import DataLoader\n",
        "from torch.utils.data.sampler import SubsetRandomSampler\n",
        "\n",
        "import torchvision\n",
        "from torchvision import transforms\n",
        "from torchvision.utils import make_grid\n",
        "\n",
        "#import ...\n",
        "device = torch.device(\"cuda:0\" if torch.cuda.is_available() else \"cpu\")\n",
        "print(f\">> Using device: {device}\")"
      ],
      "execution_count": 32,
      "outputs": [
        {
          "output_type": "stream",
          "text": [
            ">> Using device: cuda:0\n"
          ],
          "name": "stdout"
        }
      ]
    },
    {
      "cell_type": "markdown",
      "metadata": {
        "id": "ECNul7nYmAEC"
      },
      "source": [
        "## Fashion MNIST"
      ]
    },
    {
      "cell_type": "code",
      "metadata": {
        "id": "QlD1JE7EmAED",
        "outputId": "b4ead883-d0f8-4318-bdad-48c33a73bd86",
        "colab": {
          "base_uri": "https://localhost:8080/"
        }
      },
      "source": [
        "from torch.utils.data import DataLoader\n",
        "from torch.utils.data.sampler import SubsetRandomSampler\n",
        "from torchvision.datasets import FashionMNIST\n",
        "from torchvision.transforms import ToTensor\n",
        "from functools import reduce\n",
        "\n",
        "\n",
        "classes = [0, 1, 2]\n",
        "batch_size = 64\n",
        "eval_batch_size = 64\n",
        "\n",
        "# transforms into tensor, can be extend\n",
        "transformations = transforms.Compose([transforms.ToTensor()]) \n",
        "\n",
        "\n",
        "# Define the train and test sets\n",
        "dset_train = FashionMNIST(\"./\", train=True,  transform=transformations, download=True)\n",
        "dset_test  = FashionMNIST(\"./\", train=False, transform=transformations)\n",
        "\n",
        "\n",
        "def stratified_sampler(labels):\n",
        "    \"\"\"Sampler that only picks datapoints corresponding to the specified classes\"\"\"\n",
        "    (indices,) = np.where(reduce(lambda x, y: x | y, [labels.numpy() == i for i in classes]))\n",
        "    indices = torch.from_numpy(indices)\n",
        "    return SubsetRandomSampler(indices)\n",
        "\n",
        "# load the datasets into DataLoader classes, sampler removed!\n",
        "# The loaders perform the actual work\n",
        "train_loader = DataLoader(dset_train, batch_size=batch_size,\n",
        "                          sampler=stratified_sampler(dset_train.train_labels))\n",
        "test_loader  = DataLoader(dset_test, batch_size=eval_batch_size, \n",
        "                          sampler=stratified_sampler(dset_test.test_labels))\n"
      ],
      "execution_count": 33,
      "outputs": [
        {
          "output_type": "stream",
          "text": [
            "/usr/local/lib/python3.6/dist-packages/torchvision/datasets/mnist.py:48: UserWarning: train_labels has been renamed targets\n",
            "  warnings.warn(\"train_labels has been renamed targets\")\n",
            "/usr/local/lib/python3.6/dist-packages/torchvision/datasets/mnist.py:53: UserWarning: test_labels has been renamed targets\n",
            "  warnings.warn(\"test_labels has been renamed targets\")\n"
          ],
          "name": "stderr"
        }
      ]
    },
    {
      "cell_type": "code",
      "metadata": {
        "id": "eHy-024QmAEF",
        "outputId": "293100ea-5b6a-4558-b670-e2503e98a981",
        "colab": {
          "base_uri": "https://localhost:8080/",
          "height": 284
        }
      },
      "source": [
        "# https://nextjournal.com/gkoehler/pytorch-mnist\n",
        "# Print from testset\n",
        "examples = enumerate(test_loader)\n",
        "batch_idx, (example_data, example_targets) = next(examples)\n",
        "\n",
        "\n",
        "fig = plt.figure()\n",
        "for i in range(6):\n",
        "  plt.subplot(2,3,i+1)\n",
        "  plt.tight_layout()\n",
        "  plt.imshow(example_data[i][0], cmap='gray', interpolation='none')\n",
        "  plt.title(\"Ground Truth: {}\".format(example_targets[i]))\n",
        "  plt.xticks([])\n",
        "  plt.yticks([])\n",
        "\n",
        "plt.show()"
      ],
      "execution_count": 34,
      "outputs": [
        {
          "output_type": "display_data",
          "data": {
            "image/png": "[encoded data removed]",
            "text/plain": [
              "<Figure size 432x288 with 6 Axes>"
            ]
          },
          "metadata": {
            "tags": []
          }
        }
      ]
    },
    {
      "cell_type": "markdown",
      "metadata": {
        "id": "AIYYgKYKmAEI"
      },
      "source": [
        "## The Model \n",
        "\n",
        "inspired by: https://www.kaggle.com/ethanwharris/fashion-mnist-vae-with-pytorch-and-torchbearer"
      ]
    },
    {
      "cell_type": "code",
      "metadata": {
        "id": "y4hHCrowmAEI"
      },
      "source": [
        "#https://debuggercafe.com/getting-started-with-variational-autoencoder-using-pytorch/\n",
        "def final_loss(bce_loss, mu, logvar):\n",
        "    BCE = bce_loss\n",
        "    KLD = -.5 * torch.sum(1 + logvar - mu.pow(2) - logvar.exp())\n",
        "    \n",
        "    return BCE + KLD"
      ],
      "execution_count": 35,
      "outputs": []
    },
    {
      "cell_type": "code",
      "metadata": {
        "id": "kcIX72N5mAEL"
      },
      "source": [
        "#Settings\n",
        "latent_size = 15\n",
        "learning_rate = 1e-3\n",
        "num_epochs = 5"
      ],
      "execution_count": 36,
      "outputs": []
    },
    {
      "cell_type": "code",
      "metadata": {
        "id": "l32VnhoJmAEN",
        "outputId": "68f66c98-03b6-4b26-f925-36d1b150fdc3",
        "colab": {
          "base_uri": "https://localhost:8080/"
        }
      },
      "source": [
        "conv1 = (1, 32, 4, 1, 2)\n",
        "conv2 = (conv1[1], 32, 4, 2, 1)\n",
        "conv3 = (conv2[1], 64, 4, 2, 1)\n",
        "\n",
        "\n",
        "##Look at 7.2 to see how to make encoder and decoder take non-fixed size image. \n",
        "\n",
        "class VariationalAutoEncoder(nn.Module):\n",
        "    def __init__(self, latent_size):\n",
        "        super(VariationalAutoEncoder,self).__init__()\n",
        "        self.latent_size = latent_size\n",
        "        \n",
        "        self.encoder = nn.Sequential(\n",
        "            nn.Conv2d(in_channels=conv1[0],out_channels=conv1[1],kernel_size=conv1[2],stride=conv1[3],padding=conv1[4]),\n",
        "            nn.LeakyReLU(),\n",
        "            nn.Conv2d(in_channels=conv2[0],out_channels=conv2[1],kernel_size=conv2[2],stride=conv2[3],padding=conv2[4]),\n",
        "            nn.LeakyReLU(),\n",
        "            nn.Conv2d(in_channels=conv3[0],out_channels=conv3[1],kernel_size=conv3[2],stride=conv3[3],padding=conv3[4]),\n",
        "        )\n",
        "        \n",
        "        self.decoder = nn.Sequential(\n",
        "            nn.ConvTranspose2d(in_channels=conv3[1],out_channels=conv3[0],kernel_size=conv3[2],stride=conv3[3],padding=conv3[4]),\n",
        "            nn.LeakyReLU(),\n",
        "            nn.ConvTranspose2d(in_channels=conv2[1],out_channels=conv2[0],kernel_size=conv2[2],stride=conv2[3],padding=conv2[4],output_padding=1),\n",
        "            nn.LeakyReLU(),\n",
        "            nn.ConvTranspose2d(in_channels=conv1[1],out_channels=conv1[0],kernel_size=conv1[2],stride=conv1[3],padding=conv1[4]),\n",
        "            )\n",
        "        \n",
        "        self.mu = nn.Linear((64 * 7 * 7)+1, latent_size) # +1 for class label\n",
        "        self.logvar = nn.Linear((64 * 7 * 7)+1, latent_size) # +1 for class label\n",
        "        self.upsample = nn.Linear(latent_size+1, 64 * 7 * 7)\n",
        "        \n",
        "        \n",
        "    def reparameterize(self, mu, logvar):\n",
        "        std = torch.exp(0.5*logvar)\n",
        "        eps = torch.randn_like(std)\n",
        "        return eps.mul(std).add_(mu)\n",
        "\n",
        "\n",
        "    def generate(self, t):\n",
        "      z = torch.randn(self.latent_size).to(device)\n",
        "      z = torch.cat((z, t), dim=-1)\n",
        "      z = self.upsample(z)\n",
        "      z = z.view(-1,64,7,7)\n",
        "      z = self.decoder(z)\n",
        "      return z\n",
        "\n",
        "    # https://debuggercafe.com/getting-started-with-variational-autoencoder-using-pytorch/    \n",
        "    def forward(self, x, t):\n",
        "        # encoding\n",
        "        x = self.encoder(x)\n",
        "        x = x.view(-1,64*7*7) # flatten\n",
        "        t = t.view(-1, 1)\n",
        "        x = torch.cat((x,t), dim=-1)\n",
        "        \n",
        "        mu = self.mu(x)\n",
        "        log_var = self.logvar(x)\n",
        "        \n",
        "        # get the latent vector through reparameterization\n",
        "        z = self.reparameterize(mu, log_var)\n",
        "        # decoding\n",
        "        z = torch.cat((z, t), dim=-1)\n",
        "        z = self.upsample(z)\n",
        "\n",
        "        z = z.view(-1,64,7,7)\n",
        "        \n",
        "        x = self.decoder(z)\n",
        "        reconstruction = torch.sigmoid(x)\n",
        "        \n",
        "        return reconstruction, mu, log_var\n",
        "\n",
        "\n",
        "vae = VariationalAutoEncoder(latent_size)\n",
        "print(vae)\n",
        "\n",
        "# Test implementation\n",
        "vae.to(device)\n",
        "x, y = example_data[:2].to(device), example_targets[:2].to(device)\n",
        "vae(x, y)"
      ],
      "execution_count": 104,
      "outputs": [
        {
          "output_type": "stream",
          "text": [
            "VariationalAutoEncoder(\n",
            "  (encoder): Sequential(\n",
            "    (0): Conv2d(1, 32, kernel_size=(4, 4), stride=(1, 1), padding=(2, 2))\n",
            "    (1): LeakyReLU(negative_slope=0.01)\n",
            "    (2): Conv2d(32, 32, kernel_size=(4, 4), stride=(2, 2), padding=(1, 1))\n",
            "    (3): LeakyReLU(negative_slope=0.01)\n",
            "    (4): Conv2d(32, 64, kernel_size=(4, 4), stride=(2, 2), padding=(1, 1))\n",
            "  )\n",
            "  (decoder): Sequential(\n",
            "    (0): ConvTranspose2d(64, 32, kernel_size=(4, 4), stride=(2, 2), padding=(1, 1))\n",
            "    (1): LeakyReLU(negative_slope=0.01)\n",
            "    (2): ConvTranspose2d(32, 32, kernel_size=(4, 4), stride=(2, 2), padding=(1, 1), output_padding=(1, 1))\n",
            "    (3): LeakyReLU(negative_slope=0.01)\n",
            "    (4): ConvTranspose2d(32, 1, kernel_size=(4, 4), stride=(1, 1), padding=(2, 2))\n",
            "  )\n",
            "  (mu): Linear(in_features=3137, out_features=15, bias=True)\n",
            "  (logvar): Linear(in_features=3137, out_features=15, bias=True)\n",
            "  (upsample): Linear(in_features=16, out_features=3136, bias=True)\n",
            ")\n"
          ],
          "name": "stdout"
        },
        {
          "output_type": "execute_result",
          "data": {
            "text/plain": [
              "(tensor([[[[0.4667, 0.4445, 0.4581,  ..., 0.4634, 0.4517, 0.4579],\n",
              "           [0.4686, 0.4794, 0.4454,  ..., 0.4530, 0.4662, 0.4560],\n",
              "           [0.4880, 0.4335, 0.4319,  ..., 0.4714, 0.4409, 0.4570],\n",
              "           ...,\n",
              "           [0.4689, 0.4438, 0.4697,  ..., 0.4402, 0.4683, 0.4443],\n",
              "           [0.4642, 0.4630, 0.4538,  ..., 0.4634, 0.4651, 0.4635],\n",
              "           [0.4791, 0.4572, 0.4518,  ..., 0.4402, 0.4567, 0.4539]]],\n",
              " \n",
              " \n",
              "         [[[0.4700, 0.4387, 0.4464,  ..., 0.4676, 0.4529, 0.4623],\n",
              "           [0.4831, 0.4717, 0.4683,  ..., 0.4553, 0.4583, 0.4663],\n",
              "           [0.4568, 0.4574, 0.4637,  ..., 0.4378, 0.4479, 0.4567],\n",
              "           ...,\n",
              "           [0.4913, 0.4589, 0.4500,  ..., 0.4412, 0.4657, 0.4464],\n",
              "           [0.4853, 0.4611, 0.4568,  ..., 0.4814, 0.4677, 0.4592],\n",
              "           [0.4775, 0.4652, 0.4614,  ..., 0.4439, 0.4531, 0.4548]]]],\n",
              "        device='cuda:0', grad_fn=<SigmoidBackward>),\n",
              " tensor([[-0.0409,  0.0114, -0.0025,  0.0214,  0.0202,  0.0414,  0.0092,  0.0127,\n",
              "           0.0102, -0.0232, -0.0091, -0.0132, -0.0048,  0.0432,  0.0091],\n",
              "         [-0.0572, -0.0046,  0.0188,  0.0309, -0.0151,  0.0462,  0.0094,  0.0057,\n",
              "          -0.0080, -0.0162, -0.0354,  0.0014, -0.0166,  0.0387,  0.0034]],\n",
              "        device='cuda:0', grad_fn=<AddmmBackward>),\n",
              " tensor([[-0.0215, -0.0397, -0.0417,  0.0158,  0.0143, -0.0165, -0.0356,  0.0248,\n",
              "          -0.0136,  0.0436, -0.0363,  0.0393,  0.0434,  0.0003,  0.0067],\n",
              "         [-0.0146, -0.0205, -0.0377,  0.0257,  0.0069, -0.0227, -0.0233, -0.0018,\n",
              "          -0.0295,  0.0323, -0.0242,  0.0480,  0.0289,  0.0372, -0.0179]],\n",
              "        device='cuda:0', grad_fn=<AddmmBackward>))"
            ]
          },
          "metadata": {
            "tags": []
          },
          "execution_count": 104
        }
      ]
    },
    {
      "cell_type": "markdown",
      "metadata": {
        "id": "u9VUKdRdmAEQ"
      },
      "source": [
        "### KL"
      ]
    },
    {
      "cell_type": "markdown",
      "metadata": {
        "id": "wmA_yhpnmAEQ"
      },
      "source": [
        "### Visualisation"
      ]
    },
    {
      "cell_type": "markdown",
      "metadata": {
        "id": "8D2400GAmAER"
      },
      "source": [
        "### Training"
      ]
    },
    {
      "cell_type": "code",
      "metadata": {
        "id": "2TzwFsW2mAER"
      },
      "source": [
        "vae = VariationalAutoEncoder(latent_size=latent_size)\n",
        "optimizer = optim.Adam(vae.parameters(),lr=learning_rate)\n",
        "criterion = nn.BCELoss(reduction='sum')\n"
      ],
      "execution_count": 105,
      "outputs": []
    },
    {
      "cell_type": "code",
      "metadata": {
        "id": "2nsmyeIcmAET"
      },
      "source": [
        "def fit_vae(vae, train_loader):\n",
        "    vae.train()\n",
        "    running_loss = 0.0\n",
        "    # Run each batch in training dataset\n",
        "    for x, y in train_loader:\n",
        "        # x.view?\n",
        "        x = x.to(device)\n",
        "        y = y.to(device)\n",
        "        optimizer.zero_grad()\n",
        "        reconstruction, mu, logvar = vae(x, y)\n",
        "        bce_loss = criterion(reconstruction, x)\n",
        "        loss = final_loss(bce_loss, mu, logvar)\n",
        "        running_loss += loss.item()\n",
        "        loss.backward()\n",
        "        optimizer.step()\n",
        "        \n",
        "    train_loss = running_loss/len(train_loader.dataset)\n",
        "    return train_loss\n",
        "\n",
        "def test_vae(vae, test_loader):\n",
        "    vae.eval()\n",
        "    running_loss = 0.0\n",
        "    with torch.no_grad():\n",
        "        for x, y in test_loader:\n",
        "            # x.view?\n",
        "            x = x.to(device)\n",
        "            y = y.to(device)\n",
        "            reconstruction, mu, logvar = vae(x, y)\n",
        "            bce_loss = criterion(reconstruction, x)\n",
        "            loss = final_loss(bce_loss, mu, logvar)\n",
        "            running_loss += loss.item()\n",
        "            \n",
        "    val_loss = running_loss/len(test_loader.dataset)\n",
        "    return val_loss\n",
        "            "
      ],
      "execution_count": 106,
      "outputs": []
    },
    {
      "cell_type": "code",
      "metadata": {
        "id": "ItFXJeM9mAEV",
        "outputId": "1c581500-7a56-490a-c7a4-9f8544243f1b",
        "colab": {
          "base_uri": "https://localhost:8080/"
        }
      },
      "source": [
        "device = torch.device(\"cuda:0\" if torch.cuda.is_available() else \"cpu\")\n",
        "print(f\">> Using device: {device}\")\n",
        "vae = vae.to(device)\n",
        "\n",
        "##\n",
        "train_loss = []\n",
        "test_loss = []\n",
        "num_epochs = 30\n",
        "\n",
        "for current_epoch in range(num_epochs):\n",
        "    print(f\"Epoch {current_epoch+1} of {num_epochs}\")\n",
        "    train_epoch_loss = fit_vae(vae, train_loader)\n",
        "    test_epoch_loss = test_vae(vae, test_loader)\n",
        "    train_loss.append(train_epoch_loss)\n",
        "    test_loss.append(test_epoch_loss)\n",
        "    print(f\"Train Loss: {train_epoch_loss:.4f}\")\n",
        "    print(f\"Val Loss: {test_epoch_loss:.4f}\")\n",
        "    "
      ],
      "execution_count": 127,
      "outputs": [
        {
          "output_type": "stream",
          "text": [
            ">> Using device: cuda:0\n",
            "Epoch 1 of 30\n",
            "Train Loss: 73.7556\n",
            "Val Loss: 74.7464\n",
            "Epoch 2 of 30\n",
            "Train Loss: 73.5794\n",
            "Val Loss: 74.5093\n",
            "Epoch 3 of 30\n",
            "Train Loss: 73.4230\n",
            "Val Loss: 74.4837\n",
            "Epoch 4 of 30\n",
            "Train Loss: 73.3718\n",
            "Val Loss: 74.4783\n",
            "Epoch 5 of 30\n",
            "Train Loss: 73.2382\n",
            "Val Loss: 74.6078\n",
            "Epoch 6 of 30\n",
            "Train Loss: 73.1791\n",
            "Val Loss: 74.1511\n",
            "Epoch 7 of 30\n",
            "Train Loss: 73.0883\n",
            "Val Loss: 74.1583\n",
            "Epoch 8 of 30\n",
            "Train Loss: 73.0158\n",
            "Val Loss: 74.1282\n",
            "Epoch 9 of 30\n",
            "Train Loss: 72.9430\n",
            "Val Loss: 73.9721\n",
            "Epoch 10 of 30\n",
            "Train Loss: 72.9282\n",
            "Val Loss: 73.9880\n",
            "Epoch 11 of 30\n",
            "Train Loss: 72.8769\n",
            "Val Loss: 74.1768\n",
            "Epoch 12 of 30\n",
            "Train Loss: 72.8127\n",
            "Val Loss: 73.8836\n",
            "Epoch 13 of 30\n",
            "Train Loss: 72.7715\n",
            "Val Loss: 73.7985\n",
            "Epoch 14 of 30\n",
            "Train Loss: 72.7267\n",
            "Val Loss: 73.8021\n",
            "Epoch 15 of 30\n",
            "Train Loss: 72.6905\n",
            "Val Loss: 73.9002\n",
            "Epoch 16 of 30\n",
            "Train Loss: 72.6537\n",
            "Val Loss: 73.9992\n",
            "Epoch 17 of 30\n",
            "Train Loss: 72.6516\n",
            "Val Loss: 73.7563\n",
            "Epoch 18 of 30\n",
            "Train Loss: 72.6126\n",
            "Val Loss: 73.7384\n",
            "Epoch 19 of 30\n",
            "Train Loss: 72.5831\n",
            "Val Loss: 73.6348\n",
            "Epoch 20 of 30\n",
            "Train Loss: 72.5433\n",
            "Val Loss: 73.8357\n",
            "Epoch 21 of 30\n",
            "Train Loss: 72.5247\n",
            "Val Loss: 73.7213\n",
            "Epoch 22 of 30\n",
            "Train Loss: 72.5047\n",
            "Val Loss: 73.6491\n",
            "Epoch 23 of 30\n",
            "Train Loss: 72.5155\n",
            "Val Loss: 73.5573\n",
            "Epoch 24 of 30\n",
            "Train Loss: 72.4441\n",
            "Val Loss: 73.6031\n",
            "Epoch 25 of 30\n",
            "Train Loss: 72.4365\n",
            "Val Loss: 73.6833\n",
            "Epoch 26 of 30\n",
            "Train Loss: 72.4155\n",
            "Val Loss: 73.6036\n",
            "Epoch 27 of 30\n",
            "Train Loss: 72.4158\n",
            "Val Loss: 73.5497\n",
            "Epoch 28 of 30\n",
            "Train Loss: 72.3763\n",
            "Val Loss: 73.5755\n",
            "Epoch 29 of 30\n",
            "Train Loss: 72.3603\n",
            "Val Loss: 73.5079\n",
            "Epoch 30 of 30\n",
            "Train Loss: 72.3438\n",
            "Val Loss: 73.4932\n"
          ],
          "name": "stdout"
        }
      ]
    },
    {
      "cell_type": "code",
      "metadata": {
        "id": "7k415MXVmAEY",
        "outputId": "54627b02-7802-4515-d1fd-b574e5bedd68",
        "colab": {
          "base_uri": "https://localhost:8080/",
          "height": 278
        }
      },
      "source": [
        "# examples = enumerate(test_loader)\n",
        "batch_idx, (example_data, example_targets) = next(examples)\n",
        "\n",
        "with torch.no_grad():\n",
        "  output,_,_ = vae(example_data.to(device), example_targets.to(device))\n",
        "\n",
        "fig = plt.figure()\n",
        "for i in range(6):\n",
        "  plt.subplot(2,3,i+1)\n",
        "  plt.tight_layout()\n",
        "  plt.imshow(output.cpu()[i][0], cmap='gray', interpolation='none')\n",
        "  plt.xticks([])\n",
        "  plt.yticks([])\n",
        "fig.show()"
      ],
      "execution_count": 128,
      "outputs": [
        {
          "output_type": "display_data",
          "data": {
            "image/png": "[encoded data removed]",
            "text/plain": [
              "<Figure size 432x288 with 6 Axes>"
            ]
          },
          "metadata": {
            "tags": []
          }
        }
      ]
    },
    {
      "cell_type": "code",
      "metadata": {
        "id": "iCrJKH5HmAEa",
        "outputId": "8290b32b-36cb-4a84-c8a6-4493fa076599",
        "colab": {
          "base_uri": "https://localhost:8080/",
          "height": 278
        }
      },
      "source": [
        "# examples = enumerate(test_loader)\n",
        "batch_idx, (example_data, example_targets) = next(examples)\n",
        "\n",
        "with torch.no_grad():\n",
        "  output,_,_ = vae(example_data.to(device), example_targets.to(device))\n",
        "\n",
        "fig = plt.figure()\n",
        "for i in range(6):\n",
        "  plt.subplot(2,3,i+1)\n",
        "  plt.tight_layout()\n",
        "  plt.imshow(output.cpu()[i][0], cmap='gray', interpolation='none')\n",
        "  plt.xticks([])\n",
        "  plt.yticks([])\n",
        "fig.show()"
      ],
      "execution_count": 129,
      "outputs": [
        {
          "output_type": "display_data",
          "data": {
            "image/png": "[encoded data removed]",
            "text/plain": [
              "<Figure size 432x288 with 6 Axes>"
            ]
          },
          "metadata": {
            "tags": []
          }
        }
      ]
    },
    {
      "cell_type": "code",
      "metadata": {
        "id": "Hi4lNbnzM8Tf",
        "outputId": "3fcc109b-66e7-4f98-fa8e-4ee60e4e2ac5",
        "colab": {
          "base_uri": "https://localhost:8080/",
          "height": 1000
        }
      },
      "source": [
        "for i in range(10):\n",
        "  with torch.no_grad():\n",
        "    target = torch.tensor([2]).to(device) # 0 for t-shirt, 1 for trouser, 2 for pullover\n",
        "    out = vae.generate(target)\n",
        "\n",
        "  fig = plt.figure()\n",
        "  plt.imshow(out.cpu()[0][0], cmap='gray', interpolation='none')\n",
        "  plt.xticks([])\n",
        "  plt.yticks([])\n",
        "\n",
        "  fig.show()"
      ],
      "execution_count": 131,
      "outputs": [
        {
          "output_type": "stream",
          "text": [
            "torch.Size([15])\n",
            "torch.Size([1])\n",
            "torch.Size([15])\n",
            "torch.Size([1])\n",
            "torch.Size([15])\n",
            "torch.Size([1])\n",
            "torch.Size([15])\n",
            "torch.Size([1])\n",
            "torch.Size([15])\n",
            "torch.Size([1])\n",
            "torch.Size([15])\n",
            "torch.Size([1])\n",
            "torch.Size([15])\n",
            "torch.Size([1])\n",
            "torch.Size([15])\n",
            "torch.Size([1])\n",
            "torch.Size([15])\n",
            "torch.Size([1])\n",
            "torch.Size([15])\n",
            "torch.Size([1])\n"
          ],
          "name": "stdout"
        },
        {
          "output_type": "display_data",
          "data": {
            "image/png": "[encoded data removed]",
            "text/plain": [
              "<Figure size 432x288 with 1 Axes>"
            ]
          },
          "metadata": {
            "tags": []
          }
        },
        {
          "output_type": "display_data",
          "data": {
            "image/png": "[encoded data removed]",
            "text/plain": [
              "<Figure size 432x288 with 1 Axes>"
            ]
          },
          "metadata": {
            "tags": []
          }
        },
        {
          "output_type": "display_data",
          "data": {
            "image/png": "[encoded data removed]",
            "text/plain": [
              "<Figure size 432x288 with 1 Axes>"
            ]
          },
          "metadata": {
            "tags": []
          }
        },
        {
          "output_type": "display_data",
          "data": {
            "image/png": "[encoded data removed]",
            "text/plain": [
              "<Figure size 432x288 with 1 Axes>"
            ]
          },
          "metadata": {
            "tags": []
          }
        },
        {
          "output_type": "display_data",
          "data": {
            "image/png": "[encoded data removed]",
            "text/plain": [
              "<Figure size 432x288 with 1 Axes>"
            ]
          },
          "metadata": {
            "tags": []
          }
        },
        {
          "output_type": "display_data",
          "data": {
            "image/png": "[encoded data removed]",
            "text/plain": [
              "<Figure size 432x288 with 1 Axes>"
            ]
          },
          "metadata": {
            "tags": []
          }
        },
        {
          "output_type": "display_data",
          "data": {
            "image/png": "[encoded data removed]",
            "text/plain": [
              "<Figure size 432x288 with 1 Axes>"
            ]
          },
          "metadata": {
            "tags": []
          }
        },
        {
          "output_type": "display_data",
          "data": {
            "image/png": "[encoded data removed]",
            "text/plain": [
              "<Figure size 432x288 with 1 Axes>"
            ]
          },
          "metadata": {
            "tags": []
          }
        },
        {
          "output_type": "display_data",
          "data": {
            "image/png": "[encoded data removed]",
            "text/plain": [
              "<Figure size 432x288 with 1 Axes>"
            ]
          },
          "metadata": {
            "tags": []
          }
        },
        {
          "output_type": "display_data",
          "data": {
            "image/png": "[encoded data removed]",
            "text/plain": [
              "<Figure size 432x288 with 1 Axes>"
            ]
          },
          "metadata": {
            "tags": []
          }
        }
      ]
    },
    {
      "cell_type": "code",
      "metadata": {
        "id": "awfY_4dcYjpQ"
      },
      "source": [
        ""
      ],
      "execution_count": null,
      "outputs": []
    }
  ]
}