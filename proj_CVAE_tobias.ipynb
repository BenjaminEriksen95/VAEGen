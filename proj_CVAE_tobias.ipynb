{
  "nbformat": 4,
  "nbformat_minor": 0,
  "metadata": {
    "kernelspec": {
      "display_name": "Python 3",
      "language": "python",
      "name": "python3"
    },
    "language_info": {
      "codemirror_mode": {
        "name": "ipython",
        "version": 3
      },
      "file_extension": ".py",
      "mimetype": "text/x-python",
      "name": "python",
      "nbconvert_exporter": "python",
      "pygments_lexer": "ipython3",
      "version": "3.8.5"
    },
    "colab": {
      "name": "proj-CVAE_tobias.ipynb",
      "provenance": [],
      "collapsed_sections": []
    },
    "accelerator": "GPU"
  },
  "cells": [
    {
      "cell_type": "markdown",
      "metadata": {
        "id": "RYHPzJ4smAD1"
      },
      "source": [
        "# Conditional VAE\n"
      ]
    },
    {
      "cell_type": "markdown",
      "metadata": {
        "id": "gqkMmWmbmAD2"
      },
      "source": [
        "## Library imports\n",
        "The following code contains the required libraries for the notebook."
      ]
    },
    {
      "cell_type": "code",
      "metadata": {
        "id": "2UlGYkx9mAD2",
        "outputId": "588b8e42-ff07-4807-89b7-b8aafe0e67c6",
        "colab": {
          "base_uri": "https://localhost:8080/"
        }
      },
      "source": [
        "import numpy as np\n",
        "import matplotlib.pyplot as plt\n",
        "\n",
        "import torch\n",
        "import torch.nn as nn\n",
        "import torch.nn.functional as F\n",
        "import torch.optim as optim\n",
        "\n",
        "from torch.utils.data import DataLoader\n",
        "from torch.utils.data.sampler import SubsetRandomSampler\n",
        "\n",
        "import torchvision\n",
        "from torchvision import transforms\n",
        "from torchvision.utils import make_grid\n",
        "\n",
        "#import ...\n",
        "device = torch.device(\"cuda:0\" if torch.cuda.is_available() else \"cpu\")\n",
        "print(f\">> Using device: {device}\")"
      ],
      "execution_count": 32,
      "outputs": [
        {
          "output_type": "stream",
          "text": [
            ">> Using device: cuda:0\n"
          ],
          "name": "stdout"
        }
      ]
    },
    {
      "cell_type": "markdown",
      "metadata": {
        "id": "ECNul7nYmAEC"
      },
      "source": [
        "## Fashion MNIST"
      ]
    },
    {
      "cell_type": "code",
      "metadata": {
        "id": "QlD1JE7EmAED",
        "outputId": "01d6e508-b4ad-441d-9cf8-f3285858b9c8",
        "colab": {
          "base_uri": "https://localhost:8080/"
        }
      },
      "source": [
        "from torch.utils.data import DataLoader\n",
        "from torch.utils.data.sampler import SubsetRandomSampler\n",
        "from torchvision.datasets import FashionMNIST\n",
        "from torchvision.transforms import ToTensor\n",
        "from functools import reduce\n",
        "\n",
        "\n",
        "classes = [0, 1, 2]\n",
        "n_classes = len(classes)\n",
        "batch_size = 64\n",
        "eval_batch_size = 64\n",
        "\n",
        "# transforms into tensor, can be extend\n",
        "transformations = transforms.Compose([transforms.ToTensor()]) \n",
        "\n",
        "\n",
        "# Define the train and test sets\n",
        "dset_train = FashionMNIST(\"./\", train=True,  transform=transformations, download=True)\n",
        "dset_test  = FashionMNIST(\"./\", train=False, transform=transformations)\n",
        "\n",
        "\n",
        "def stratified_sampler(labels):\n",
        "    \"\"\"Sampler that only picks datapoints corresponding to the specified classes\"\"\"\n",
        "    (indices,) = np.where(reduce(lambda x, y: x | y, [labels.numpy() == i for i in classes]))\n",
        "    indices = torch.from_numpy(indices)\n",
        "    return SubsetRandomSampler(indices)\n",
        "\n",
        "# load the datasets into DataLoader classes, sampler removed!\n",
        "# The loaders perform the actual work\n",
        "train_loader = DataLoader(dset_train, batch_size=batch_size,\n",
        "                          sampler=stratified_sampler(dset_train.train_labels))\n",
        "test_loader  = DataLoader(dset_test, batch_size=eval_batch_size, \n",
        "                          sampler=stratified_sampler(dset_test.test_labels))\n"
      ],
      "execution_count": 132,
      "outputs": [
        {
          "output_type": "stream",
          "text": [
            "/usr/local/lib/python3.6/dist-packages/torchvision/datasets/mnist.py:48: UserWarning: train_labels has been renamed targets\n",
            "  warnings.warn(\"train_labels has been renamed targets\")\n",
            "/usr/local/lib/python3.6/dist-packages/torchvision/datasets/mnist.py:53: UserWarning: test_labels has been renamed targets\n",
            "  warnings.warn(\"test_labels has been renamed targets\")\n"
          ],
          "name": "stderr"
        }
      ]
    },
    {
      "cell_type": "code",
      "metadata": {
        "id": "eHy-024QmAEF",
        "outputId": "293100ea-5b6a-4558-b670-e2503e98a981",
        "colab": {
          "base_uri": "https://localhost:8080/",
          "height": 284
        }
      },
      "source": [
        "# https://nextjournal.com/gkoehler/pytorch-mnist\n",
        "# Print from testset\n",
        "examples = enumerate(test_loader)\n",
        "batch_idx, (example_data, example_targets) = next(examples)\n",
        "\n",
        "\n",
        "fig = plt.figure()\n",
        "for i in range(6):\n",
        "  plt.subplot(2,3,i+1)\n",
        "  plt.tight_layout()\n",
        "  plt.imshow(example_data[i][0], cmap='gray', interpolation='none')\n",
        "  plt.title(\"Ground Truth: {}\".format(example_targets[i]))\n",
        "  plt.xticks([])\n",
        "  plt.yticks([])\n",
        "\n",
        "plt.show()"
      ],
      "execution_count": 34,
      "outputs": [
        {
          "output_type": "display_data",
          "data": {
            "image/png": "[encoded data removed]",
            "text/plain": [
              "<Figure size 432x288 with 6 Axes>"
            ]
          },
          "metadata": {
            "tags": []
          }
        }
      ]
    },
    {
      "cell_type": "code",
      "metadata": {
        "id": "GXwgVUtYcn0b"
      },
      "source": [
        ""
      ],
      "execution_count": 138,
      "outputs": []
    },
    {
      "cell_type": "markdown",
      "metadata": {
        "id": "AIYYgKYKmAEI"
      },
      "source": [
        "## The Model \n",
        "\n",
        "inspired by: https://www.kaggle.com/ethanwharris/fashion-mnist-vae-with-pytorch-and-torchbearer"
      ]
    },
    {
      "cell_type": "code",
      "metadata": {
        "id": "y4hHCrowmAEI"
      },
      "source": [
        "#https://debuggercafe.com/getting-started-with-variational-autoencoder-using-pytorch/\n",
        "def final_loss(bce_loss, mu, logvar):\n",
        "    BCE = bce_loss\n",
        "    KLD = -.5 * torch.sum(1 + logvar - mu.pow(2) - logvar.exp())\n",
        "    \n",
        "    return BCE + KLD"
      ],
      "execution_count": 35,
      "outputs": []
    },
    {
      "cell_type": "code",
      "metadata": {
        "id": "kcIX72N5mAEL"
      },
      "source": [
        "#Settings\n",
        "latent_size = 15\n",
        "learning_rate = 1e-3\n",
        "num_epochs = 5"
      ],
      "execution_count": 36,
      "outputs": []
    },
    {
      "cell_type": "code",
      "metadata": {
        "id": "l32VnhoJmAEN",
        "outputId": "e26693af-2da4-49a9-bb63-b70fd9cd57e6",
        "colab": {
          "base_uri": "https://localhost:8080/"
        }
      },
      "source": [
        "conv1 = (1, 32, 4, 1, 2)\n",
        "conv2 = (conv1[1], 32, 4, 2, 1)\n",
        "conv3 = (conv2[1], 64, 4, 2, 1)\n",
        "\n",
        "\n",
        "##Look at 7.2 to see how to make encoder and decoder take non-fixed size image. \n",
        "\n",
        "class VariationalAutoEncoder(nn.Module):\n",
        "    def __init__(self, latent_size):\n",
        "        super(VariationalAutoEncoder,self).__init__()\n",
        "        self.latent_size = latent_size\n",
        "        \n",
        "        self.encoder = nn.Sequential(\n",
        "            nn.Conv2d(in_channels=conv1[0],out_channels=conv1[1],kernel_size=conv1[2],stride=conv1[3],padding=conv1[4]),\n",
        "            nn.LeakyReLU(),\n",
        "            nn.Conv2d(in_channels=conv2[0],out_channels=conv2[1],kernel_size=conv2[2],stride=conv2[3],padding=conv2[4]),\n",
        "            nn.LeakyReLU(),\n",
        "            nn.Conv2d(in_channels=conv3[0],out_channels=conv3[1],kernel_size=conv3[2],stride=conv3[3],padding=conv3[4]),\n",
        "        )\n",
        "        \n",
        "        self.decoder = nn.Sequential(\n",
        "            nn.ConvTranspose2d(in_channels=conv3[1],out_channels=conv3[0],kernel_size=conv3[2],stride=conv3[3],padding=conv3[4]),\n",
        "            nn.LeakyReLU(),\n",
        "            nn.ConvTranspose2d(in_channels=conv2[1],out_channels=conv2[0],kernel_size=conv2[2],stride=conv2[3],padding=conv2[4],output_padding=1),\n",
        "            nn.LeakyReLU(),\n",
        "            nn.ConvTranspose2d(in_channels=conv1[1],out_channels=conv1[0],kernel_size=conv1[2],stride=conv1[3],padding=conv1[4]),\n",
        "            )\n",
        "        \n",
        "        self.mu = nn.Linear((64 * 7 * 7)+n_classes, latent_size) # +1 for class label\n",
        "        self.logvar = nn.Linear((64 * 7 * 7)+n_classes, latent_size) # +1 for class label\n",
        "        self.upsample = nn.Linear(latent_size+n_classes, 64 * 7 * 7)\n",
        "        \n",
        "        \n",
        "    def reparameterize(self, mu, logvar):\n",
        "        std = torch.exp(0.5*logvar)\n",
        "        eps = torch.randn_like(std)\n",
        "        return eps.mul(std).add_(mu)\n",
        "\n",
        "\n",
        "    def generate(self, t):\n",
        "      z = torch.randn(self.latent_size).to(device)\n",
        "      z = z.view(-1, self.latent_size)\n",
        "      z = torch.cat((z, t), dim=-1)\n",
        "      z = self.upsample(z)\n",
        "      z = z.view(-1,64,7,7)\n",
        "      z = self.decoder(z)\n",
        "      return z\n",
        "\n",
        "    # https://debuggercafe.com/getting-started-with-variational-autoencoder-using-pytorch/    \n",
        "    def forward(self, x, t):\n",
        "        # encoding\n",
        "        x = self.encoder(x)\n",
        "        x = x.view(-1,64*7*7) # flatten\n",
        "        # print(x.shape)\n",
        "        # print(t.shape)\n",
        "        # t = t.view(-1, n_classes)\n",
        "        x = torch.cat((x,t), dim=-1)\n",
        "        \n",
        "        mu = self.mu(x)\n",
        "        log_var = self.logvar(x)\n",
        "        \n",
        "        # get the latent vector through reparameterization\n",
        "        z = self.reparameterize(mu, log_var)\n",
        "        # decoding\n",
        "        z = torch.cat((z, t), dim=-1)\n",
        "        z = self.upsample(z)\n",
        "\n",
        "        z = z.view(-1,64,7,7)\n",
        "        \n",
        "        x = self.decoder(z)\n",
        "        reconstruction = torch.sigmoid(x)\n",
        "        \n",
        "        return reconstruction, mu, log_var\n",
        "\n",
        "\n",
        "vae = VariationalAutoEncoder(latent_size)\n",
        "print(vae)\n",
        "\n",
        "# Test implementation\n",
        "vae.to(device)\n",
        "x, y = example_data[:2].to(device), torch.nn.functional.one_hot(example_targets[:2]).to(device)\n",
        "vae(x, y)"
      ],
      "execution_count": 165,
      "outputs": [
        {
          "output_type": "stream",
          "text": [
            "VariationalAutoEncoder(\n",
            "  (encoder): Sequential(\n",
            "    (0): Conv2d(1, 32, kernel_size=(4, 4), stride=(1, 1), padding=(2, 2))\n",
            "    (1): LeakyReLU(negative_slope=0.01)\n",
            "    (2): Conv2d(32, 32, kernel_size=(4, 4), stride=(2, 2), padding=(1, 1))\n",
            "    (3): LeakyReLU(negative_slope=0.01)\n",
            "    (4): Conv2d(32, 64, kernel_size=(4, 4), stride=(2, 2), padding=(1, 1))\n",
            "  )\n",
            "  (decoder): Sequential(\n",
            "    (0): ConvTranspose2d(64, 32, kernel_size=(4, 4), stride=(2, 2), padding=(1, 1))\n",
            "    (1): LeakyReLU(negative_slope=0.01)\n",
            "    (2): ConvTranspose2d(32, 32, kernel_size=(4, 4), stride=(2, 2), padding=(1, 1), output_padding=(1, 1))\n",
            "    (3): LeakyReLU(negative_slope=0.01)\n",
            "    (4): ConvTranspose2d(32, 1, kernel_size=(4, 4), stride=(1, 1), padding=(2, 2))\n",
            "  )\n",
            "  (mu): Linear(in_features=3139, out_features=15, bias=True)\n",
            "  (logvar): Linear(in_features=3139, out_features=15, bias=True)\n",
            "  (upsample): Linear(in_features=18, out_features=3136, bias=True)\n",
            ")\n"
          ],
          "name": "stdout"
        },
        {
          "output_type": "execute_result",
          "data": {
            "text/plain": [
              "(tensor([[[[0.4388, 0.4583, 0.4087,  ..., 0.4418, 0.4458, 0.4483],\n",
              "           [0.4379, 0.4300, 0.4294,  ..., 0.4084, 0.4426, 0.4284],\n",
              "           [0.4377, 0.4464, 0.4252,  ..., 0.4632, 0.4325, 0.4654],\n",
              "           ...,\n",
              "           [0.4290, 0.4283, 0.4178,  ..., 0.4120, 0.4136, 0.4275],\n",
              "           [0.4441, 0.4276, 0.4369,  ..., 0.4565, 0.4451, 0.4522],\n",
              "           [0.4302, 0.4382, 0.4450,  ..., 0.4243, 0.4348, 0.4451]]],\n",
              " \n",
              " \n",
              "         [[[0.4299, 0.4556, 0.4155,  ..., 0.4736, 0.4271, 0.4514],\n",
              "           [0.4124, 0.4073, 0.4438,  ..., 0.3995, 0.4579, 0.4245],\n",
              "           [0.4478, 0.4360, 0.4453,  ..., 0.4672, 0.4556, 0.4586],\n",
              "           ...,\n",
              "           [0.4330, 0.4421, 0.4312,  ..., 0.4078, 0.4547, 0.4215],\n",
              "           [0.4418, 0.4624, 0.4744,  ..., 0.4568, 0.4390, 0.4570],\n",
              "           [0.4378, 0.4279, 0.4285,  ..., 0.4365, 0.4296, 0.4272]]]],\n",
              "        device='cuda:0', grad_fn=<SigmoidBackward>),\n",
              " tensor([[ 0.0601, -0.0088, -0.0040, -0.0539, -0.0429,  0.0506,  0.0034, -0.0552,\n",
              "           0.0260,  0.0875,  0.0442, -0.0084,  0.0109, -0.0803,  0.0340],\n",
              "         [ 0.0294, -0.0342,  0.0324, -0.0450, -0.0427,  0.0849,  0.0047, -0.0822,\n",
              "          -0.0041,  0.1072,  0.0134,  0.0136,  0.0312, -0.1392,  0.0061]],\n",
              "        device='cuda:0', grad_fn=<AddmmBackward>),\n",
              " tensor([[ 0.0082, -0.0034,  0.0637, -0.0220, -0.0854, -0.0178, -0.0254,  0.0260,\n",
              "           0.0054,  0.0016,  0.0517, -0.0337, -0.0053, -0.0131,  0.0027],\n",
              "         [ 0.0120,  0.0593,  0.0915, -0.0407, -0.1235, -0.0137, -0.0348,  0.0520,\n",
              "           0.0240, -0.0091,  0.0562, -0.0565,  0.0441, -0.0221,  0.0173]],\n",
              "        device='cuda:0', grad_fn=<AddmmBackward>))"
            ]
          },
          "metadata": {
            "tags": []
          },
          "execution_count": 165
        }
      ]
    },
    {
      "cell_type": "markdown",
      "metadata": {
        "id": "u9VUKdRdmAEQ"
      },
      "source": [
        "### KL"
      ]
    },
    {
      "cell_type": "markdown",
      "metadata": {
        "id": "wmA_yhpnmAEQ"
      },
      "source": [
        "### Visualisation"
      ]
    },
    {
      "cell_type": "markdown",
      "metadata": {
        "id": "8D2400GAmAER"
      },
      "source": [
        "### Training"
      ]
    },
    {
      "cell_type": "code",
      "metadata": {
        "id": "2TzwFsW2mAER"
      },
      "source": [
        "vae = VariationalAutoEncoder(latent_size=latent_size)\n",
        "optimizer = optim.Adam(vae.parameters(),lr=learning_rate)\n",
        "criterion = nn.BCELoss(reduction='sum')\n"
      ],
      "execution_count": 167,
      "outputs": []
    },
    {
      "cell_type": "code",
      "metadata": {
        "id": "2nsmyeIcmAET"
      },
      "source": [
        "def fit_vae(vae, train_loader):\n",
        "    vae.train()\n",
        "    running_loss = 0.0\n",
        "    # Run each batch in training dataset\n",
        "    for x, y in train_loader:\n",
        "        # x.view?\n",
        "        x = x.to(device)\n",
        "        y = torch.nn.functional.one_hot(y).to(device)\n",
        "        optimizer.zero_grad()\n",
        "        reconstruction, mu, logvar = vae(x, y)\n",
        "        bce_loss = criterion(reconstruction, x)\n",
        "        loss = final_loss(bce_loss, mu, logvar)\n",
        "        running_loss += loss.item()\n",
        "        loss.backward()\n",
        "        optimizer.step()\n",
        "        \n",
        "    train_loss = running_loss/len(train_loader.dataset)\n",
        "    return train_loss\n",
        "\n",
        "def test_vae(vae, test_loader):\n",
        "    vae.eval()\n",
        "    running_loss = 0.0\n",
        "    with torch.no_grad():\n",
        "        for x, y in test_loader:\n",
        "            # x.view?\n",
        "            x = x.to(device)\n",
        "            y = torch.nn.functional.one_hot(y).to(device)\n",
        "            reconstruction, mu, logvar = vae(x, y)\n",
        "            bce_loss = criterion(reconstruction, x)\n",
        "            loss = final_loss(bce_loss, mu, logvar)\n",
        "            running_loss += loss.item()\n",
        "            \n",
        "    val_loss = running_loss/len(test_loader.dataset)\n",
        "    return val_loss\n",
        "            "
      ],
      "execution_count": 168,
      "outputs": []
    },
    {
      "cell_type": "code",
      "metadata": {
        "id": "ItFXJeM9mAEV",
        "outputId": "bcf0d53b-f891-4932-9148-59bf2a9a3f29",
        "colab": {
          "base_uri": "https://localhost:8080/"
        }
      },
      "source": [
        "device = torch.device(\"cuda:0\" if torch.cuda.is_available() else \"cpu\")\n",
        "print(f\">> Using device: {device}\")\n",
        "vae = vae.to(device)\n",
        "\n",
        "##\n",
        "train_loss = []\n",
        "test_loss = []\n",
        "num_epochs = 5\n",
        "\n",
        "for current_epoch in range(num_epochs):\n",
        "    print(f\"Epoch {current_epoch+1} of {num_epochs}\")\n",
        "    train_epoch_loss = fit_vae(vae, train_loader)\n",
        "    test_epoch_loss = test_vae(vae, test_loader)\n",
        "    train_loss.append(train_epoch_loss)\n",
        "    test_loss.append(test_epoch_loss)\n",
        "    print(f\"Train Loss: {train_epoch_loss:.4f}\")\n",
        "    print(f\"Val Loss: {test_epoch_loss:.4f}\")\n",
        "    "
      ],
      "execution_count": 169,
      "outputs": [
        {
          "output_type": "stream",
          "text": [
            ">> Using device: cuda:0\n",
            "Epoch 1 of 5\n",
            "Train Loss: 89.2242\n",
            "Val Loss: 78.6743\n",
            "Epoch 2 of 5\n",
            "Train Loss: 76.4387\n",
            "Val Loss: 76.4925\n",
            "Epoch 3 of 5\n",
            "Train Loss: 75.0830\n",
            "Val Loss: 76.7072\n",
            "Epoch 4 of 5\n",
            "Train Loss: 74.4312\n",
            "Val Loss: 75.2964\n",
            "Epoch 5 of 5\n",
            "Train Loss: 74.0293\n",
            "Val Loss: 74.9163\n"
          ],
          "name": "stdout"
        }
      ]
    },
    {
      "cell_type": "code",
      "metadata": {
        "id": "7k415MXVmAEY",
        "outputId": "1f44499c-b10d-486f-f95c-d9160242f658",
        "colab": {
          "base_uri": "https://localhost:8080/",
          "height": 278
        }
      },
      "source": [
        "# examples = enumerate(test_loader)\n",
        "batch_idx, (example_data, example_targets) = next(examples)\n",
        "\n",
        "with torch.no_grad():\n",
        "  output,_,_ = vae(example_data.to(device), torch.nn.functional.one_hot(example_targets).to(device))\n",
        "\n",
        "fig = plt.figure()\n",
        "for i in range(6):\n",
        "  plt.subplot(2,3,i+1)\n",
        "  plt.tight_layout()\n",
        "  plt.imshow(output.cpu()[i][0], cmap='gray', interpolation='none')\n",
        "  plt.xticks([])\n",
        "  plt.yticks([])\n",
        "fig.show()"
      ],
      "execution_count": 170,
      "outputs": [
        {
          "output_type": "display_data",
          "data": {
            "image/png": "[encoded data removed]",
            "text/plain": [
              "<Figure size 432x288 with 6 Axes>"
            ]
          },
          "metadata": {
            "tags": []
          }
        }
      ]
    },
    {
      "cell_type": "code",
      "metadata": {
        "id": "Hi4lNbnzM8Tf",
        "outputId": "16af4b85-617b-40f9-a8ff-a1f03e6ead20",
        "colab": {
          "base_uri": "https://localhost:8080/",
          "height": 1000
        }
      },
      "source": [
        "for i in range(10):\n",
        "  with torch.no_grad():\n",
        "    y = torch.tensor([0,1,0]).to(device) # 0 for t-shirt, 1 for trouser, 2 for pullover\n",
        "    y = y.view(-1, 3)\n",
        "    out = vae.generate(y)\n",
        "\n",
        "  fig = plt.figure()\n",
        "  plt.imshow(out.cpu()[0][0], cmap='gray', interpolation='none')\n",
        "  plt.xticks([])\n",
        "  plt.yticks([])\n",
        "\n",
        "  fig.show()"
      ],
      "execution_count": 183,
      "outputs": [
        {
          "output_type": "display_data",
          "data": {
            "image/png": "[encoded data removed]",
            "text/plain": [
              "<Figure size 432x288 with 1 Axes>"
            ]
          },
          "metadata": {
            "tags": []
          }
        },
        {
          "output_type": "display_data",
          "data": {
            "image/png": "[encoded data removed]",
            "text/plain": [
              "<Figure size 432x288 with 1 Axes>"
            ]
          },
          "metadata": {
            "tags": []
          }
        },
        {
          "output_type": "display_data",
          "data": {
            "image/png": "[encoded data removed]",
            "text/plain": [
              "<Figure size 432x288 with 1 Axes>"
            ]
          },
          "metadata": {
            "tags": []
          }
        },
        {
          "output_type": "display_data",
          "data": {
            "image/png": "[encoded data removed]",
            "text/plain": [
              "<Figure size 432x288 with 1 Axes>"
            ]
          },
          "metadata": {
            "tags": []
          }
        },
        {
          "output_type": "display_data",
          "data": {
            "image/png": "[encoded data removed]",
            "text/plain": [
              "<Figure size 432x288 with 1 Axes>"
            ]
          },
          "metadata": {
            "tags": []
          }
        },
        {
          "output_type": "display_data",
          "data": {
            "image/png": "[encoded data removed]",
            "text/plain": [
              "<Figure size 432x288 with 1 Axes>"
            ]
          },
          "metadata": {
            "tags": []
          }
        },
        {
          "output_type": "display_data",
          "data": {
            "image/png": "[encoded data removed]",
            "text/plain": [
              "<Figure size 432x288 with 1 Axes>"
            ]
          },
          "metadata": {
            "tags": []
          }
        },
        {
          "output_type": "display_data",
          "data": {
            "image/png": "[encoded data removed]",
            "text/plain": [
              "<Figure size 432x288 with 1 Axes>"
            ]
          },
          "metadata": {
            "tags": []
          }
        },
        {
          "output_type": "display_data",
          "data": {
            "image/png": "[encoded data removed]",
            "text/plain": [
              "<Figure size 432x288 with 1 Axes>"
            ]
          },
          "metadata": {
            "tags": []
          }
        },
        {
          "output_type": "display_data",
          "data": {
            "image/png": "[encoded data removed]",
            "text/plain": [
              "<Figure size 432x288 with 1 Axes>"
            ]
          },
          "metadata": {
            "tags": []
          }
        }
      ]
    },
    {
      "cell_type": "code",
      "metadata": {
        "id": "awfY_4dcYjpQ",
        "outputId": "ae88381b-c896-4512-b59e-5abd8b9bb561",
        "colab": {
          "base_uri": "https://localhost:8080/"
        }
      },
      "source": [
        "y = torch.tensor([2]) # 0 for t-shirt, 1 for trouser, 2 for pullover\n",
        "y = torch.nn.functional.one_hot(y).to(device)\n",
        "y.view(-1, n_classes)"
      ],
      "execution_count": 164,
      "outputs": [
        {
          "output_type": "execute_result",
          "data": {
            "text/plain": [
              "tensor([[0, 0, 1]], device='cuda:0')"
            ]
          },
          "metadata": {
            "tags": []
          },
          "execution_count": 164
        }
      ]
    },
    {
      "cell_type": "code",
      "metadata": {
        "id": "XdVqEsZMfTw3",
        "outputId": "a8557456-a2ec-40ba-a29d-38d35f4883b8",
        "colab": {
          "base_uri": "https://localhost:8080/"
        }
      },
      "source": [
        "torch.tensor([0,1,0]).to(device).shape"
      ],
      "execution_count": 177,
      "outputs": [
        {
          "output_type": "execute_result",
          "data": {
            "text/plain": [
              "torch.Size([3])"
            ]
          },
          "metadata": {
            "tags": []
          },
          "execution_count": 177
        }
      ]
    },
    {
      "cell_type": "code",
      "metadata": {
        "id": "7PGtmQXigcOc",
        "outputId": "2ee0e357-c032-424d-d4bf-9a19df1f6a1f",
        "colab": {
          "base_uri": "https://localhost:8080/"
        }
      },
      "source": [
        "y.shape"
      ],
      "execution_count": 178,
      "outputs": [
        {
          "output_type": "execute_result",
          "data": {
            "text/plain": [
              "torch.Size([3])"
            ]
          },
          "metadata": {
            "tags": []
          },
          "execution_count": 178
        }
      ]
    },
    {
      "cell_type": "code",
      "metadata": {
        "id": "dCMzACzxgeIR"
      },
      "source": [
        ""
      ],
      "execution_count": null,
      "outputs": []
    }
  ]
}