{
  "nbformat": 4,
  "nbformat_minor": 0,
  "metadata": {
    "kernelspec": {
      "display_name": "Python 3",
      "language": "python",
      "name": "python3"
    },
    "language_info": {
      "codemirror_mode": {
        "name": "ipython",
        "version": 3
      },
      "file_extension": ".py",
      "mimetype": "text/x-python",
      "name": "python",
      "nbconvert_exporter": "python",
      "pygments_lexer": "ipython3",
      "version": "3.8.5"
    },
    "colab": {
      "name": "proj-CVAE_tobias.ipynb",
      "provenance": [],
      "collapsed_sections": []
    },
    "accelerator": "GPU"
  },
  "cells": [
    {
      "cell_type": "markdown",
      "metadata": {
        "id": "RYHPzJ4smAD1"
      },
      "source": [
        "# Conditional VAE\n"
      ]
    },
    {
      "cell_type": "markdown",
      "metadata": {
        "id": "gqkMmWmbmAD2"
      },
      "source": [
        "## Library imports\n",
        "The following code contains the required libraries for the notebook."
      ]
    },
    {
      "cell_type": "code",
      "metadata": {
        "id": "2UlGYkx9mAD2",
        "outputId": "847a9584-e4ca-45a0-b79b-77b58d71a970",
        "colab": {
          "base_uri": "https://localhost:8080/"
        }
      },
      "source": [
        "import numpy as np\n",
        "import matplotlib.pyplot as plt\n",
        "\n",
        "import torch\n",
        "import torch.nn as nn\n",
        "import torch.nn.functional as F\n",
        "import torch.optim as optim\n",
        "\n",
        "from torch.utils.data import DataLoader\n",
        "from torch.utils.data.sampler import SubsetRandomSampler\n",
        "\n",
        "import torchvision\n",
        "from torchvision import transforms\n",
        "from torchvision.utils import make_grid\n",
        "\n",
        "#import ...\n",
        "device = torch.device(\"cuda:0\" if torch.cuda.is_available() else \"cpu\")\n",
        "print(f\">> Using device: {device}\")"
      ],
      "execution_count": 1,
      "outputs": [
        {
          "output_type": "stream",
          "text": [
            ">> Using device: cuda:0\n"
          ],
          "name": "stdout"
        }
      ]
    },
    {
      "cell_type": "markdown",
      "metadata": {
        "id": "ECNul7nYmAEC"
      },
      "source": [
        "## Fashion MNIST"
      ]
    },
    {
      "cell_type": "code",
      "metadata": {
        "id": "QlD1JE7EmAED"
      },
      "source": [
        "from torch.utils.data import DataLoader\n",
        "from torch.utils.data.sampler import SubsetRandomSampler\n",
        "from torchvision.datasets import FashionMNIST\n",
        "from torchvision.transforms import ToTensor\n",
        "from functools import reduce\n",
        "\n",
        "\n",
        "classes = [0, 1, 2]\n",
        "n_classes = len(classes)\n",
        "batch_size = 128\n",
        "eval_batch_size = 64\n",
        "\n",
        "# transforms into tensor, can be extend\n",
        "transformations = transforms.Compose([transforms.ToTensor()]) \n",
        "\n",
        "\n",
        "# Define the train and test sets\n",
        "dset_train = FashionMNIST(\"./\", train=True,  transform=transformations, download=True)\n",
        "dset_test  = FashionMNIST(\"./\", train=False, transform=transformations)\n",
        "\n",
        "\n",
        "def stratified_sampler(labels):\n",
        "    \"\"\"Sampler that only picks datapoints corresponding to the specified classes\"\"\"\n",
        "    (indices,) = np.where(reduce(lambda x, y: x | y, [labels.numpy() == i for i in classes]))\n",
        "    indices = torch.from_numpy(indices)\n",
        "    return SubsetRandomSampler(indices)\n",
        "\n",
        "# load the datasets into DataLoader classes, sampler removed!\n",
        "# The loaders perform the actual work\n",
        "train_loader = DataLoader(dset_train, batch_size=batch_size,\n",
        "                          sampler=stratified_sampler(dset_train.targets))\n",
        "test_loader  = DataLoader(dset_test, batch_size=eval_batch_size, \n",
        "                          sampler=stratified_sampler(dset_test.targets))\n"
      ],
      "execution_count": 2,
      "outputs": []
    },
    {
      "cell_type": "code",
      "metadata": {
        "id": "eHy-024QmAEF",
        "outputId": "94a115dc-8498-464e-e576-0fba08e2650f",
        "colab": {
          "base_uri": "https://localhost:8080/",
          "height": 284
        }
      },
      "source": [
        "# https://nextjournal.com/gkoehler/pytorch-mnist\n",
        "# Print from testset\n",
        "examples = enumerate(test_loader)\n",
        "batch_idx, (example_data, example_targets) = next(examples)\n",
        "\n",
        "\n",
        "fig = plt.figure()\n",
        "for i in range(6):\n",
        "  plt.subplot(2,3,i+1)\n",
        "  plt.tight_layout()\n",
        "  plt.imshow(example_data[i][0], cmap='gray', interpolation='none')\n",
        "  plt.title(\"Ground Truth: {}\".format(example_targets[i]))\n",
        "  plt.xticks([])\n",
        "  plt.yticks([])\n",
        "\n",
        "plt.show()"
      ],
      "execution_count": 3,
      "outputs": [
        {
          "output_type": "display_data",
          "data": {
            "image/png": "[encoded data removed]",
            "text/plain": [
              "<Figure size 432x288 with 6 Axes>"
            ]
          },
          "metadata": {
            "tags": []
          }
        }
      ]
    },
    {
      "cell_type": "markdown",
      "metadata": {
        "id": "AIYYgKYKmAEI"
      },
      "source": [
        "## The Model \n",
        "\n",
        "inspired by: https://www.kaggle.com/ethanwharris/fashion-mnist-vae-with-pytorch-and-torchbearer"
      ]
    },
    {
      "cell_type": "code",
      "metadata": {
        "id": "y4hHCrowmAEI"
      },
      "source": [
        "#https://debuggercafe.com/getting-started-with-variational-autoencoder-using-pytorch/\n",
        "def final_loss(bce_loss, mu, logvar):\n",
        "    BCE = bce_loss\n",
        "    KLD = -.5 * torch.sum(1 + logvar - mu.pow(2) - logvar.exp())\n",
        "    \n",
        "    return BCE + KLD"
      ],
      "execution_count": 4,
      "outputs": []
    },
    {
      "cell_type": "markdown",
      "metadata": {
        "id": "WQlstg-dl4Ga"
      },
      "source": [
        "### Previous architectures\n",
        "\n",
        "```\n",
        "self.encoder = nn.Sequential(\n",
        "            nn.Conv2d(in_channels=conv1[0],out_channels=conv1[1],kernel_size=conv1[2],stride=conv1[3],padding=conv1[4]),\n",
        "            nn.LeakyReLU(),\n",
        "            nn.Conv2d(in_channels=conv2[0],out_channels=conv2[1],kernel_size=conv2[2],stride=conv2[3],padding=conv2[4]),\n",
        "            nn.LeakyReLU(),\n",
        "            nn.Conv2d(in_channels=conv3[0],out_channels=conv3[1],kernel_size=conv3[2],stride=conv3[3],padding=conv3[4]),\n",
        "        )\n",
        "        \n",
        "self.decoder = nn.Sequential(\n",
        "    nn.ConvTranspose2d(in_channels=conv3[1],out_channels=conv3[0],kernel_size=conv3[2],stride=conv3[3],padding=conv3[4]),\n",
        "    nn.LeakyReLU(),\n",
        "    nn.ConvTranspose2d(in_channels=conv2[1],out_channels=conv2[0],kernel_size=conv2[2],stride=conv2[3],padding=conv2[4],output_padding=1),\n",
        "    nn.LeakyReLU(),\n",
        "    nn.ConvTranspose2d(in_channels=conv1[1],out_channels=conv1[0],kernel_size=conv1[2],stride=conv1[3],padding=conv1[4]),\n",
        "    )\n",
        "```\n",
        "\n"
      ]
    },
    {
      "cell_type": "code",
      "metadata": {
        "id": "LNrUIgCSsuEj"
      },
      "source": [
        "def compute_conv_dim(w, f, p, s):\n",
        "    \"\"\"\n",
        "    W = conv_dim (width_out / height_out)\n",
        "    F = conv_kernel_dim\n",
        "    P = conv_padding_dim\n",
        "    S = conv_stride\n",
        "    \"\"\"\n",
        "    return int(w - f + 2 * p) / s + 1\n",
        "\n",
        "def swap_in_out(d):\n",
        "    d = d.copy() # copy dict to not edit vals inplace\n",
        "    n_in = d[\"in_channels\"]\n",
        "    d[\"in_channels\"] = d[\"out_channels\"]\n",
        "    d[\"out_channels\"] = n_in\n",
        "    return d\n",
        "\n",
        "NNprint_=True\n",
        "\n",
        "class NNprint(torch.nn.Module):\n",
        "    def forward(self, input):\n",
        "        if NNprint_==True:\n",
        "            print(input.shape)\n",
        "        return input\n"
      ],
      "execution_count": 6,
      "outputs": []
    },
    {
      "cell_type": "code",
      "metadata": {
        "id": "l32VnhoJmAEN",
        "outputId": "ea727cfa-b6a1-4f4c-99c2-8d7cf6c155f9",
        "colab": {
          "base_uri": "https://localhost:8080/"
        }
      },
      "source": [
        "# in, out, kernel, stride, padding\n",
        "keys = [\"in_channels\", \"out_channels\", \"kernel_size\", \"stride\", \"padding\"]\n",
        "conv1 = dict(zip(keys, [1, 32, 4, 1, 2]))\n",
        "conv2 = dict(zip(keys, [conv1[\"out_channels\"], 32, 4, 2, 1]))\n",
        "conv3 = dict(zip(keys, [conv2[\"out_channels\"], 64, 4, 2, 1]))\n",
        "\n",
        "#deconv1 = swap_in_out(conv1)\n",
        "#deconv2 = swap_in_out(conv2)\n",
        "#deconv3 = swap_in_out(conv3)\n",
        "\n",
        "deconv3 = dict(zip(keys, [64, 32, 4, 1, 2]))\n",
        "deconv2 = dict(zip(keys, [deconv3[\"out_channels\"], 32, 3, 2, 0]))\n",
        "deconv1 = dict(zip(keys, [deconv2[\"out_channels\"], 1, 4, 2, 0]))\n",
        "\n",
        "##Look at 7.2 to see how to make encoder and decoder take non-fixed size image. \n",
        "class VariationalAutoEncoder(nn.Module):\n",
        "    def __init__(self, latent_size, h_dim):\n",
        "        super(VariationalAutoEncoder,self).__init__()\n",
        "        self.latent_size = latent_size\n",
        "        self.h_dim = h_dim\n",
        "        \n",
        "        self.encoder = nn.Sequential(\n",
        "            nn.Conv2d(**conv1),\n",
        "            nn.ReLU(),\n",
        "            nn.BatchNorm2d(num_features=32), # num features fits previous channels_out\n",
        "            nn.Conv2d(**conv2),\n",
        "            nn.ReLU(),\n",
        "            nn.Conv2d(**conv3),\n",
        "            nn.ReLU(),\n",
        "        )\n",
        "        \n",
        "        self.decoder = nn.Sequential(\n",
        "            nn.ConvTranspose2d(**deconv3),\n",
        "            nn.ReLU(),\n",
        "            nn.ConvTranspose2d(**deconv2),\n",
        "            nn.ReLU(),\n",
        "            nn.ConvTranspose2d(**deconv1),\n",
        "            nn.ReLU(),\n",
        "            )\n",
        "        \n",
        "        self.mu = nn.Linear(self.h_dim+n_classes, latent_size) # +1 for class label\n",
        "        self.logvar = nn.Linear(self.h_dim+n_classes, latent_size) # +1 for class label\n",
        "        self.upsample = nn.Linear(self.latent_size+n_classes, h_dim)\n",
        "        \n",
        "        \n",
        "    def reparameterize(self, mu, logvar):\n",
        "        std = torch.exp(0.5*logvar)\n",
        "        eps = torch.randn_like(std)\n",
        "        return eps.mul(std).add_(mu)\n",
        "\n",
        "\n",
        "    def generate(self, t):\n",
        "      z = torch.randn(t.shape[0], self.latent_size).to(device)\n",
        "      z = z.view(-1, self.latent_size)\n",
        "      z = torch.cat((z, t), dim=-1)\n",
        "      z = self.upsample(z)\n",
        "      z = z.view(-1,64,7,7)\n",
        "      z = self.decoder(z)\n",
        "      return z\n",
        "\n",
        "    # https://debuggercafe.com/getting-started-with-variational-autoencoder-using-pytorch/    \n",
        "    def forward(self, x, t):\n",
        "        # encoding\n",
        "        x = self.encoder(x)\n",
        "        x = x.view(-1,self.h_dim) # flatten\n",
        "        x = torch.cat((x,t), dim=-1) # concat one-hot class vector to x\n",
        "        mu = self.mu(x)\n",
        "        log_var = self.logvar(x)\n",
        "        \n",
        "        # get the latent vector through reparameterization\n",
        "        z = self.reparameterize(mu, log_var)\n",
        "        # decoding\n",
        "        z = torch.cat((z, t), dim=-1) # concat one-hot class vector to z\n",
        "        z = self.upsample(z)\n",
        "\n",
        "        z = z.view(-1,64,7,7) # shape to images\n",
        "\n",
        "        x = self.decoder(z)\n",
        "        reconstruction = torch.sigmoid(x)\n",
        "        \n",
        "        return reconstruction, mu, log_var\n",
        "\n",
        "h_dim = (64*7*7)\n",
        "vae = VariationalAutoEncoder(latent_size, h_dim) # TODO: set z_dim to 16\n",
        "print(vae)\n",
        "\n",
        "# Test implementation\n",
        "vae.to(device)\n",
        "x = example_data[:2].to(device)\n",
        "y = torch.nn.functional.one_hot(example_targets[:2], num_classes=n_classes).to(device)\n",
        "o, m, lv = vae(x, y)\n",
        "o.shape"
      ],
      "execution_count": 7,
      "outputs": [
        {
          "output_type": "stream",
          "text": [
            "VariationalAutoEncoder(\n",
            "  (encoder): Sequential(\n",
            "    (0): Conv2d(1, 32, kernel_size=(4, 4), stride=(1, 1), padding=(2, 2))\n",
            "    (1): ReLU()\n",
            "    (2): BatchNorm2d(32, eps=1e-05, momentum=0.1, affine=True, track_running_stats=True)\n",
            "    (3): Conv2d(32, 32, kernel_size=(4, 4), stride=(2, 2), padding=(1, 1))\n",
            "    (4): ReLU()\n",
            "    (5): Conv2d(32, 64, kernel_size=(4, 4), stride=(2, 2), padding=(1, 1))\n",
            "    (6): ReLU()\n",
            "  )\n",
            "  (decoder): Sequential(\n",
            "    (0): ConvTranspose2d(64, 32, kernel_size=(4, 4), stride=(1, 1), padding=(2, 2))\n",
            "    (1): ReLU()\n",
            "    (2): ConvTranspose2d(32, 32, kernel_size=(3, 3), stride=(2, 2))\n",
            "    (3): ReLU()\n",
            "    (4): ConvTranspose2d(32, 1, kernel_size=(4, 4), stride=(2, 2))\n",
            "    (5): ReLU()\n",
            "  )\n",
            "  (mu): Linear(in_features=3139, out_features=15, bias=True)\n",
            "  (logvar): Linear(in_features=3139, out_features=15, bias=True)\n",
            "  (upsample): Linear(in_features=18, out_features=3136, bias=True)\n",
            ")\n"
          ],
          "name": "stdout"
        },
        {
          "output_type": "execute_result",
          "data": {
            "text/plain": [
              "torch.Size([2, 1, 28, 28])"
            ]
          },
          "metadata": {
            "tags": []
          },
          "execution_count": 7
        }
      ]
    },
    {
      "cell_type": "markdown",
      "metadata": {
        "id": "u9VUKdRdmAEQ"
      },
      "source": [
        "### KL"
      ]
    },
    {
      "cell_type": "markdown",
      "metadata": {
        "id": "wmA_yhpnmAEQ"
      },
      "source": [
        "### Visualisation"
      ]
    },
    {
      "cell_type": "markdown",
      "metadata": {
        "id": "8D2400GAmAER"
      },
      "source": [
        "### Training"
      ]
    },
    {
      "cell_type": "code",
      "metadata": {
        "id": "2TzwFsW2mAER"
      },
      "source": [
        "# settings\n",
        "latent_size = 32\n",
        "learning_rate = 1e-3\n",
        "\n",
        "vae = VariationalAutoEncoder(latent_size=latent_size, h_dim=h_dim)\n",
        "optimizer = optim.Adam(vae.parameters(),lr=learning_rate)\n",
        "criterion = nn.BCELoss(reduction='sum')"
      ],
      "execution_count": 27,
      "outputs": []
    },
    {
      "cell_type": "code",
      "metadata": {
        "id": "2nsmyeIcmAET"
      },
      "source": [
        "def fit_vae(vae, train_loader):\n",
        "    vae.train()\n",
        "    running_loss = 0.0\n",
        "    # Run each batch in training dataset\n",
        "    for x, y in train_loader:\n",
        "        # x.view?\n",
        "        x = x.to(device)\n",
        "        y = torch.nn.functional.one_hot(y).to(device)\n",
        "        optimizer.zero_grad()\n",
        "        reconstruction, mu, logvar = vae(x, y)\n",
        "        bce_loss = criterion(reconstruction, x)\n",
        "        loss = final_loss(bce_loss, mu, logvar)\n",
        "        running_loss += loss.item()\n",
        "        loss.backward()\n",
        "        optimizer.step()\n",
        "        \n",
        "    train_loss = running_loss/len(train_loader.dataset)\n",
        "    return train_loss\n",
        "\n",
        "def test_vae(vae, test_loader):\n",
        "    vae.eval()\n",
        "    running_loss = 0.0\n",
        "    with torch.no_grad():\n",
        "        for x, y in test_loader:\n",
        "            # x.view?\n",
        "            x = x.to(device)\n",
        "            y = torch.nn.functional.one_hot(y).to(device)\n",
        "            reconstruction, mu, logvar = vae(x, y)\n",
        "            bce_loss = criterion(reconstruction, x)\n",
        "            loss = final_loss(bce_loss, mu, logvar)\n",
        "            running_loss += loss.item()\n",
        "            \n",
        "    val_loss = running_loss/len(test_loader.dataset)\n",
        "    return val_loss\n",
        "            "
      ],
      "execution_count": 28,
      "outputs": []
    },
    {
      "cell_type": "code",
      "metadata": {
        "id": "ItFXJeM9mAEV",
        "outputId": "ce075e50-c65d-46ea-f3dd-0905b6bd9b59",
        "colab": {
          "base_uri": "https://localhost:8080/"
        }
      },
      "source": [
        "print(f\">> Using device: {device}\")\n",
        "vae = vae.to(device)\n",
        "\n",
        "train_loss = []\n",
        "test_loss = []\n",
        "num_epochs = 10\n",
        "\n",
        "for current_epoch in range(num_epochs):\n",
        "    print(f\"Epoch {current_epoch+1} of {num_epochs}\")\n",
        "    train_epoch_loss = fit_vae(vae, train_loader)\n",
        "    test_epoch_loss = test_vae(vae, test_loader)\n",
        "    train_loss.append(train_epoch_loss)\n",
        "    test_loss.append(test_epoch_loss)\n",
        "    print(f\"Train Loss: {train_epoch_loss:.4f}\")\n",
        "    print(f\"Val Loss: {test_epoch_loss:.4f}\")\n",
        "    "
      ],
      "execution_count": 29,
      "outputs": [
        {
          "output_type": "stream",
          "text": [
            ">> Using device: cuda:0\n",
            "Epoch 1 of 10\n",
            "Train Loss: 158.3647\n",
            "Val Loss: 155.0069\n",
            "Epoch 2 of 10\n",
            "Train Loss: 154.0056\n",
            "Val Loss: 153.8406\n",
            "Epoch 3 of 10\n",
            "Train Loss: 153.4092\n",
            "Val Loss: 153.5015\n",
            "Epoch 4 of 10\n",
            "Train Loss: 153.1810\n",
            "Val Loss: 153.4171\n",
            "Epoch 5 of 10\n",
            "Train Loss: 152.9924\n",
            "Val Loss: 153.2153\n",
            "Epoch 6 of 10\n",
            "Train Loss: 152.8531\n",
            "Val Loss: 153.2032\n",
            "Epoch 7 of 10\n",
            "Train Loss: 152.7345\n",
            "Val Loss: 153.2958\n",
            "Epoch 8 of 10\n",
            "Train Loss: 152.6951\n",
            "Val Loss: 152.9656\n",
            "Epoch 9 of 10\n",
            "Train Loss: 152.6906\n",
            "Val Loss: 152.9400\n",
            "Epoch 10 of 10\n",
            "Train Loss: 152.5404\n",
            "Val Loss: 152.9682\n"
          ],
          "name": "stdout"
        }
      ]
    },
    {
      "cell_type": "code",
      "metadata": {
        "id": "7k415MXVmAEY",
        "outputId": "a52e849a-4fce-423b-9df8-ecfa19f5eaa0",
        "colab": {
          "base_uri": "https://localhost:8080/",
          "height": 284
        }
      },
      "source": [
        "# examples = enumerate(test_loader)\n",
        "batch_idx, (example_data, example_targets) = next(examples)\n",
        "\n",
        "with torch.no_grad():\n",
        "  output,_,_ = vae(example_data.to(device), torch.nn.functional.one_hot(example_targets).to(device))\n",
        "\n",
        "fig = plt.figure()\n",
        "for i in range(6):\n",
        "  plt.subplot(2,3,i+1)\n",
        "  plt.tight_layout()\n",
        "  plt.imshow(output.cpu()[i][0], cmap='gray', interpolation='none')\n",
        "  plt.title(\"Ground Truth: {}\".format(example_targets[i]))\n",
        "  plt.xticks([])\n",
        "  plt.yticks([])\n",
        "fig.show()"
      ],
      "execution_count": 30,
      "outputs": [
        {
          "output_type": "display_data",
          "data": {
            "image/png": "[encoded data removed]",
            "text/plain": [
              "<Figure size 432x288 with 6 Axes>"
            ]
          },
          "metadata": {
            "tags": []
          }
        }
      ]
    },
    {
      "cell_type": "code",
      "metadata": {
        "id": "Hi4lNbnzM8Tf",
        "outputId": "3af97ecc-6d67-4db9-c503-7e593ec61383",
        "colab": {
          "base_uri": "https://localhost:8080/",
          "height": 1000
        }
      },
      "source": [
        "idx_class = 2\n",
        "y = torch.ones(10) * idx_class\n",
        "y = torch.nn.functional.one_hot(y.to(torch.int64), num_classes=n_classes).to(device)\n",
        "\n",
        "with torch.no_grad():\n",
        "  out = vae.generate(y)\n",
        "\n",
        "for i in range(10):\n",
        "  fig = plt.figure()\n",
        "  plt.imshow(out.cpu()[i][0], cmap='gray', interpolation='none')\n",
        "  plt.xticks([])\n",
        "  plt.yticks([])\n",
        "  fig.show()"
      ],
      "execution_count": 31,
      "outputs": [
        {
          "output_type": "display_data",
          "data": {
            "image/png": "[encoded data removed]",
            "text/plain": [
              "<Figure size 432x288 with 1 Axes>"
            ]
          },
          "metadata": {
            "tags": []
          }
        },
        {
          "output_type": "display_data",
          "data": {
            "image/png": "[encoded data removed]",
            "text/plain": [
              "<Figure size 432x288 with 1 Axes>"
            ]
          },
          "metadata": {
            "tags": []
          }
        },
        {
          "output_type": "display_data",
          "data": {
            "image/png": "[encoded data removed]",
            "text/plain": [
              "<Figure size 432x288 with 1 Axes>"
            ]
          },
          "metadata": {
            "tags": []
          }
        },
        {
          "output_type": "display_data",
          "data": {
            "image/png": "[encoded data removed]",
            "text/plain": [
              "<Figure size 432x288 with 1 Axes>"
            ]
          },
          "metadata": {
            "tags": []
          }
        },
        {
          "output_type": "display_data",
          "data": {
            "image/png": "[encoded data removed]",
            "text/plain": [
              "<Figure size 432x288 with 1 Axes>"
            ]
          },
          "metadata": {
            "tags": []
          }
        },
        {
          "output_type": "display_data",
          "data": {
            "image/png": "[encoded data removed]",
            "text/plain": [
              "<Figure size 432x288 with 1 Axes>"
            ]
          },
          "metadata": {
            "tags": []
          }
        },
        {
          "output_type": "display_data",
          "data": {
            "image/png": "[encoded data removed]",
            "text/plain": [
              "<Figure size 432x288 with 1 Axes>"
            ]
          },
          "metadata": {
            "tags": []
          }
        },
        {
          "output_type": "display_data",
          "data": {
            "image/png": "[encoded data removed]",
            "text/plain": [
              "<Figure size 432x288 with 1 Axes>"
            ]
          },
          "metadata": {
            "tags": []
          }
        },
        {
          "output_type": "display_data",
          "data": {
            "image/png": "[encoded data removed]",
            "text/plain": [
              "<Figure size 432x288 with 1 Axes>"
            ]
          },
          "metadata": {
            "tags": []
          }
        },
        {
          "output_type": "display_data",
          "data": {
            "image/png": "[encoded data removed]",
            "text/plain": [
              "<Figure size 432x288 with 1 Axes>"
            ]
          },
          "metadata": {
            "tags": []
          }
        }
      ]
    },
    {
      "cell_type": "code",
      "metadata": {
        "id": "iHpWUwXdkL6q"
      },
      "source": [
        ""
      ],
      "execution_count": null,
      "outputs": []
    }
  ]
}