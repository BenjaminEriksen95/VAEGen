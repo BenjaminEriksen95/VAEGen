{
  "nbformat": 4,
  "nbformat_minor": 0,
  "metadata": {
    "kernelspec": {
      "display_name": "Python 3",
      "language": "python",
      "name": "python3"
    },
    "language_info": {
      "codemirror_mode": {
        "name": "ipython",
        "version": 3
      },
      "file_extension": ".py",
      "mimetype": "text/x-python",
      "name": "python",
      "nbconvert_exporter": "python",
      "pygments_lexer": "ipython3",
      "version": "3.8.5"
    },
    "colab": {
      "name": "VAE_Project_M1_for_task_2-3.ipynb",
      "provenance": [],
      "collapsed_sections": []
    },
    "accelerator": "GPU"
  },
  "cells": [
    {
      "cell_type": "markdown",
      "metadata": {
        "id": "otvvAip7Kko3"
      },
      "source": [
        "# Semi-Supervised VAE Project\n",
        "## By VAEGen"
      ]
    },
    {
      "cell_type": "markdown",
      "metadata": {
        "id": "s_6l2tM9Kko4"
      },
      "source": [
        "## Setup"
      ]
    },
    {
      "cell_type": "markdown",
      "metadata": {
        "id": "LE0_IEDSKko4"
      },
      "source": [
        "### Import libraries"
      ]
    },
    {
      "cell_type": "code",
      "metadata": {
        "id": "cReuSxE4Kko4"
      },
      "source": [
        "import os\n",
        "import time\n",
        "import torch\n",
        "import argparse\n",
        "from functools import reduce\n",
        "# \n",
        "import numpy as np\n",
        "import pandas as pd\n",
        "import seaborn as sns\n",
        "import matplotlib.pyplot as plt\n",
        "from collections import defaultdict\n",
        "\n",
        "# Torch\n",
        "import torch\n",
        "from torch.distributions import Bernoulli\n",
        "from torch.utils.data import DataLoader\n",
        "from torch.utils.data.sampler import SubsetRandomSampler\n",
        "import torch.nn.functional as F\n",
        "\n",
        "# Torchvision\n",
        "import torchvision\n",
        "from torchvision import transforms\n",
        "from torchvision.datasets import MNIST\n",
        "from torchvision.datasets import FashionMNIST\n",
        "from torchvision.transforms import ToTensor"
      ],
      "execution_count": 1,
      "outputs": []
    },
    {
      "cell_type": "markdown",
      "metadata": {
        "id": "VHgNhco8Kko5"
      },
      "source": [
        "### Meta parameters"
      ]
    },
    {
      "cell_type": "code",
      "metadata": {
        "id": "d11hjw8zKko5"
      },
      "source": [
        "batch_size=32*8*2\n",
        "epochs=5\n",
        "learning_rate=1e-3\n",
        "latent_dim = 8\n",
        "device = torch.device('cuda' if torch.cuda.is_available() else 'cpu')\n",
        "device='cpu'\n",
        "#print layers, used for debugging\n",
        "NNprint_ = False\n",
        "classes=[0,1,2,3,4]\n",
        "num_classes=len(classes)"
      ],
      "execution_count": 2,
      "outputs": []
    },
    {
      "cell_type": "markdown",
      "metadata": {
        "id": "eauQ5ER9Kko5"
      },
      "source": [
        "### Import MNIST Dataset"
      ]
    },
    {
      "cell_type": "code",
      "metadata": {
        "id": "ONqyOK32Kko5"
      },
      "source": [
        "# transforms arrays into tensors, can be extended\n",
        "transformations = transforms.Compose([\n",
        "                          transforms.ToTensor(),\n",
        "                          transforms.Lambda(lambda p: Bernoulli(probs=p).sample())])\n",
        "\n",
        "# define the train and test sets\n",
        "dset_train = MNIST(root='data', train=True,  transform=transformations, download=True)\n",
        "dset_test  = MNIST(root='data', train=False, transform=transformations)\n",
        "\n",
        "def stratified_sampler(labels,classes):\n",
        "    \"\"\"Sampler that only picks datapoints corresponding to the specified classes\"\"\"\n",
        "    (indices,) = np.where(reduce(lambda x, y: x | y, [labels.numpy() == i for i in classes]))\n",
        "    indices = torch.from_numpy(indices)\n",
        "    return SubsetRandomSampler(indices)\n",
        "\n",
        "# The loaders perform the actual work\n",
        "train_loader = DataLoader(dset_train, batch_size=batch_size,\n",
        "                          sampler=stratified_sampler(dset_train.targets,classes))\n",
        "test_loader  = DataLoader(dset_test, batch_size=batch_size, \n",
        "                          sampler=stratified_sampler(dset_test.targets,classes))"
      ],
      "execution_count": 5,
      "outputs": []
    },
    {
      "cell_type": "markdown",
      "metadata": {
        "id": "p-6CSXtQKko5"
      },
      "source": [
        "### Import FashionMNIST Dataset"
      ]
    },
    {
      "cell_type": "code",
      "metadata": {
        "scrolled": true,
        "id": "FEOJn9eNKko5"
      },
      "source": [
        "train = FashionMNIST(\n",
        "    root='data', train=True, transform=transforms.ToTensor(),\n",
        "    download=True)\n",
        "test = FashionMNIST(\n",
        "    root='data', train=False, transform=transforms.ToTensor(),\n",
        "    download=False)"
      ],
      "execution_count": 4,
      "outputs": []
    },
    {
      "cell_type": "markdown",
      "metadata": {
        "id": "iBq7eFyCKko5"
      },
      "source": [
        "### Configure Loaders"
      ]
    },
    {
      "cell_type": "code",
      "metadata": {
        "id": "scJb6mLOKko5"
      },
      "source": [
        "train_loader = torch.utils.data.DataLoader(\n",
        "  train,\n",
        "  batch_size=batch_size,sampler=stratified_sampler(train.targets,classes))\n",
        "\n",
        "test_loader = torch.utils.data.DataLoader(\n",
        "  test,\n",
        "  batch_size=batch_size,sampler=stratified_sampler(test.targets,classes))"
      ],
      "execution_count": 6,
      "outputs": []
    },
    {
      "cell_type": "markdown",
      "metadata": {
        "id": "oI7Erbs8Kko5"
      },
      "source": [
        "### Plot examples"
      ]
    },
    {
      "cell_type": "code",
      "metadata": {
        "id": "fYOI8c1KKko5"
      },
      "source": [
        "\n",
        "examples = enumerate(test_loader)\n",
        "batch_idx, (example_data, example_targets) = next(examples)\n",
        "def plot_examples(model=None,sample=False,data=None):\n",
        "    if data is None:\n",
        "        if (model==None):\n",
        "            batch_idx, (data, example_targets) = next(examples)\n",
        "        else:\n",
        "            batch_idx, (data, example_targets) = next(examples)\n",
        "            if sample:\n",
        "                zeros=torch.zeros(num_classes,1024)\n",
        "                samples= torch.cat((torch.rand(latent_dim,1024),zeros)).T\n",
        "                data = model.sample(samples.to(device))\n",
        "            else:\n",
        "                data = model(data.to(device),example_targets)[0]\n",
        "        \n",
        "    fig = plt.figure()\n",
        "    fig.set_figheight(15)\n",
        "    fig.set_figwidth(15)\n",
        "    for i in range(64):\n",
        "        plt.subplot(8,8,i+1)\n",
        "        plt.tight_layout()\n",
        "        if model:\n",
        "            plt.imshow(data[i][0].cpu().data, cmap='gray', interpolation='none')\n",
        "        else:\n",
        "            plt.imshow(data[i][0], cmap='gray', interpolation='none')\n",
        "    #     plt.title(\"Ground Truth: {}\".format(example_targets[i]))\n",
        "        plt.xticks([])\n",
        "        plt.yticks([])"
      ],
      "execution_count": 6,
      "outputs": []
    },
    {
      "cell_type": "code",
      "metadata": {
        "colab": {
          "base_uri": "https://localhost:8080/",
          "height": 1000
        },
        "id": "wvcJsHB3Kko5",
        "outputId": "5d142d88-219c-439b-d184-388ec3772ef5"
      },
      "source": [
        "plot_examples()"
      ],
      "execution_count": 7,
      "outputs": [
        {
          "output_type": "display_data",
          "data": {
            "image/png": "[encoded data removed]",
            "text/plain": [
              "<Figure size 1080x1080 with 64 Axes>"
            ]
          },
          "metadata": {
            "tags": []
          }
        }
      ]
    },
    {
      "cell_type": "markdown",
      "metadata": {
        "id": "5-Qm0DN-Kko8"
      },
      "source": [
        "### Torch auxiliary modules"
      ]
    },
    {
      "cell_type": "code",
      "metadata": {
        "id": "qnuEiSNKKko8"
      },
      "source": [
        "class Flatten(torch.nn.Module):\n",
        "    def forward(self, input):\n",
        "        return input.view(input.size(0), -1)\n",
        "    \n",
        "class UnFlatten(torch.nn.Module):\n",
        "    def forward(self, input, size=1024):\n",
        "        return input.view(input.size(0), size, 1, 1)\n",
        "\n",
        "# Debugging module \n",
        "class NNprint(torch.nn.Module):\n",
        "    def forward(self, input):\n",
        "        if NNprint_==True:\n",
        "            print(input.shape)\n",
        "        return input  "
      ],
      "execution_count": 8,
      "outputs": []
    },
    {
      "cell_type": "markdown",
      "metadata": {
        "id": "nck2uJ6PKko8"
      },
      "source": [
        "## VAE"
      ]
    },
    {
      "cell_type": "code",
      "metadata": {
        "id": "jZJT7x8qKko8"
      },
      "source": [
        "#VAE implementation"
      ],
      "execution_count": null,
      "outputs": []
    },
    {
      "cell_type": "markdown",
      "metadata": {
        "id": "ZoMdnAHnKko8"
      },
      "source": [
        "## CVAE"
      ]
    },
    {
      "cell_type": "code",
      "metadata": {
        "id": "aBUpmNKAKko8"
      },
      "source": [
        "\n",
        "class CVAE(torch.nn.Module):\n",
        "    def __init__(self, image_channels=1, h_dim=1024, z_dim=32,num_labels=0):\n",
        "        super(CVAE, self).__init__()\n",
        "        self.encoder = torch.nn.Sequential(\n",
        "            NNprint(),\n",
        "            torch.nn.Conv2d(image_channels, 32, kernel_size=3, stride=2),\n",
        "            NNprint(),\n",
        "            torch.nn.LeakyReLU(),\n",
        "            torch.nn.Conv2d(32, 64, kernel_size=3, stride=2),\n",
        "            NNprint(),\n",
        "            torch.nn.LeakyReLU(),\n",
        "            torch.nn.Conv2d(64, 128, kernel_size=3, stride=1),\n",
        "            NNprint(),\n",
        "            torch.nn.LeakyReLU(),\n",
        "            torch.nn.Conv2d(128, 256, kernel_size=3, stride=1),\n",
        "            NNprint(),\n",
        "            torch.nn.LeakyReLU(),\n",
        "            Flatten(),\n",
        "            \n",
        "            \n",
        "            NNprint(),\n",
        "            \n",
        "        )\n",
        "        self.h_dim=h_dim\n",
        "        self.num_labels=num_labels\n",
        "        self.fc1 = torch.nn.Linear(h_dim, z_dim)\n",
        "        self.fc2 = torch.nn.Linear(h_dim, z_dim)\n",
        "        self.fc3 = torch.nn.Linear(z_dim+num_labels, h_dim)\n",
        "        \n",
        "        self.decoder = torch.nn.Sequential(\n",
        "            NNprint(),\n",
        "            UnFlatten(),\n",
        "            NNprint(),\n",
        "            torch.nn.ConvTranspose2d(h_dim, 128, kernel_size=4, stride=2),\n",
        "            torch.nn.LeakyReLU(),\n",
        "            NNprint(),\n",
        "            torch.nn.ConvTranspose2d(128, 64, kernel_size=5, stride=2),\n",
        "            torch.nn.LeakyReLU(),\n",
        "            NNprint(),\n",
        "            torch.nn.ConvTranspose2d(64, 32, kernel_size=4,padding=0, stride=2),\n",
        "            torch.nn.LeakyReLU(),\n",
        "            NNprint(),\n",
        "            torch.nn.ConvTranspose2d(32, image_channels, kernel_size=5, stride=1),\n",
        "            torch.nn.Sigmoid(),\n",
        "            NNprint(),\n",
        "        )\n",
        "        \n",
        "    def reparameterize(self, mu, logvar):\n",
        "        std = logvar.mul(0.5).exp_()\n",
        "        # return torch.normal(mu, std)\n",
        "        esp = torch.randn(*mu.size())\n",
        "        z = mu.to(device) + std.to(device) * esp.to(device)\n",
        "        return z\n",
        "    \n",
        "    def bottleneck(self, h,labels):\n",
        "        mu, logvar = self.fc1(h), self.fc2(h)\n",
        "        z = self.reparameterize(mu, logvar)\n",
        "        if self.num_labels>0:\n",
        "            z=torch.cat((z,torch.nn.functional.one_hot(labels,self.num_labels).type(torch.float).to(device)),1)\n",
        "        return z, mu, logvar\n",
        "\n",
        "    def encode(self, x,labels):\n",
        "        h = self.encoder(x)\n",
        "#         h=torch.cat((h,labels.float().reshape(labels.size(0),1).to(device)),dim=1)\n",
        "        z, mu, logvar = self.bottleneck(h,labels)\n",
        "        return z, mu, logvar\n",
        "\n",
        "    def decode(self, z):\n",
        "        z = self.fc3(z)\n",
        "        z = self.decoder(z)\n",
        "        return z\n",
        "\n",
        "    \n",
        "    \n",
        "    def forward(self, x,labels):\n",
        "        z, mu, logvar = self.encode(x,labels)\n",
        "#         print('z',z.shape)\n",
        "        z = self.decode(z)\n",
        "        return z, mu, logvar\n",
        "    \n",
        "    def elbo(self,recon_x, x, mu, logvar):\n",
        "        BCE = F.binary_cross_entropy(recon_x, x.to(device), size_average=False,reduction='sum' )\n",
        "        # BCE = F.mse_loss(recon_x, x, size_average=False)\n",
        "\n",
        "        # see Appendix B from VAE paper:\n",
        "        # Kingma and Welling. Auto-Encoding Variational Bayes. ICLR, 2014\n",
        "        # 0.5 * sum(1 + log(sigma^2) - mu^2 - sigma^2)\n",
        "        KLD = 0.5 * torch.mean(1 + logvar - mu.pow(2) - logvar.exp())\n",
        "        return BCE - KLD, BCE, KLD\n",
        "\n",
        "    def sample(self,z):\n",
        "        return self.decode(z)"
      ],
      "execution_count": 9,
      "outputs": []
    },
    {
      "cell_type": "code",
      "metadata": {
        "colab": {
          "base_uri": "https://localhost:8080/"
        },
        "id": "H6Uw0znDKko8",
        "outputId": "e5aff56c-0cec-4d75-b419-c2cde377c0b8"
      },
      "source": [
        "image_channels = example_data.size(1)\n",
        "image_channels"
      ],
      "execution_count": 10,
      "outputs": [
        {
          "output_type": "execute_result",
          "data": {
            "text/plain": [
              "1"
            ]
          },
          "metadata": {
            "tags": []
          },
          "execution_count": 10
        }
      ]
    },
    {
      "cell_type": "code",
      "metadata": {
        "id": "A4ZDcGOSKko9"
      },
      "source": [
        "model = CVAE(image_channels=image_channels,h_dim=1024,z_dim=latent_dim,num_labels=num_classes).to(device)\n",
        "optimizer = torch.optim.Adam(model.parameters(), lr=learning_rate)"
      ],
      "execution_count": 11,
      "outputs": []
    },
    {
      "cell_type": "code",
      "metadata": {
        "id": "oJVZdVuqKko9"
      },
      "source": [
        "def fit_model(model, train_loader):\n",
        "    model.train()\n",
        "    running_loss = 0.0\n",
        "    # Run each batch in training dataset\n",
        "    for idx, (images, labels) in enumerate(train_loader):\n",
        "        recon_images, mu, logvar = model(images.to(device),labels)\n",
        "        loss, bce, kld = model.elbo(recon_images, images, mu, logvar)\n",
        "        optimizer.zero_grad()\n",
        "        loss.backward()\n",
        "        optimizer.step()\n",
        "        running_loss += loss\n",
        "        \n",
        "    return running_loss/len(train_loader.dataset)\n",
        "    \n",
        "\n",
        "def test_model(model, test_loader):\n",
        "    model.eval()\n",
        "    running_loss = 0.0\n",
        "    with torch.no_grad():\n",
        "        for idx, (images, labels) in enumerate(test_loader):\n",
        "            recon_images, mu, logvar = model(images.to(device),labels)\n",
        "            loss, bce, kld = model.elbo(recon_images, images, mu, logvar)\n",
        "            running_loss += loss\n",
        "\n",
        "    return running_loss/len(test_loader.dataset)"
      ],
      "execution_count": 11,
      "outputs": []
    },
    {
      "cell_type": "code",
      "metadata": {
        "id": "cJney_KTKko9",
        "outputId": "21f62428-30ec-4011-9f2b-f4a2bc2bdb87"
      },
      "source": [
        "%%time\n",
        "##\n",
        "train_loss = []\n",
        "test_loss = []\n",
        "\n",
        "for epoch in range(epochs):\n",
        "    print(f\"Epoch {epoch+1} of {epochs}\")\n",
        "    train_epoch_loss = fit_model(model, train_loader)\n",
        "    test_epoch_loss = test_model(model, test_loader)\n",
        "    train_loss.append(train_epoch_loss)\n",
        "    test_loss.append(test_epoch_loss)\n",
        "    print(f\"Train Loss: {train_epoch_loss:.4f}\")\n",
        "    print(f\"Val Loss: {test_epoch_loss:.4f}\")\n",
        "\n",
        "torch.save(model.state_dict(), 'cvae.torch')\n"
      ],
      "execution_count": null,
      "outputs": [
        {
          "output_type": "stream",
          "text": [
            "Epoch 1 of 5\n",
            "Train Loss: 122.4315\n",
            "Val Loss: 122.2494\n",
            "Epoch 2 of 5\n",
            "Train Loss: 119.7727\n",
            "Val Loss: 119.6592\n",
            "Epoch 3 of 5\n",
            "Train Loss: 117.7296\n",
            "Val Loss: 118.1562\n",
            "Epoch 4 of 5\n"
          ],
          "name": "stdout"
        }
      ]
    },
    {
      "cell_type": "code",
      "metadata": {
        "id": "BYKGI7HbKko9"
      },
      "source": [
        "plot_examples()"
      ],
      "execution_count": null,
      "outputs": []
    },
    {
      "cell_type": "code",
      "metadata": {
        "id": "fjbG1dMmKko9"
      },
      "source": [
        "#Reconstructions\n",
        "plot_examples(model)\n"
      ],
      "execution_count": null,
      "outputs": []
    },
    {
      "cell_type": "code",
      "metadata": {
        "scrolled": false,
        "id": "5sQAVtTQKko-"
      },
      "source": [
        "# Sample latent space\n",
        "plot_examples(model,sample=True)"
      ],
      "execution_count": null,
      "outputs": []
    },
    {
      "cell_type": "markdown",
      "metadata": {
        "id": "OcDwVWZ4LQz9"
      },
      "source": [
        "# 2.3  Semi-Supervised VAE (M1)\n",
        "\n",
        "We have now trained a VAE on the full unlabeled dataset.  We will now implement the M1 model from Semi-Supervised Learning with Deep Generative Models. This amounts to simply traininga classifier on top of the representations learned by our VAE.\n",
        "\n",
        "1. Extract 100 labeled datapoints from MNIST (10 from each class).\n",
        "2.(Report) Train a classifier on their latent representation.  First try a linear classifier and then experiment with other types of classifiers.  Report the accuracies.\n",
        "3.(Report) Implement  some  simple  baselines:  Train  a  linear  classifier  or  neural  network  from scratch using only the 100 labeled data points.  Report the accuracies."
      ]
    },
    {
      "cell_type": "code",
      "metadata": {
        "id": "vA8nlOm0bpb5"
      },
      "source": [
        "# 0 Train VAE on all available data (X), without labels (y)\n",
        "\n",
        "model = CVAE(image_channels=image_channels,h_dim=1024,z_dim=latent_dim,num_labels=0).to(device)\n",
        "optimizer = torch.optim.Adam(model.parameters(), lr=learning_rate)"
      ],
      "execution_count": 12,
      "outputs": []
    },
    {
      "cell_type": "code",
      "metadata": {
        "colab": {
          "base_uri": "https://localhost:8080/"
        },
        "id": "dVjsLiA7buPi",
        "outputId": "f65362be-9235-4714-967c-83c6cf227b6f"
      },
      "source": [
        "##\n",
        "train_loss = []\n",
        "test_loss = []\n",
        "epochs=5\n",
        "learning_rate=1e-3\n",
        "\n",
        "for epoch in range(epochs):\n",
        "    print(f\"Epoch {epoch+1} of {epochs}\")\n",
        "    train_epoch_loss = fit_model(model, train_loader)\n",
        "    test_epoch_loss = test_model(model, test_loader)\n",
        "    train_loss.append(train_epoch_loss)\n",
        "    test_loss.append(test_epoch_loss)\n",
        "    print(f\"Train Loss: {train_epoch_loss:.4f}\")\n",
        "    print(f\"Val Loss: {test_epoch_loss:.4f}\")\n",
        "\n",
        "# torch.save(model.state_dict(), 'cvae.torch')"
      ],
      "execution_count": 13,
      "outputs": [
        {
          "output_type": "stream",
          "text": [
            "Epoch 1 of 5\n"
          ],
          "name": "stdout"
        },
        {
          "output_type": "stream",
          "text": [
            "/usr/local/lib/python3.6/dist-packages/torch/nn/_reduction.py:44: UserWarning: size_average and reduce args will be deprecated, please use reduction='sum' instead.\n",
            "  warnings.warn(warning.format(ret))\n"
          ],
          "name": "stderr"
        },
        {
          "output_type": "stream",
          "text": [
            "Train Loss: 117.6458\n",
            "Val Loss: 91.3892\n",
            "Epoch 2 of 5\n",
            "Train Loss: 80.4845\n",
            "Val Loss: 64.7040\n",
            "Epoch 3 of 5\n",
            "Train Loss: 55.2358\n",
            "Val Loss: 48.9142\n",
            "Epoch 4 of 5\n",
            "Train Loss: 47.4716\n",
            "Val Loss: 45.3025\n",
            "Epoch 5 of 5\n",
            "Train Loss: 44.6698\n",
            "Val Loss: 43.1558\n"
          ],
          "name": "stdout"
        }
      ]
    },
    {
      "cell_type": "code",
      "metadata": {
        "id": "JHPj9_YxLs2E"
      },
      "source": [
        "# 1 Extract 100 labeled datapoints from MNIST (10 from each class).\n",
        "\n",
        "def get_target_indexes(dset, n_class_examples):\n",
        "  idxs = []\n",
        "  ts = []\n",
        "  n_samples = n_class_examples * len(np.unique(dset_train.targets.numpy()))\n",
        "\n",
        "  for j, x in enumerate(dset.targets):\n",
        "    if (ts.count(x.numpy()) < n_class_examples):\n",
        "      ts.append(x.numpy())\n",
        "      idxs.append(j)\n",
        "\n",
        "    if len(idxs) == n_samples:\n",
        "      break\n",
        "\n",
        "  return idxs\n",
        "\n",
        "# np.unique(dset_train.targets[idxs].numpy(), return_counts=True)\n",
        "# torch.utils.data.Subset(dset_train, idxs)"
      ],
      "execution_count": 61,
      "outputs": []
    },
    {
      "cell_type": "code",
      "metadata": {
        "id": "2epGrH1beyzU"
      },
      "source": [
        "idx_train_subset = get_target_indexes(dset_train, 10)\n",
        "dset_train_subset = torch.utils.data.Subset(dset_train, idx_train_subset)\n",
        "\n",
        "dset_train_subset_loader = torch.utils.data.DataLoader(\n",
        "  dset_train_subset,\n",
        "  batch_size=1000)"
      ],
      "execution_count": 89,
      "outputs": []
    },
    {
      "cell_type": "code",
      "metadata": {
        "id": "NEL7JExweLGv"
      },
      "source": [
        "idx_test_subset = get_target_indexes(dset_test, 100)\n",
        "dset_test_subset = torch.utils.data.Subset(dset_test, idx_test_subset)\n",
        "\n",
        "dset_test_subset_loader = torch.utils.data.DataLoader(\n",
        "  dset_test_subset,\n",
        "  batch_size=100)"
      ],
      "execution_count": 95,
      "outputs": []
    },
    {
      "cell_type": "code",
      "metadata": {
        "colab": {
          "base_uri": "https://localhost:8080/"
        },
        "id": "Ojv6XFmtLz2q",
        "outputId": "344ff440-5f45-4f67-9d5e-953a5a34a053"
      },
      "source": [
        "# 2 (Report) Train a classifier on their latent representation. \n",
        "# First try a linear classifier and then experiment with other types of classifiers. Report the accuracies.\n",
        "\n",
        "from sklearn.linear_model import LogisticRegression\n",
        "\n",
        "model.eval()\n",
        "\n",
        "X_train = None\n",
        "\n",
        "with torch.no_grad():\n",
        "    for idx, (images, labels) in enumerate(dset_train_subset_loader):\n",
        "        recon_images, mu, logvar = model(images.to(device), None)\n",
        "        X_train = mu.numpy()\n",
        "\n",
        "y_train = dset_train.targets[idx_train_subset]\n",
        "clf = LogisticRegression(random_state=0).fit(X_train, y_train)\n",
        "\n",
        "print(\"Loss (train): \", clf.score(X_train, y_train))"
      ],
      "execution_count": 105,
      "outputs": [
        {
          "output_type": "stream",
          "text": [
            "Loss (train):  0.94\n"
          ],
          "name": "stdout"
        },
        {
          "output_type": "stream",
          "text": [
            "/usr/local/lib/python3.6/dist-packages/sklearn/linear_model/_logistic.py:940: ConvergenceWarning: lbfgs failed to converge (status=1):\n",
            "STOP: TOTAL NO. of ITERATIONS REACHED LIMIT.\n",
            "\n",
            "Increase the number of iterations (max_iter) or scale the data as shown in:\n",
            "    https://scikit-learn.org/stable/modules/preprocessing.html\n",
            "Please also refer to the documentation for alternative solver options:\n",
            "    https://scikit-learn.org/stable/modules/linear_model.html#logistic-regression\n",
            "  extra_warning_msg=_LOGISTIC_SOLVER_CONVERGENCE_MSG)\n"
          ],
          "name": "stderr"
        }
      ]
    },
    {
      "cell_type": "code",
      "metadata": {
        "colab": {
          "base_uri": "https://localhost:8080/"
        },
        "id": "KBW2i2nml-2C",
        "outputId": "5cfe9ce1-4554-408e-c6fc-1728110e1a0f"
      },
      "source": [
        "X_test = None\n",
        "err = []\n",
        "with torch.no_grad():\n",
        "    for idx, (images, labels) in enumerate(dset_test_subset_loader):\n",
        "        recon_images, mu, logvar = model(images.to(device), None)\n",
        "        X_test = mu.numpy()\n",
        "        y_test = labels.numpy()\n",
        "        err.append(clf.score(X_test, y_test))\n",
        "\n",
        "print(\"Mean loss (test): \", np.mean(np.array(err)))"
      ],
      "execution_count": 106,
      "outputs": [
        {
          "output_type": "stream",
          "text": [
            "[0.66, 0.59, 0.68, 0.58, 0.64, 0.62, 0.56, 0.69, 0.66, 0.54]\n",
            "Mean loss (test):  0.622\n"
          ],
          "name": "stdout"
        }
      ]
    },
    {
      "cell_type": "code",
      "metadata": {
        "id": "V82DkTSImjVn"
      },
      "source": [
        ""
      ],
      "execution_count": 100,
      "outputs": []
    },
    {
      "cell_type": "code",
      "metadata": {
        "id": "SmY2NIWVKko-"
      },
      "source": [
        "# \n",
        "\n",
        "z1 = torch.randn(1, latent_dim).to(device)\n",
        "z2 = torch.randn(1, latent_dim).to(device)\n",
        "z3 = torch.randn(1, latent_dim).to(device)\n",
        "z4 = torch.randn(1, latent_dim).to(device)\n",
        "\n",
        "y = torch.randint(0, 10,(1,1)).to(dtype=torch.long) # 10=number of classes\n",
        "y = torch.nn.functional.one_hot(y,10).type(torch.float).to(device,dtype=z.dtype)[0]\n",
        "\n",
        "z1 = torch.cat((z1,y),dim=1)\n",
        "z2 = torch.cat((z2,y),dim=1)\n",
        "z3 = torch.cat((z3,y),dim=1)\n",
        "z4 = torch.cat((z4,y),dim=1)\n",
        "\n",
        "print(z1)\n",
        "print(z2)\n",
        "print(z3)\n",
        "print(z4)\n",
        "rec1 = model.decode(z1)\n",
        "rec2 = model.decode(z2)\n",
        "rec3 = model.decode(z3)\n",
        "rec4 = model.decode(z4)\n",
        "\n",
        "img1 = rec1.view(28,28).data\n",
        "img2 = rec2.view(28,28).data\n",
        "img3 = rec3.view(28,28).data\n",
        "img4 = rec4.view(28,28).data\n"
      ],
      "execution_count": null,
      "outputs": []
    },
    {
      "cell_type": "code",
      "metadata": {
        "id": "cyaotocXKko-"
      },
      "source": [
        "plt.figure()\n",
        "plt.imshow(img1.to('cpu'), cmap='gray')"
      ],
      "execution_count": null,
      "outputs": []
    },
    {
      "cell_type": "code",
      "metadata": {
        "id": "GGx8hr_uKko-"
      },
      "source": [
        "plt.figure()\n",
        "plt.imshow(img2.to('cpu'), cmap='gray')"
      ],
      "execution_count": null,
      "outputs": []
    },
    {
      "cell_type": "code",
      "metadata": {
        "id": "iC6bN4D3Kko-"
      },
      "source": [
        "plt.figure()\n",
        "plt.imshow(img3.to('cpu'), cmap='gray')"
      ],
      "execution_count": null,
      "outputs": []
    },
    {
      "cell_type": "code",
      "metadata": {
        "id": "kMFNw4oJKko-"
      },
      "source": [
        "plt.figure()\n",
        "plt.imshow(img4.to('cpu'), cmap='gray')"
      ],
      "execution_count": null,
      "outputs": []
    },
    {
      "cell_type": "code",
      "metadata": {
        "id": "GOJBem2uKko_"
      },
      "source": [
        ""
      ],
      "execution_count": null,
      "outputs": []
    },
    {
      "cell_type": "code",
      "metadata": {
        "id": "5qD30Z3xKko_"
      },
      "source": [
        ""
      ],
      "execution_count": null,
      "outputs": []
    }
  ]
}